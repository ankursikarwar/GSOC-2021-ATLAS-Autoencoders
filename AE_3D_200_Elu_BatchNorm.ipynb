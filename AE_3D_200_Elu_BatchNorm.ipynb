{
 "cells": [
  {
   "cell_type": "markdown",
   "id": "julian-equivalent",
   "metadata": {},
   "source": [
    "## **In this notebook, we use following autoencoder for compression.**"
   ]
  },
  {
   "cell_type": "markdown",
   "id": "virgin-fever",
   "metadata": {},
   "source": [
    "><ul>\n",
    "><li>Preprocessing: Custom Normalization $E$ -> $(\\log_{10} E) / 3$, $p_T$ -> $(\\log_{10} p_T) / 3$, $\\eta$ -> $\\eta / 3$, $\\phi$ -> $\\phi / 3$</li>\n",
    "><li>Architecture: in-200-200-20-3-20-200-200-out</li>\n",
    "><li>Elu Activation</li>\n",
    "><li>BatchNorm</li>\n",
    "><li>Epoch: 200</li>\n",
    "></ul>"
   ]
  },
  {
   "cell_type": "code",
   "execution_count": 2,
   "id": "chinese-adobe",
   "metadata": {},
   "outputs": [],
   "source": [
    "import time\n",
    "import numpy as np\n",
    "import pandas as pd\n",
    "import matplotlib.pyplot as plt\n",
    "\n",
    "import torch\n",
    "import torch.nn as nn\n",
    "import torch.optim as optim\n",
    "import torch.utils.data\n",
    "from torch.autograd import Variable\n",
    "\n",
    "from torch.utils.data import TensorDataset\n",
    "from torch.utils.data import DataLoader\n",
    "\n",
    "from fastai import learner\n",
    "from fastai.data import core\n",
    "from fastai.metrics import mse\n",
    "from fastai.callback import schedule"
   ]
  },
  {
   "cell_type": "code",
   "execution_count": 28,
   "id": "little-genome",
   "metadata": {},
   "outputs": [],
   "source": [
    "params = {'legend.fontsize': 'x-large',\n",
    "          'figure.figsize': (15, 15),\n",
    "         'axes.labelsize': 'x-large',\n",
    "         'axes.titlesize':'x-large',\n",
    "         'xtick.labelsize':'x-large',\n",
    "         'ytick.labelsize':'x-large'}\n",
    "plt.rcParams.update(params)"
   ]
  },
  {
   "cell_type": "markdown",
   "id": "female-earth",
   "metadata": {},
   "source": [
    ">### **Data Preparation**"
   ]
  },
  {
   "cell_type": "code",
   "execution_count": 3,
   "id": "danish-colon",
   "metadata": {},
   "outputs": [],
   "source": [
    "unnormed_train_path = './jet_data_unnormed_80train.pkl'\n",
    "unnormed_test_path = './jet_data_unnormed_20test.pkl'\n",
    "\n",
    "unnormed_train = pd.read_pickle(unnormed_train_path)\n",
    "unnormed_test = pd.read_pickle(unnormed_test_path)"
   ]
  },
  {
   "cell_type": "code",
   "execution_count": 4,
   "id": "corrected-milton",
   "metadata": {},
   "outputs": [],
   "source": [
    "def get_custom_normalize_data():\n",
    "    \n",
    "    train = pd.read_pickle(unnormed_train_path)\n",
    "    test = pd.read_pickle(unnormed_test_path)\n",
    "    train['pt'] = train['pt'].apply(lambda x: np.log10(x) / 3.)\n",
    "    train['E'] = train['E'].apply(lambda x: np.log10(x)  / 3.)\n",
    "    train['eta'] = train['eta'] / 3.\n",
    "    train['phi'] = train['phi'] / 3.\n",
    "    \n",
    "    test['pt'] = test['pt'].apply(lambda x: np.log10(x) / 3.)\n",
    "    test['E'] = test['E'].apply(lambda x: np.log10(x) / 3.)\n",
    "    test['eta'] = test['eta'] / 3.\n",
    "    test['phi'] = test['phi'] / 3.\n",
    "\n",
    "    return train.astype('float32'), test.astype('float32')"
   ]
  },
  {
   "cell_type": "code",
   "execution_count": 5,
   "id": "novel-percentage",
   "metadata": {},
   "outputs": [],
   "source": [
    "train, test = get_custom_normalize_data()"
   ]
  },
  {
   "cell_type": "code",
   "execution_count": 6,
   "id": "historic-folder",
   "metadata": {},
   "outputs": [
    {
     "data": {
      "text/html": [
       "<div>\n",
       "<style scoped>\n",
       "    .dataframe tbody tr th:only-of-type {\n",
       "        vertical-align: middle;\n",
       "    }\n",
       "\n",
       "    .dataframe tbody tr th {\n",
       "        vertical-align: top;\n",
       "    }\n",
       "\n",
       "    .dataframe thead th {\n",
       "        text-align: right;\n",
       "    }\n",
       "</style>\n",
       "<table border=\"1\" class=\"dataframe\">\n",
       "  <thead>\n",
       "    <tr style=\"text-align: right;\">\n",
       "      <th></th>\n",
       "      <th>E</th>\n",
       "      <th>pt</th>\n",
       "      <th>eta</th>\n",
       "      <th>phi</th>\n",
       "    </tr>\n",
       "  </thead>\n",
       "  <tbody>\n",
       "    <tr>\n",
       "      <th>11092</th>\n",
       "      <td>73356.1</td>\n",
       "      <td>68288.8</td>\n",
       "      <td>-0.364836</td>\n",
       "      <td>-2.683820</td>\n",
       "    </tr>\n",
       "    <tr>\n",
       "      <th>6607</th>\n",
       "      <td>155625.0</td>\n",
       "      <td>114949.0</td>\n",
       "      <td>0.809188</td>\n",
       "      <td>3.009770</td>\n",
       "    </tr>\n",
       "    <tr>\n",
       "      <th>9670</th>\n",
       "      <td>36304.3</td>\n",
       "      <td>27072.0</td>\n",
       "      <td>0.792701</td>\n",
       "      <td>0.196966</td>\n",
       "    </tr>\n",
       "    <tr>\n",
       "      <th>13354</th>\n",
       "      <td>329132.0</td>\n",
       "      <td>280958.0</td>\n",
       "      <td>-0.575831</td>\n",
       "      <td>2.154610</td>\n",
       "    </tr>\n",
       "    <tr>\n",
       "      <th>16500</th>\n",
       "      <td>855691.0</td>\n",
       "      <td>647140.0</td>\n",
       "      <td>0.781380</td>\n",
       "      <td>-3.058920</td>\n",
       "    </tr>\n",
       "  </tbody>\n",
       "</table>\n",
       "</div>"
      ],
      "text/plain": [
       "              E        pt       eta       phi\n",
       "11092   73356.1   68288.8 -0.364836 -2.683820\n",
       "6607   155625.0  114949.0  0.809188  3.009770\n",
       "9670    36304.3   27072.0  0.792701  0.196966\n",
       "13354  329132.0  280958.0 -0.575831  2.154610\n",
       "16500  855691.0  647140.0  0.781380 -3.058920"
      ]
     },
     "execution_count": 6,
     "metadata": {},
     "output_type": "execute_result"
    }
   ],
   "source": [
    "unnormed_train.head()"
   ]
  },
  {
   "cell_type": "code",
   "execution_count": 7,
   "id": "aging-wrapping",
   "metadata": {},
   "outputs": [
    {
     "data": {
      "text/html": [
       "<div>\n",
       "<style scoped>\n",
       "    .dataframe tbody tr th:only-of-type {\n",
       "        vertical-align: middle;\n",
       "    }\n",
       "\n",
       "    .dataframe tbody tr th {\n",
       "        vertical-align: top;\n",
       "    }\n",
       "\n",
       "    .dataframe thead th {\n",
       "        text-align: right;\n",
       "    }\n",
       "</style>\n",
       "<table border=\"1\" class=\"dataframe\">\n",
       "  <thead>\n",
       "    <tr style=\"text-align: right;\">\n",
       "      <th></th>\n",
       "      <th>E</th>\n",
       "      <th>pt</th>\n",
       "      <th>eta</th>\n",
       "      <th>phi</th>\n",
       "    </tr>\n",
       "  </thead>\n",
       "  <tbody>\n",
       "    <tr>\n",
       "      <th>11092</th>\n",
       "      <td>1.621812</td>\n",
       "      <td>1.611450</td>\n",
       "      <td>-0.121612</td>\n",
       "      <td>-0.894607</td>\n",
       "    </tr>\n",
       "    <tr>\n",
       "      <th>6607</th>\n",
       "      <td>1.730693</td>\n",
       "      <td>1.686835</td>\n",
       "      <td>0.269729</td>\n",
       "      <td>1.003257</td>\n",
       "    </tr>\n",
       "    <tr>\n",
       "      <th>9670</th>\n",
       "      <td>1.519986</td>\n",
       "      <td>1.477507</td>\n",
       "      <td>0.264234</td>\n",
       "      <td>0.065655</td>\n",
       "    </tr>\n",
       "    <tr>\n",
       "      <th>13354</th>\n",
       "      <td>1.839123</td>\n",
       "      <td>1.816214</td>\n",
       "      <td>-0.191944</td>\n",
       "      <td>0.718203</td>\n",
       "    </tr>\n",
       "    <tr>\n",
       "      <th>16500</th>\n",
       "      <td>1.977439</td>\n",
       "      <td>1.936999</td>\n",
       "      <td>0.260460</td>\n",
       "      <td>-1.019640</td>\n",
       "    </tr>\n",
       "  </tbody>\n",
       "</table>\n",
       "</div>"
      ],
      "text/plain": [
       "              E        pt       eta       phi\n",
       "11092  1.621812  1.611450 -0.121612 -0.894607\n",
       "6607   1.730693  1.686835  0.269729  1.003257\n",
       "9670   1.519986  1.477507  0.264234  0.065655\n",
       "13354  1.839123  1.816214 -0.191944  0.718203\n",
       "16500  1.977439  1.936999  0.260460 -1.019640"
      ]
     },
     "execution_count": 7,
     "metadata": {},
     "output_type": "execute_result"
    }
   ],
   "source": [
    "train.head()"
   ]
  },
  {
   "cell_type": "code",
   "execution_count": 8,
   "id": "ongoing-limitation",
   "metadata": {},
   "outputs": [],
   "source": [
    "train_x = train\n",
    "test_x = test\n",
    "train_y = train_x\n",
    "test_y = test_x\n",
    "\n",
    "train_ds = TensorDataset(torch.tensor(train_x.values, dtype=torch.float), torch.tensor(train_y.values, dtype=torch.float))\n",
    "valid_ds = TensorDataset(torch.tensor(test_x.values, dtype=torch.float), torch.tensor(test_y.values, dtype=torch.float))"
   ]
  },
  {
   "cell_type": "code",
   "execution_count": 9,
   "id": "separated-intention",
   "metadata": {},
   "outputs": [],
   "source": [
    "bs = 256\n",
    "\n",
    "train_dl = DataLoader(train_ds, batch_size=bs, shuffle=False)\n",
    "valid_dl = DataLoader(valid_ds, batch_size=bs * 2)\n",
    "dls = core.DataLoaders(train_dl, valid_dl)"
   ]
  },
  {
   "cell_type": "markdown",
   "id": "pursuant-perception",
   "metadata": {},
   "source": [
    ">### **Model Preparation**"
   ]
  },
  {
   "cell_type": "code",
   "execution_count": 10,
   "id": "grave-oxygen",
   "metadata": {},
   "outputs": [],
   "source": [
    "class AE_3D_200_Elu_BatchNorm(nn.Module):\n",
    "    def __init__(self, n_features=4):\n",
    "        super(AE_3D_200_Elu_BatchNorm, self).__init__()\n",
    "        self.en1 = nn.Linear(n_features, 200)\n",
    "        self.bn1 = nn.BatchNorm1d(200)\n",
    "        self.en2 = nn.Linear(200, 200)\n",
    "        self.bn2 = nn.BatchNorm1d(200)\n",
    "        self.en3 = nn.Linear(200, 20)\n",
    "        self.bn3 = nn.BatchNorm1d(20)\n",
    "        self.en4 = nn.Linear(20, 3)\n",
    "        self.bn5 = nn.BatchNorm1d(3)\n",
    "        self.de1 = nn.Linear(3, 20)\n",
    "        self.bn6 = nn.BatchNorm1d(20)\n",
    "        self.de2 = nn.Linear(20, 200)\n",
    "        self.bn7 = nn.BatchNorm1d(200)\n",
    "        self.de3 = nn.Linear(200, 200)\n",
    "        self.bn8 = nn.BatchNorm1d(200)\n",
    "        self.de4 = nn.Linear(200, n_features)\n",
    "        self.elu = nn.ELU()\n",
    "\n",
    "    def encode(self, x):\n",
    "        h1 = self.bn1(self.elu(self.en1(x)))\n",
    "        h2 = self.bn2(self.elu(self.en2(h1)))\n",
    "        h3 = self.bn3(self.elu(self.en3(h2)))\n",
    "        z = self.en4(h3)\n",
    "        return z\n",
    "\n",
    "    def decode(self, x):\n",
    "        h5 = self.bn6(self.elu(self.de1(self.bn5(self.elu(x)))))\n",
    "        h6 = self.bn7(self.elu(self.de2(h5)))\n",
    "        h7 = self.bn8(self.elu(self.de3(h6)))\n",
    "        return self.de4(h7)\n",
    "\n",
    "    def forward(self, x):\n",
    "        z = self.encode(x)\n",
    "        return self.decode(z)\n",
    "\n",
    "    def describe(self):\n",
    "        return 'in-200-200-20-3-20-200-200-out'\n",
    "\n",
    "model = AE_3D_200_Elu_BatchNorm()"
   ]
  },
  {
   "cell_type": "code",
   "execution_count": 11,
   "id": "little-workplace",
   "metadata": {},
   "outputs": [],
   "source": [
    "loss_func = nn.MSELoss()\n",
    "\n",
    "wd = 1e-6\n",
    "\n",
    "recorder = learner.Recorder()\n",
    "learn = learner.Learner(dls, model=model, wd=wd, loss_func=loss_func, cbs=recorder)"
   ]
  },
  {
   "cell_type": "code",
   "execution_count": 12,
   "id": "thousand-discharge",
   "metadata": {},
   "outputs": [
    {
     "name": "stdout",
     "output_type": "stream",
     "text": [
      "Learning rate with the minimum loss: 0.0033113110810518267\n",
      "Learning rate with the steepest gradient: 0.02290867641568184\n"
     ]
    },
    {
     "data": {
      "image/png": "[encoded data removed]",
      "text/plain": [
       "<Figure size 432x288 with 1 Axes>"
      ]
     },
     "metadata": {
      "needs_background": "light"
     },
     "output_type": "display_data"
    }
   ],
   "source": [
    "lr_min, lr_steep = learn.lr_find()\n",
    "\n",
    "print('Learning rate with the minimum loss:', lr_min)\n",
    "print('Learning rate with the steepest gradient:', lr_steep)"
   ]
  },
  {
   "cell_type": "markdown",
   "id": "distributed-round",
   "metadata": {},
   "source": [
    ">### **Begin Training**"
   ]
  },
  {
   "cell_type": "code",
   "execution_count": 13,
   "id": "continental-choir",
   "metadata": {},
   "outputs": [
    {
     "name": "stdout",
     "output_type": "stream",
     "text": [
      "[0, 1.516800880432129, 1.4600591659545898, '00:01']\n",
      "[0, 1.516800880432129, 1.4600591659545898, '00:01']\n",
      "[1, 1.4047646522521973, 1.3269574642181396, '00:01']\n",
      "[1, 1.4047646522521973, 1.3269574642181396, '00:01']\n",
      "[2, 1.2380907535552979, 1.0970126390457153, '00:01']\n",
      "[2, 1.2380907535552979, 1.0970126390457153, '00:01']\n",
      "[3, 0.9780099391937256, 0.7619462013244629, '00:01']\n",
      "[3, 0.9780099391937256, 0.7619462013244629, '00:01']\n",
      "[4, 0.6400877237319946, 0.39109745621681213, '00:01']\n",
      "[4, 0.6400877237319946, 0.39109745621681213, '00:01']\n",
      "[5, 0.30665621161460876, 0.10373123735189438, '00:01']\n",
      "[5, 0.30665621161460876, 0.10373123735189438, '00:01']\n",
      "[6, 0.09629563987255096, 0.007526866625994444, '00:01']\n",
      "[6, 0.09629563987255096, 0.007526866625994444, '00:01']\n",
      "[7, 0.025875015184283257, 0.0022664295975118876, '00:01']\n",
      "[7, 0.025875015184283257, 0.0022664295975118876, '00:01']\n",
      "[8, 0.008666792884469032, 0.0023115272633731365, '00:01']\n",
      "[8, 0.008666792884469032, 0.0023115272633731365, '00:01']\n",
      "[9, 0.004622731823474169, 0.0017242656322196126, '00:01']\n",
      "[9, 0.004622731823474169, 0.0017242656322196126, '00:01']\n",
      "[10, 0.0041732387617230415, 0.0018431496573612094, '00:01']\n",
      "[10, 0.0041732387617230415, 0.0018431496573612094, '00:01']\n",
      "[11, 0.004042878281325102, 0.0014375168830156326, '00:01']\n",
      "[11, 0.004042878281325102, 0.0014375168830156326, '00:01']\n",
      "[12, 0.0037107563111931086, 0.00227122544310987, '00:01']\n",
      "[12, 0.0037107563111931086, 0.00227122544310987, '00:01']\n",
      "[13, 0.0037654407788068056, 0.0016830520471557975, '00:01']\n",
      "[13, 0.0037654407788068056, 0.0016830520471557975, '00:01']\n",
      "[14, 0.0038973239716142416, 0.0021369047462940216, '00:01']\n",
      "[14, 0.0038973239716142416, 0.0021369047462940216, '00:01']\n",
      "[15, 0.003764035413041711, 0.0015301936073228717, '00:01']\n",
      "[15, 0.003764035413041711, 0.0015301936073228717, '00:01']\n",
      "[16, 0.004098724573850632, 0.002395359333604574, '00:01']\n",
      "[16, 0.004098724573850632, 0.002395359333604574, '00:01']\n",
      "[17, 0.0042740348726511, 0.003045052522793412, '00:01']\n",
      "[17, 0.0042740348726511, 0.003045052522793412, '00:01']\n",
      "[18, 0.0044098105281591415, 0.004042172338813543, '00:01']\n",
      "[18, 0.0044098105281591415, 0.004042172338813543, '00:01']\n",
      "[19, 0.0045089200139045715, 0.005274504888802767, '00:01']\n",
      "[19, 0.0045089200139045715, 0.005274504888802767, '00:01']\n",
      "[20, 0.004550162702798843, 0.002627206966280937, '00:01']\n",
      "[20, 0.004550162702798843, 0.002627206966280937, '00:01']\n",
      "[21, 0.004547135904431343, 0.0028591647278517485, '00:01']\n",
      "[21, 0.004547135904431343, 0.0028591647278517485, '00:01']\n",
      "[22, 0.004572040867060423, 0.004681441932916641, '00:01']\n",
      "[22, 0.004572040867060423, 0.004681441932916641, '00:01']\n",
      "[23, 0.004717452917248011, 0.006803577300161123, '00:01']\n",
      "[23, 0.004717452917248011, 0.006803577300161123, '00:01']\n",
      "[24, 0.004666810389608145, 0.005358987487852573, '00:02']\n",
      "[24, 0.004666810389608145, 0.005358987487852573, '00:02']\n",
      "[25, 0.004387034568935633, 0.004946574568748474, '00:01']\n",
      "[25, 0.004387034568935633, 0.004946574568748474, '00:01']\n",
      "[26, 0.004386276472359896, 0.004910232964903116, '00:01']\n",
      "[26, 0.004386276472359896, 0.004910232964903116, '00:01']\n",
      "[27, 0.004415890201926231, 0.0043665384873747826, '00:01']\n",
      "[27, 0.004415890201926231, 0.0043665384873747826, '00:01']\n",
      "[28, 0.00453020166605711, 0.0038545550778508186, '00:01']\n",
      "[28, 0.00453020166605711, 0.0038545550778508186, '00:01']\n",
      "[29, 0.004310932941734791, 0.0038415826857089996, '00:01']\n",
      "[29, 0.004310932941734791, 0.0038415826857089996, '00:01']\n",
      "[30, 0.0043541742488741875, 0.0038900834042578936, '00:01']\n",
      "[30, 0.0043541742488741875, 0.0038900834042578936, '00:01']\n",
      "[31, 0.004393288865685463, 0.004241134971380234, '00:01']\n",
      "[31, 0.004393288865685463, 0.004241134971380234, '00:01']\n",
      "[32, 0.004468349739909172, 0.004294190555810928, '00:01']\n",
      "[32, 0.004468349739909172, 0.004294190555810928, '00:01']\n",
      "[33, 0.00455634668469429, 0.004288171883672476, '00:01']\n",
      "[33, 0.00455634668469429, 0.004288171883672476, '00:01']\n",
      "[34, 0.004664471838623285, 0.004391786176711321, '00:01']\n",
      "[34, 0.004664471838623285, 0.004391786176711321, '00:01']\n",
      "[35, 0.004735487978905439, 0.004591186065226793, '00:01']\n",
      "[35, 0.004735487978905439, 0.004591186065226793, '00:01']\n",
      "[36, 0.004613655153661966, 0.003945336677134037, '00:01']\n",
      "[36, 0.004613655153661966, 0.003945336677134037, '00:01']\n",
      "[37, 0.004523211624473333, 0.00351437134668231, '00:01']\n",
      "[37, 0.004523211624473333, 0.00351437134668231, '00:01']\n",
      "[38, 0.004459938034415245, 0.0033062887378036976, '00:01']\n",
      "[38, 0.004459938034415245, 0.0033062887378036976, '00:01']\n",
      "[39, 0.004450588952749968, 0.0032511309254914522, '00:01']\n",
      "[39, 0.004450588952749968, 0.0032511309254914522, '00:01']\n",
      "[40, 0.004426894243806601, 0.0031935989391058683, '00:01']\n",
      "[40, 0.004426894243806601, 0.0031935989391058683, '00:01']\n",
      "[41, 0.004388285335153341, 0.003020737087354064, '00:01']\n",
      "[41, 0.004388285335153341, 0.003020737087354064, '00:01']\n",
      "[42, 0.004345498513430357, 0.0026944547425955534, '00:01']\n",
      "[42, 0.004345498513430357, 0.0026944547425955534, '00:01']\n",
      "[43, 0.004321674816310406, 0.0025750300846993923, '00:01']\n",
      "[43, 0.004321674816310406, 0.0025750300846993923, '00:01']\n",
      "[44, 0.004282736219465733, 0.002616374520584941, '00:01']\n",
      "[44, 0.004282736219465733, 0.002616374520584941, '00:01']\n",
      "[45, 0.004177937749773264, 0.0025211891625076532, '00:02']\n",
      "[45, 0.004177937749773264, 0.0025211891625076532, '00:02']\n",
      "[46, 0.004105738364160061, 0.002424083184450865, '00:01']\n",
      "[46, 0.004105738364160061, 0.002424083184450865, '00:01']\n",
      "[47, 0.0040607573464512825, 0.002371049951761961, '00:01']\n",
      "[47, 0.0040607573464512825, 0.002371049951761961, '00:01']\n",
      "[48, 0.004026656039059162, 0.0023844768293201923, '00:01']\n",
      "[48, 0.004026656039059162, 0.0023844768293201923, '00:01']\n",
      "[49, 0.003987004980444908, 0.00237069558352232, '00:01']\n",
      "[49, 0.003987004980444908, 0.00237069558352232, '00:01']\n",
      "[50, 0.003972433507442474, 0.002302349079400301, '00:01']\n",
      "[50, 0.003972433507442474, 0.002302349079400301, '00:01']\n",
      "[51, 0.003969538025557995, 0.002395590068772435, '00:01']\n",
      "[51, 0.003969538025557995, 0.002395590068772435, '00:01']\n",
      "[52, 0.004061577841639519, 0.0024939682334661484, '00:01']\n",
      "[52, 0.004061577841639519, 0.0024939682334661484, '00:01']\n",
      "[53, 0.003915888722985983, 0.0026047169230878353, '00:01']\n",
      "[53, 0.003915888722985983, 0.0026047169230878353, '00:01']\n",
      "[54, 0.0038259983994066715, 0.0026983453426510096, '00:01']\n",
      "[54, 0.0038259983994066715, 0.0026983453426510096, '00:01']\n",
      "[55, 0.003787476569414139, 0.0028329240158200264, '00:02']\n",
      "[55, 0.003787476569414139, 0.0028329240158200264, '00:02']\n",
      "[56, 0.0037665150593966246, 0.0030356142669916153, '00:01']\n",
      "[56, 0.0037665150593966246, 0.0030356142669916153, '00:01']\n",
      "[57, 0.003753433469682932, 0.0032448149286210537, '00:01']\n",
      "[57, 0.003753433469682932, 0.0032448149286210537, '00:01']\n",
      "[58, 0.003762560896575451, 0.003492014715448022, '00:01']\n",
      "[58, 0.003762560896575451, 0.003492014715448022, '00:01']\n",
      "[59, 0.0037844073958694935, 0.003719459054991603, '00:01']\n",
      "[59, 0.0037844073958694935, 0.003719459054991603, '00:01']\n",
      "[60, 0.003733373247087002, 0.003295891685411334, '00:01']\n",
      "[60, 0.003733373247087002, 0.003295891685411334, '00:01']\n",
      "[61, 0.003646813565865159, 0.003301696851849556, '00:01']\n",
      "[61, 0.003646813565865159, 0.003301696851849556, '00:01']\n",
      "[62, 0.0035693722311407328, 0.0034105521626770496, '00:01']\n",
      "[62, 0.0035693722311407328, 0.0034105521626770496, '00:01']\n",
      "[63, 0.003504326334223151, 0.003451961325481534, '00:01']\n",
      "[63, 0.003504326334223151, 0.003451961325481534, '00:01']\n",
      "[64, 0.003450558753684163, 0.003482839558273554, '00:01']\n",
      "[64, 0.003450558753684163, 0.003482839558273554, '00:01']\n",
      "[65, 0.0034015835262835026, 0.0035122211556881666, '00:01']\n",
      "[65, 0.0034015835262835026, 0.0035122211556881666, '00:01']\n",
      "[66, 0.003357659326866269, 0.003533656243234873, '00:01']\n",
      "[66, 0.003357659326866269, 0.003533656243234873, '00:01']\n",
      "[67, 0.003322501899674535, 0.003564070677384734, '00:01']\n",
      "[67, 0.003322501899674535, 0.003564070677384734, '00:01']\n",
      "[68, 0.003290618536993861, 0.0035755371209234, '00:01']\n",
      "[68, 0.003290618536993861, 0.0035755371209234, '00:01']\n",
      "[69, 0.0032416561152786016, 0.0035835853777825832, '00:01']\n",
      "[69, 0.0032416561152786016, 0.0035835853777825832, '00:01']\n",
      "[70, 0.00319286179728806, 0.0035718679428100586, '00:01']\n",
      "[70, 0.00319286179728806, 0.0035718679428100586, '00:01']\n",
      "[71, 0.0031514675356447697, 0.003561532823368907, '00:01']\n",
      "[71, 0.0031514675356447697, 0.003561532823368907, '00:01']\n",
      "[72, 0.003114068880677223, 0.0035626478493213654, '00:01']\n",
      "[72, 0.003114068880677223, 0.0035626478493213654, '00:01']\n",
      "[73, 0.0030815782956779003, 0.0035776174627244473, '00:01']\n",
      "[73, 0.0030815782956779003, 0.0035776174627244473, '00:01']\n",
      "[74, 0.003050520084798336, 0.003592036198824644, '00:01']\n",
      "[74, 0.003050520084798336, 0.003592036198824644, '00:01']\n",
      "[75, 0.0030158921144902706, 0.00353302713483572, '00:01']\n",
      "[75, 0.0030158921144902706, 0.00353302713483572, '00:01']\n",
      "[76, 0.002978977980092168, 0.0034114860463887453, '00:01']\n",
      "[76, 0.002978977980092168, 0.0034114860463887453, '00:01']\n",
      "[77, 0.002943325787782669, 0.0032563423737883568, '00:02']\n",
      "[77, 0.002943325787782669, 0.0032563423737883568, '00:02']\n",
      "[78, 0.0029072982724756002, 0.0031321325805038214, '00:01']\n",
      "[78, 0.0029072982724756002, 0.0031321325805038214, '00:01']\n",
      "[79, 0.002869655843824148, 0.0030417300295084715, '00:01']\n",
      "[79, 0.002869655843824148, 0.0030417300295084715, '00:01']\n",
      "[80, 0.0028307903558015823, 0.0029818315524607897, '00:01']\n",
      "[80, 0.0028307903558015823, 0.0029818315524607897, '00:01']\n",
      "[81, 0.002792654326185584, 0.002931792987510562, '00:01']\n",
      "[81, 0.002792654326185584, 0.002931792987510562, '00:01']\n",
      "[82, 0.002756429836153984, 0.0028718076646327972, '00:01']\n",
      "[82, 0.002756429836153984, 0.0028718076646327972, '00:01']\n",
      "[83, 0.0027223362121731043, 0.002808116376399994, '00:01']\n",
      "[83, 0.0027223362121731043, 0.002808116376399994, '00:01']\n",
      "[84, 0.0026884342078119516, 0.002761592622846365, '00:01']\n",
      "[84, 0.0026884342078119516, 0.002761592622846365, '00:01']\n",
      "[85, 0.0026506013236939907, 0.0027226342353969812, '00:01']\n",
      "[85, 0.0026506013236939907, 0.0027226342353969812, '00:01']\n",
      "[86, 0.0026143579743802547, 0.0026890230365097523, '00:01']\n",
      "[86, 0.0026143579743802547, 0.0026890230365097523, '00:01']\n",
      "[87, 0.0025846916250884533, 0.0026562076527625322, '00:01']\n",
      "[87, 0.0025846916250884533, 0.0026562076527625322, '00:01']\n",
      "[88, 0.0025605466216802597, 0.0025768019258975983, '00:01']\n",
      "[88, 0.0025605466216802597, 0.0025768019258975983, '00:01']\n",
      "[89, 0.0025316691026091576, 0.0024217222817242146, '00:01']\n",
      "[89, 0.0025316691026091576, 0.0024217222817242146, '00:01']\n",
      "[90, 0.0024904527235776186, 0.0022911191917955875, '00:01']\n",
      "[90, 0.0024904527235776186, 0.0022911191917955875, '00:01']\n",
      "[91, 0.0024512808304280043, 0.002245774259790778, '00:01']\n",
      "[91, 0.0024512808304280043, 0.002245774259790778, '00:01']\n",
      "[92, 0.0024398015812039375, 0.002282802714034915, '00:01']\n",
      "[92, 0.0024398015812039375, 0.002282802714034915, '00:01']\n",
      "[93, 0.0026098955422639847, 0.0019166904967278242, '00:01']\n",
      "[93, 0.0026098955422639847, 0.0019166904967278242, '00:01']\n",
      "[94, 0.0024722472298890352, 0.0019783612806349993, '00:01']\n",
      "[94, 0.0024722472298890352, 0.0019783612806349993, '00:01']\n",
      "[95, 0.002432981738820672, 0.00196501100435853, '00:01']\n",
      "[95, 0.002432981738820672, 0.00196501100435853, '00:01']\n",
      "[96, 0.0023933001793920994, 0.0019702096469700336, '00:01']\n",
      "[96, 0.0023933001793920994, 0.0019702096469700336, '00:01']\n",
      "[97, 0.002352784387767315, 0.0019697060342878103, '00:01']\n",
      "[97, 0.002352784387767315, 0.0019697060342878103, '00:01']\n",
      "[98, 0.002310324925929308, 0.001955459825694561, '00:01']\n",
      "[98, 0.002310324925929308, 0.001955459825694561, '00:01']\n",
      "[99, 0.002269645454362035, 0.0019408566877245903, '00:01']\n",
      "[99, 0.002269645454362035, 0.0019408566877245903, '00:01']\n",
      "[100, 0.002232832135632634, 0.0019294676603749394, '00:01']\n",
      "[100, 0.002232832135632634, 0.0019294676603749394, '00:01']\n",
      "[101, 0.0022024379577487707, 0.0019289558986201882, '00:01']\n",
      "[101, 0.0022024379577487707, 0.0019289558986201882, '00:01']\n",
      "[102, 0.0021777120418846607, 0.001942058210261166, '00:02']\n",
      "[102, 0.0021777120418846607, 0.001942058210261166, '00:02']\n",
      "[103, 0.002160370582714677, 0.0019370936788618565, '00:01']\n",
      "[103, 0.002160370582714677, 0.0019370936788618565, '00:01']\n",
      "[104, 0.0021517383866012096, 0.001970144920051098, '00:01']\n",
      "[104, 0.0021517383866012096, 0.001970144920051098, '00:01']\n",
      "[105, 0.0021462070289999247, 0.0020175680983811617, '00:01']\n",
      "[105, 0.0021462070289999247, 0.0020175680983811617, '00:01']\n",
      "[106, 0.0021404591389000416, 0.0019835710991173983, '00:01']\n",
      "[106, 0.0021404591389000416, 0.0019835710991173983, '00:01']\n",
      "[107, 0.002121476922184229, 0.0018371185287833214, '00:01']\n",
      "[107, 0.002121476922184229, 0.0018371185287833214, '00:01']\n",
      "[108, 0.002087778178974986, 0.0018214749870821834, '00:01']\n",
      "[108, 0.002087778178974986, 0.0018214749870821834, '00:01']\n",
      "[109, 0.0020579411648213863, 0.0018600643379613757, '00:01']\n",
      "[109, 0.0020579411648213863, 0.0018600643379613757, '00:01']\n",
      "[110, 0.0020335784647613764, 0.0019069187110289931, '00:01']\n",
      "[110, 0.0020335784647613764, 0.0019069187110289931, '00:01']\n",
      "[111, 0.002010064898058772, 0.0018743100808933377, '00:01']\n",
      "[111, 0.002010064898058772, 0.0018743100808933377, '00:01']\n",
      "[112, 0.0019896961748600006, 0.0017875968478620052, '00:01']\n",
      "[112, 0.0019896961748600006, 0.0017875968478620052, '00:01']\n",
      "[113, 0.001977102365344763, 0.001657648477703333, '00:01']\n",
      "[113, 0.001977102365344763, 0.001657648477703333, '00:01']\n",
      "[114, 0.0019700059201568365, 0.0014668806688860059, '00:01']\n",
      "[114, 0.0019700059201568365, 0.0014668806688860059, '00:01']\n",
      "[115, 0.0019557520281523466, 0.0013695360394194722, '00:01']\n",
      "[115, 0.0019557520281523466, 0.0013695360394194722, '00:01']\n",
      "[116, 0.0019134238827973604, 0.0013511029537767172, '00:01']\n",
      "[116, 0.0019134238827973604, 0.0013511029537767172, '00:01']\n",
      "[117, 0.0018830421613529325, 0.0012039500288665295, '00:01']\n",
      "[117, 0.0018830421613529325, 0.0012039500288665295, '00:01']\n",
      "[118, 0.0018519841833040118, 0.0010892953723669052, '00:01']\n",
      "[118, 0.0018519841833040118, 0.0010892953723669052, '00:01']\n",
      "[119, 0.0018311807652935386, 0.0010053726145997643, '00:01']\n",
      "[119, 0.0018311807652935386, 0.0010053726145997643, '00:01']\n",
      "[120, 0.0018242711666971445, 0.0009283383842557669, '00:01']\n",
      "[120, 0.0018242711666971445, 0.0009283383842557669, '00:01']\n",
      "[121, 0.0018240644130855799, 0.0008736871532164514, '00:01']\n",
      "[121, 0.0018240644130855799, 0.0008736871532164514, '00:01']\n",
      "[122, 0.0018222839571535587, 0.0008239891030825675, '00:01']\n",
      "[122, 0.0018222839571535587, 0.0008239891030825675, '00:01']\n",
      "[123, 0.001831793924793601, 0.0007658112444914877, '00:01']\n",
      "[123, 0.001831793924793601, 0.0007658112444914877, '00:01']\n",
      "[124, 0.001834534457884729, 0.0007101393421180546, '00:01']\n",
      "[124, 0.001834534457884729, 0.0007101393421180546, '00:01']\n",
      "[125, 0.0018243921222165227, 0.0007090399158187211, '00:01']\n",
      "[125, 0.0018243921222165227, 0.0007090399158187211, '00:01']\n",
      "[126, 0.0018169296672567725, 0.0007494539604522288, '00:00']\n",
      "[126, 0.0018169296672567725, 0.0007494539604522288, '00:00']\n",
      "[127, 0.001805524225346744, 0.0007602234836667776, '00:01']\n",
      "[127, 0.001805524225346744, 0.0007602234836667776, '00:01']\n",
      "[128, 0.0017893691547214985, 0.00074642279651016, '00:00']\n",
      "[128, 0.0017893691547214985, 0.00074642279651016, '00:00']\n",
      "[129, 0.0017795254243537784, 0.0007627081358805299, '00:00']\n",
      "[129, 0.0017795254243537784, 0.0007627081358805299, '00:00']\n",
      "[130, 0.001779907033778727, 0.000834385456983, '00:00']\n",
      "[130, 0.001779907033778727, 0.000834385456983, '00:00']\n",
      "[131, 0.0017887959256768227, 0.0010515517788007855, '00:01']\n",
      "[131, 0.0017887959256768227, 0.0010515517788007855, '00:01']\n",
      "[132, 0.0018166558584198356, 0.0012701052473857999, '00:00']\n",
      "[132, 0.0018166558584198356, 0.0012701052473857999, '00:00']\n",
      "[133, 0.0017951346235349774, 0.0009090948733501136, '00:00']\n",
      "[133, 0.0017951346235349774, 0.0009090948733501136, '00:00']\n",
      "[134, 0.0017468304140493274, 0.0009369572508148849, '00:00']\n",
      "[134, 0.0017468304140493274, 0.0009369572508148849, '00:00']\n",
      "[135, 0.001711681834422052, 0.0009148039971478283, '00:00']\n",
      "[135, 0.001711681834422052, 0.0009148039971478283, '00:00']\n",
      "[136, 0.0016768687637522817, 0.0008542513241991401, '00:00']\n",
      "[136, 0.0016768687637522817, 0.0008542513241991401, '00:00']\n",
      "[137, 0.0016472083516418934, 0.0008197488496080041, '00:01']\n",
      "[137, 0.0016472083516418934, 0.0008197488496080041, '00:01']\n",
      "[138, 0.0016326589975506067, 0.0007944460958242416, '00:01']\n",
      "[138, 0.0016326589975506067, 0.0007944460958242416, '00:01']\n",
      "[139, 0.0016340077854692936, 0.0006840271526016295, '00:01']\n",
      "[139, 0.0016340077854692936, 0.0006840271526016295, '00:01']\n",
      "[140, 0.0016041204798966646, 0.0006155165028758347, '00:01']\n",
      "[140, 0.0016041204798966646, 0.0006155165028758347, '00:01']\n",
      "[141, 0.0015793455531820655, 0.000706575287040323, '00:00']\n",
      "[141, 0.0015793455531820655, 0.000706575287040323, '00:00']\n",
      "[142, 0.0015956633724272251, 0.0005933492793701589, '00:00']\n",
      "[142, 0.0015956633724272251, 0.0005933492793701589, '00:00']\n",
      "[143, 0.0016043160576373339, 0.0003549839020706713, '00:00']\n",
      "[143, 0.0016043160576373339, 0.0003549839020706713, '00:00']\n",
      "[144, 0.0015478201676160097, 0.0003196915495209396, '00:00']\n",
      "[144, 0.0015478201676160097, 0.0003196915495209396, '00:00']\n",
      "[145, 0.001505003310739994, 0.0003005486214533448, '00:01']\n",
      "[145, 0.001505003310739994, 0.0003005486214533448, '00:01']\n",
      "[146, 0.0014801984652876854, 0.000286139955278486, '00:00']\n",
      "[146, 0.0014801984652876854, 0.000286139955278486, '00:00']\n",
      "[147, 0.0014665359631180763, 0.0003131558478344232, '00:00']\n",
      "[147, 0.0014665359631180763, 0.0003131558478344232, '00:00']\n",
      "[148, 0.0014633821556344628, 0.0003964694624301046, '00:01']\n",
      "[148, 0.0014633821556344628, 0.0003964694624301046, '00:01']\n",
      "[149, 0.0014605815522372723, 0.0004034964949823916, '00:00']\n",
      "[149, 0.0014605815522372723, 0.0004034964949823916, '00:00']\n",
      "[150, 0.0014187425840646029, 0.0003643980307970196, '00:00']\n",
      "[150, 0.0014187425840646029, 0.0003643980307970196, '00:00']\n",
      "[151, 0.0013768506469205022, 0.0003206225228495896, '00:00']\n",
      "[151, 0.0013768506469205022, 0.0003206225228495896, '00:00']\n",
      "[152, 0.001346758333966136, 0.0003207665286026895, '00:00']\n",
      "[152, 0.001346758333966136, 0.0003207665286026895, '00:00']\n",
      "[153, 0.0013282644795253873, 0.0003297983785159886, '00:01']\n",
      "[153, 0.0013282644795253873, 0.0003297983785159886, '00:01']\n",
      "[154, 0.0013216983061283827, 0.0002431282919133082, '00:00']\n",
      "[154, 0.0013216983061283827, 0.0002431282919133082, '00:00']\n",
      "[155, 0.0012870699865743518, 0.00026136598899029195, '00:01']\n",
      "[155, 0.0012870699865743518, 0.00026136598899029195, '00:01']\n",
      "[156, 0.0012869759229943156, 0.00033685710513964295, '00:01']\n",
      "[156, 0.0012869759229943156, 0.00033685710513964295, '00:01']\n",
      "[157, 0.0012858103727921844, 0.00024192147247958928, '00:01']\n",
      "[157, 0.0012858103727921844, 0.00024192147247958928, '00:01']\n",
      "[158, 0.0012579300673678517, 0.00021701220248360187, '00:01']\n",
      "[158, 0.0012579300673678517, 0.00021701220248360187, '00:01']\n",
      "[159, 0.0012396459933370352, 0.00021111535897944123, '00:01']\n",
      "[159, 0.0012396459933370352, 0.00021111535897944123, '00:01']\n",
      "[160, 0.0012261925730854273, 0.0002073875948553905, '00:00']\n",
      "[160, 0.0012261925730854273, 0.0002073875948553905, '00:00']\n",
      "[161, 0.0012166732922196388, 0.00023101933766156435, '00:00']\n",
      "[161, 0.0012166732922196388, 0.00023101933766156435, '00:00']\n",
      "[162, 0.001204517437145114, 0.0002663712075445801, '00:01']\n",
      "[162, 0.001204517437145114, 0.0002663712075445801, '00:01']\n",
      "[163, 0.0011853491887450218, 0.0002727152605075389, '00:01']\n",
      "[163, 0.0011853491887450218, 0.0002727152605075389, '00:01']\n",
      "[164, 0.0011632712557911873, 0.0002419168158667162, '00:00']\n",
      "[164, 0.0011632712557911873, 0.0002419168158667162, '00:00']\n",
      "[165, 0.0011471163015812635, 0.00023904824047349393, '00:01']\n",
      "[165, 0.0011471163015812635, 0.00023904824047349393, '00:01']\n",
      "[166, 0.001135807135142386, 0.00025673312484286726, '00:00']\n",
      "[166, 0.001135807135142386, 0.00025673312484286726, '00:00']\n",
      "[167, 0.0011284893844276667, 0.0002916754747275263, '00:01']\n",
      "[167, 0.0011284893844276667, 0.0002916754747275263, '00:01']\n",
      "[168, 0.0011260118335485458, 0.0003331355983391404, '00:00']\n",
      "[168, 0.0011260118335485458, 0.0003331355983391404, '00:00']\n",
      "[169, 0.0011270471150055528, 0.0003635449393186718, '00:00']\n",
      "[169, 0.0011270471150055528, 0.0003635449393186718, '00:00']\n",
      "[170, 0.0011288076639175415, 0.00035768875386565924, '00:00']\n",
      "[170, 0.0011288076639175415, 0.00035768875386565924, '00:00']\n",
      "[171, 0.0011247391812503338, 0.00028839978040196, '00:00']\n",
      "[171, 0.0011247391812503338, 0.00028839978040196, '00:00']\n",
      "[172, 0.0011083994759246707, 0.00023620255524292588, '00:00']\n",
      "[172, 0.0011083994759246707, 0.00023620255524292588, '00:00']\n",
      "[173, 0.0010876319138333201, 0.00023074612545315176, '00:01']\n",
      "[173, 0.0010876319138333201, 0.00023074612545315176, '00:01']\n",
      "[174, 0.0010730918729677796, 0.00023503424017690122, '00:01']\n",
      "[174, 0.0010730918729677796, 0.00023503424017690122, '00:01']\n",
      "[175, 0.0010641650296747684, 0.00023775592853780836, '00:01']\n",
      "[175, 0.0010641650296747684, 0.00023775592853780836, '00:01']\n",
      "[176, 0.0010554828913882375, 0.00024297696654684842, '00:01']\n",
      "[176, 0.0010554828913882375, 0.00024297696654684842, '00:01']\n",
      "[177, 0.0010442204074934125, 0.00023036723723635077, '00:00']\n",
      "[177, 0.0010442204074934125, 0.00023036723723635077, '00:00']\n",
      "[178, 0.0010334653779864311, 0.00022502864885609597, '00:00']\n",
      "[178, 0.0010334653779864311, 0.00022502864885609597, '00:00']\n",
      "[179, 0.0010239435359835625, 0.0002259085449622944, '00:00']\n",
      "[179, 0.0010239435359835625, 0.0002259085449622944, '00:00']\n",
      "[180, 0.0010172959882766008, 0.00023106971639208496, '00:00']\n",
      "[180, 0.0010172959882766008, 0.00023106971639208496, '00:00']\n",
      "[181, 0.0010138892102986574, 0.00024754772312007844, '00:01']\n",
      "[181, 0.0010138892102986574, 0.00024754772312007844, '00:01']\n",
      "[182, 0.0010093803284689784, 0.0002650116803124547, '00:01']\n",
      "[182, 0.0010093803284689784, 0.0002650116803124547, '00:01']\n",
      "[183, 0.0010012020356953144, 0.00026266148779541254, '00:00']\n",
      "[183, 0.0010012020356953144, 0.00026266148779541254, '00:00']\n",
      "[184, 0.000991741195321083, 0.00025291257770732045, '00:00']\n",
      "[184, 0.000991741195321083, 0.00025291257770732045, '00:00']\n",
      "[185, 0.000983383390121162, 0.000247487478191033, '00:00']\n",
      "[185, 0.000983383390121162, 0.000247487478191033, '00:00']\n",
      "[186, 0.0009750088211148977, 0.00025066500529646873, '00:00']\n",
      "[186, 0.0009750088211148977, 0.00025066500529646873, '00:00']\n",
      "[187, 0.0009688165155239403, 0.00025568457203917205, '00:00']\n",
      "[187, 0.0009688165155239403, 0.00025568457203917205, '00:00']\n",
      "[188, 0.0009637554176151752, 0.00026183019508607686, '00:00']\n",
      "[188, 0.0009637554176151752, 0.00026183019508607686, '00:00']\n",
      "[189, 0.0009595239534974098, 0.0002693775459192693, '00:00']\n",
      "[189, 0.0009595239534974098, 0.0002693775459192693, '00:00']\n",
      "[190, 0.0009553058771416545, 0.0002783072122838348, '00:00']\n",
      "[190, 0.0009553058771416545, 0.0002783072122838348, '00:00']\n",
      "[191, 0.000951319292653352, 0.00028050446417182684, '00:01']\n",
      "[191, 0.000951319292653352, 0.00028050446417182684, '00:01']\n",
      "[192, 0.0009480023290961981, 0.00027279765345156193, '00:01']\n",
      "[192, 0.0009480023290961981, 0.00027279765345156193, '00:01']\n",
      "[193, 0.0009451377554796636, 0.0002603796892799437, '00:01']\n",
      "[193, 0.0009451377554796636, 0.0002603796892799437, '00:01']\n",
      "[194, 0.000942194543313235, 0.00025233899941667914, '00:00']\n",
      "[194, 0.000942194543313235, 0.00025233899941667914, '00:00']\n",
      "[195, 0.0009386172168888152, 0.0002468428574502468, '00:00']\n",
      "[195, 0.0009386172168888152, 0.0002468428574502468, '00:00']\n",
      "[196, 0.0009352863417007029, 0.00024391364422626793, '00:01']\n",
      "[196, 0.0009352863417007029, 0.00024391364422626793, '00:01']\n",
      "[197, 0.000932956172619015, 0.00024254868912976235, '00:01']\n",
      "[197, 0.000932956172619015, 0.00024254868912976235, '00:01']\n",
      "[198, 0.0009315770585089922, 0.000241841611568816, '00:01']\n",
      "[198, 0.0009315770585089922, 0.000241841611568816, '00:01']\n",
      "[199, 0.0009308782173320651, 0.00024162165937013924, '00:01']\n",
      "[199, 0.0009308782173320651, 0.00024162165937013924, '00:01']\n",
      "Training took 272.3839868230002 seconds\n"
     ]
    }
   ],
   "source": [
    "start = time.perf_counter() # Starts timer\n",
    "learn.fit_one_cycle(n_epoch=200, lr_max=lr_min)\n",
    "end = time.perf_counter() # Ends timer\n",
    "delta_t = end - start\n",
    "print('Training took', delta_t, 'seconds')"
   ]
  },
  {
   "cell_type": "code",
   "execution_count": 14,
   "id": "light-biology",
   "metadata": {},
   "outputs": [
    {
     "data": {
      "image/png": "[encoded data removed]",
      "text/plain": [
       "<Figure size 432x288 with 1 Axes>"
      ]
     },
     "metadata": {
      "needs_background": "light"
     },
     "output_type": "display_data"
    }
   ],
   "source": [
    "recorder.plot_loss()"
   ]
  },
  {
   "cell_type": "code",
   "execution_count": 15,
   "id": "golden-serbia",
   "metadata": {},
   "outputs": [
    {
     "data": {
      "text/plain": [
       "(#1) [0.00024162165937013924]"
      ]
     },
     "execution_count": 15,
     "metadata": {},
     "output_type": "execute_result"
    }
   ],
   "source": [
    "learn.validate()"
   ]
  },
  {
   "cell_type": "markdown",
   "id": "separated-family",
   "metadata": {},
   "source": [
    ">### **Saving Model**"
   ]
  },
  {
   "cell_type": "code",
   "execution_count": 16,
   "id": "tired-stomach",
   "metadata": {},
   "outputs": [],
   "source": [
    "save_path = './Models/AE_3D_200_Elu_BatchNorm_200Epoch.pt'\n",
    "torch.save(model.state_dict(), save_path)"
   ]
  },
  {
   "cell_type": "markdown",
   "id": "eligible-possession",
   "metadata": {},
   "source": [
    ">### **Visualize and Analyze the model predictions**"
   ]
  },
  {
   "cell_type": "code",
   "execution_count": 17,
   "id": "downtown-quest",
   "metadata": {},
   "outputs": [],
   "source": [
    "def calc_rms(arr):\n",
    "    arr = arr.flatten()\n",
    "    arr[arr == np.nan] = 1\n",
    "    return np.sqrt(np.sum(arr**2) / len(arr))"
   ]
  },
  {
   "cell_type": "code",
   "execution_count": 18,
   "id": "common-table",
   "metadata": {},
   "outputs": [],
   "source": [
    "def unnormalize_predictions(prediction):\n",
    "    \n",
    "    unnormed_pred = prediction.clone() \n",
    "    unnormed_pred[:, 0] = 10 ** (3 * pred[:, 0])\n",
    "    unnormed_pred[:, 1] = 10 ** (3 * pred[:, 1])\n",
    "    unnormed_pred[:, 2] = 3 * pred[:, 2]\n",
    "    unnormed_pred[:, 3] = 3 * pred[:, 3]\n",
    "    \n",
    "    return unnormed_pred"
   ]
  },
  {
   "cell_type": "code",
   "execution_count": 29,
   "id": "aggregate-veteran",
   "metadata": {},
   "outputs": [],
   "source": [
    "def plot_input_vs_output(unnormed_test_data, unnormed_test_pred, save=False):\n",
    "\n",
    "    n_bins = 100\n",
    "    colors = ['orange', 'c']\n",
    "    alph = 0.8\n",
    "\n",
    "\n",
    "    for kk in np.arange(4):\n",
    "        plt.subplot(2, 2, kk+1)\n",
    "        n_hist_data, bin_edges, _ = plt.hist(unnormed_test_data[:, kk].detach().numpy(), color=colors[1], label='Input', alpha=1, bins=n_bins)\n",
    "        n_hist_pred, _, _ = plt.hist(unnormed_test_pred[:, kk].detach().numpy(), color=colors[0], label='Output', alpha=alph, bins=bin_edges)\n",
    "        plt.xlabel(test.columns[kk])\n",
    "        plt.ylabel('Number of events')\n",
    "        plt.legend()\n",
    "        \n",
    "        if save:\n",
    "            plt.savefig(\"./Plots/AE_3D_200_Elu_BatchNorm_200Epoch/input_vs_output_fourmomentum\",dpi=300)"
   ]
  },
  {
   "cell_type": "code",
   "execution_count": 33,
   "id": "duplicate-contamination",
   "metadata": {},
   "outputs": [],
   "source": [
    "def plot_residuals(unnormed_test_data, unnormed_test_pred, save=False):\n",
    "    residual_strings = [r'$(E_{recon} - E_{true}) / E_{true}$',\n",
    "                        r'$(p_{T,recon} - p_{T,true}) / p_{T,true}$',\n",
    "                    r'$(\\eta_{recon} - \\eta_{true}) / \\eta_{true}$',\n",
    "                    r'$(\\phi_{recon} - \\phi_{true}) / \\phi_{true}$']\n",
    "    line_style = ['--', '-']\n",
    "    alph = 0.8\n",
    "    \n",
    "    residuals = (unnormed_test_pred.detach().numpy() - unnormed_test_data.detach().numpy()) / unnormed_test_data.detach().numpy()\n",
    "    range_res = (-.02, .02)\n",
    "    \n",
    "\n",
    "    for kk in np.arange(4):\n",
    "        plt.subplot(2, 2, kk+1)\n",
    "        n_hist_pred, bin_edges, _ = plt.hist(residuals[:, kk], label='Residuals', linestyle=line_style[0], alpha=alph, bins=200, range=range_res)\n",
    "        plt.title('Residuals of %s' % test.columns[kk])\n",
    "        plt.xlabel(residual_strings[kk])\n",
    "        plt.ylabel('Number of jets')\n",
    "        plt.yscale('log')\n",
    "        rms = calc_rms(residuals[:, kk])\n",
    "        ax = plt.gca()\n",
    "        residuals_mean = residuals[:, kk].mean()\n",
    "        residuals_variance = residuals[:, kk].var()\n",
    "        plt.text(.2, .5, 'RMS = %f' % (rms), bbox={'facecolor': 'white', 'alpha': 0.7, 'pad': 10},\n",
    "                 horizontalalignment='center', verticalalignment='center', transform=ax.transAxes, fontsize=15)\n",
    "        plt.text(.24, .25, 'Mean = %f\\nVariance = %f' % (residuals_mean, residuals_variance), bbox={'facecolor': 'white', 'alpha': 0.7, 'pad': 10},\n",
    "                 horizontalalignment='center', verticalalignment='center', transform=ax.transAxes, fontsize=15)\n",
    "        if save:\n",
    "            plt.savefig(\"./Plots/AE_3D_200_Elu_BatchNorm_200Epoch/residuals_fourmomentum\",dpi=300)"
   ]
  },
  {
   "cell_type": "code",
   "execution_count": 21,
   "id": "verbal-characterization",
   "metadata": {},
   "outputs": [],
   "source": [
    "unnormed_test_data = torch.tensor(unnormed_test.values)\n",
    "normed_test_data = torch.tensor(test.values)\n",
    "\n",
    "pred = model(normed_test_data)\n",
    "\n",
    "unnormed_test_pred = unnormalize_predictions(pred)"
   ]
  },
  {
   "cell_type": "code",
   "execution_count": 22,
   "id": "eleven-pavilion",
   "metadata": {},
   "outputs": [
    {
     "name": "stdout",
     "output_type": "stream",
     "text": [
      "First 5 Input: \n",
      "tensor([[ 1.9355e+00,  1.9235e+00,  1.3025e-01,  4.1245e-01],\n",
      "        [ 1.8407e+00,  1.7004e+00,  5.3999e-01, -6.1841e-01],\n",
      "        [ 1.5587e+00,  1.5570e+00, -5.0219e-04,  8.1866e-01],\n",
      "        [ 1.5251e+00,  1.4985e+00,  2.0823e-01, -3.0359e-01],\n",
      "        [ 1.7020e+00,  1.4857e+00, -7.2400e-01,  8.5120e-01]])\n",
      "\n",
      "\n",
      "First 5 Output: \n",
      "tensor([[ 1.9341,  1.9175,  0.1299,  0.3782],\n",
      "        [ 1.8370,  1.6993,  0.5282, -0.6289],\n",
      "        [ 1.5522,  1.5528,  0.0060,  0.7931],\n",
      "        [ 1.5298,  1.4913,  0.2051, -0.3331],\n",
      "        [ 1.7016,  1.4915, -0.7077,  0.8291]], grad_fn=<SliceBackward>)\n"
     ]
    }
   ],
   "source": [
    "print(\"First 5 Input: \")\n",
    "print(normed_test_data[0:5])\n",
    "print('\\n')\n",
    "print(\"First 5 Output: \")\n",
    "print(pred[0:5])"
   ]
  },
  {
   "cell_type": "code",
   "execution_count": 23,
   "id": "minor-arrival",
   "metadata": {},
   "outputs": [
    {
     "name": "stdout",
     "output_type": "stream",
     "text": [
      "First 5 Input: \n",
      "tensor([[ 6.4031e+05,  5.8952e+05,  3.9075e-01,  1.2373e+00],\n",
      "        [ 3.3279e+05,  1.2627e+05,  1.6200e+00, -1.8552e+00],\n",
      "        [ 4.7444e+04,  4.6892e+04, -1.5066e-03,  2.4560e+00],\n",
      "        [ 3.7600e+04,  3.1289e+04,  6.2468e-01, -9.1078e-01],\n",
      "        [ 1.2768e+05,  2.8651e+04, -2.1720e+00,  2.5536e+00]],\n",
      "       dtype=torch.float64)\n",
      "\n",
      "\n",
      "First 5 Output: \n",
      "tensor([[ 6.3419e+05,  5.6554e+05,  3.8979e-01,  1.1345e+00],\n",
      "        [ 3.2429e+05,  1.2528e+05,  1.5846e+00, -1.8866e+00],\n",
      "        [ 4.5340e+04,  4.5532e+04,  1.7859e-02,  2.3794e+00],\n",
      "        [ 3.8839e+04,  2.9777e+04,  6.1535e-01, -9.9935e-01],\n",
      "        [ 1.2727e+05,  2.9817e+04, -2.1230e+00,  2.4874e+00]],\n",
      "       grad_fn=<SliceBackward>)\n"
     ]
    }
   ],
   "source": [
    "print(\"First 5 Input: \")\n",
    "print(unnormed_test_data[0:5])\n",
    "print('\\n')\n",
    "print(\"First 5 Output: \")\n",
    "print(unnormed_test_pred[0:5])"
   ]
  },
  {
   "cell_type": "code",
   "execution_count": 31,
   "id": "strong-quantum",
   "metadata": {},
   "outputs": [
    {
     "data": {
      "image/png": "[encoded data removed]",
      "text/plain": [
       "<Figure size 1080x1080 with 4 Axes>"
      ]
     },
     "metadata": {
      "needs_background": "light"
     },
     "output_type": "display_data"
    }
   ],
   "source": [
    "plot_input_vs_output(unnormed_test_data, unnormed_test_pred, save=True)"
   ]
  },
  {
   "cell_type": "code",
   "execution_count": 34,
   "id": "moved-blackjack",
   "metadata": {},
   "outputs": [
    {
     "data": {
      "image/png": "[encoded data removed]",
      "text/plain": [
       "<Figure size 1080x1080 with 4 Axes>"
      ]
     },
     "metadata": {
      "needs_background": "light"
     },
     "output_type": "display_data"
    }
   ],
   "source": [
    "plot_residuals(unnormed_test_data, unnormed_test_pred, save=True)"
   ]
  },
  {
   "cell_type": "code",
   "execution_count": 26,
   "id": "resident-trash",
   "metadata": {},
   "outputs": [],
   "source": [
    "def calc_mse_test(normed_test_data, pred):\n",
    "    return (normed_test_data - pred).square().mean()"
   ]
  },
  {
   "cell_type": "code",
   "execution_count": 27,
   "id": "interesting-nerve",
   "metadata": {},
   "outputs": [
    {
     "data": {
      "text/plain": [
       "tensor(0.0002, grad_fn=<MeanBackward0>)"
      ]
     },
     "execution_count": 27,
     "metadata": {},
     "output_type": "execute_result"
    }
   ],
   "source": [
    "calc_mse_test(normed_test_data, pred)#Overall MSE"
   ]
  },
  {
   "cell_type": "code",
   "execution_count": 35,
   "id": "expected-chemical",
   "metadata": {},
   "outputs": [
    {
     "data": {
      "text/plain": [
       "tensor(3.2160e-05, grad_fn=<MeanBackward0>)"
      ]
     },
     "execution_count": 35,
     "metadata": {},
     "output_type": "execute_result"
    }
   ],
   "source": [
    "calc_mse_test(normed_test_data[:, 0], pred[:, 0])#MSE for E"
   ]
  },
  {
   "cell_type": "code",
   "execution_count": 36,
   "id": "exciting-innocent",
   "metadata": {},
   "outputs": [
    {
     "data": {
      "text/plain": [
       "tensor(2.5924e-05, grad_fn=<MeanBackward0>)"
      ]
     },
     "execution_count": 36,
     "metadata": {},
     "output_type": "execute_result"
    }
   ],
   "source": [
    "calc_mse_test(normed_test_data[:, 1], pred[:, 1])#MSE for pt"
   ]
  },
  {
   "cell_type": "code",
   "execution_count": 37,
   "id": "distributed-willow",
   "metadata": {},
   "outputs": [
    {
     "data": {
      "text/plain": [
       "tensor(0.0002, grad_fn=<MeanBackward0>)"
      ]
     },
     "execution_count": 37,
     "metadata": {},
     "output_type": "execute_result"
    }
   ],
   "source": [
    "calc_mse_test(normed_test_data[:, 2], pred[:, 2])#MSE for eta"
   ]
  },
  {
   "cell_type": "code",
   "execution_count": 38,
   "id": "periodic-rover",
   "metadata": {},
   "outputs": [
    {
     "data": {
      "text/plain": [
       "tensor(0.0007, grad_fn=<MeanBackward0>)"
      ]
     },
     "execution_count": 38,
     "metadata": {},
     "output_type": "execute_result"
    }
   ],
   "source": [
    "calc_mse_test(normed_test_data[:, 3], pred[:, 3])#MSE for phi"
   ]
  }
 ],
 "metadata": {
  "kernelspec": {
   "display_name": "gsoc",
   "language": "python",
   "name": "gsoc"
  },
  "language_info": {
   "codemirror_mode": {
    "name": "ipython",
    "version": 3
   },
   "file_extension": ".py",
   "mimetype": "text/x-python",
   "name": "python",
   "nbconvert_exporter": "python",
   "pygments_lexer": "ipython3",
   "version": "3.8.8"
  }
 },
 "nbformat": 4,
 "nbformat_minor": 5
}
