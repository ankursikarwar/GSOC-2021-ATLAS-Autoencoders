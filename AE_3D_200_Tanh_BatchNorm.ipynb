{
 "cells": [
  {
   "cell_type": "markdown",
   "id": "emerging-chicken",
   "metadata": {},
   "source": [
    "## **In this notebook, we use following autoencoder for compression.**"
   ]
  },
  {
   "cell_type": "markdown",
   "id": "gross-friendly",
   "metadata": {},
   "source": [
    "><ul>\n",
    "><li>Preprocessing: Custom Normalization $E$ -> $(\\log_{10} E) / 3$, $p_T$ -> $(\\log_{10} p_T) / 3$, $\\eta$ -> $\\eta / 3$, $\\phi$ -> $\\phi / 3$</li>\n",
    "><li>Architecture: in-200-200-20-3-20-200-200-out</li>\n",
    "><li>Tanh Activation</li>\n",
    "><li>BatchNorm</li>\n",
    "><li>Epoch: 200</li>\n",
    "></ul>"
   ]
  },
  {
   "cell_type": "code",
   "execution_count": 1,
   "id": "about-dimension",
   "metadata": {},
   "outputs": [],
   "source": [
    "import time\n",
    "import numpy as np\n",
    "import pandas as pd\n",
    "import matplotlib.pyplot as plt\n",
    "\n",
    "import torch\n",
    "import torch.nn as nn\n",
    "import torch.optim as optim\n",
    "import torch.utils.data\n",
    "from torch.autograd import Variable\n",
    "\n",
    "from torch.utils.data import TensorDataset\n",
    "from torch.utils.data import DataLoader\n",
    "\n",
    "from fastai import learner\n",
    "from fastai.data import core\n",
    "from fastai.metrics import mse\n",
    "from fastai.callback import schedule"
   ]
  },
  {
   "cell_type": "code",
   "execution_count": 31,
   "id": "hollywood-glucose",
   "metadata": {},
   "outputs": [],
   "source": [
    "params = {'legend.fontsize': 'x-large',\n",
    "          'figure.figsize': (15, 15),\n",
    "         'axes.labelsize': 'x-large',\n",
    "         'axes.titlesize':'x-large',\n",
    "         'xtick.labelsize':'x-large',\n",
    "         'ytick.labelsize':'x-large'}\n",
    "plt.rcParams.update(params)"
   ]
  },
  {
   "cell_type": "markdown",
   "id": "dental-strength",
   "metadata": {},
   "source": [
    ">### **Data Preparation**"
   ]
  },
  {
   "cell_type": "code",
   "execution_count": 2,
   "id": "present-guinea",
   "metadata": {},
   "outputs": [],
   "source": [
    "unnormed_train_path = './jet_data_unnormed_80train.pkl'\n",
    "unnormed_test_path = './jet_data_unnormed_20test.pkl'\n",
    "\n",
    "unnormed_train = pd.read_pickle(unnormed_train_path)\n",
    "unnormed_test = pd.read_pickle(unnormed_test_path)"
   ]
  },
  {
   "cell_type": "code",
   "execution_count": 3,
   "id": "split-packet",
   "metadata": {},
   "outputs": [],
   "source": [
    "def get_custom_normalize_data():\n",
    "    \n",
    "    train = pd.read_pickle(unnormed_train_path)\n",
    "    test = pd.read_pickle(unnormed_test_path)\n",
    "    train['pt'] = train['pt'].apply(lambda x: np.log10(x) / 3.)\n",
    "    train['E'] = train['E'].apply(lambda x: np.log10(x)  / 3.)\n",
    "    train['eta'] = train['eta'] / 3.\n",
    "    train['phi'] = train['phi'] / 3.\n",
    "    \n",
    "    test['pt'] = test['pt'].apply(lambda x: np.log10(x) / 3.)\n",
    "    test['E'] = test['E'].apply(lambda x: np.log10(x) / 3.)\n",
    "    test['eta'] = test['eta'] / 3.\n",
    "    test['phi'] = test['phi'] / 3.\n",
    "\n",
    "    return train.astype('float32'), test.astype('float32')"
   ]
  },
  {
   "cell_type": "code",
   "execution_count": 4,
   "id": "insured-happening",
   "metadata": {},
   "outputs": [],
   "source": [
    "train, test = get_custom_normalize_data()"
   ]
  },
  {
   "cell_type": "code",
   "execution_count": 5,
   "id": "characteristic-traveler",
   "metadata": {},
   "outputs": [
    {
     "data": {
      "text/html": [
       "<div>\n",
       "<style scoped>\n",
       "    .dataframe tbody tr th:only-of-type {\n",
       "        vertical-align: middle;\n",
       "    }\n",
       "\n",
       "    .dataframe tbody tr th {\n",
       "        vertical-align: top;\n",
       "    }\n",
       "\n",
       "    .dataframe thead th {\n",
       "        text-align: right;\n",
       "    }\n",
       "</style>\n",
       "<table border=\"1\" class=\"dataframe\">\n",
       "  <thead>\n",
       "    <tr style=\"text-align: right;\">\n",
       "      <th></th>\n",
       "      <th>E</th>\n",
       "      <th>pt</th>\n",
       "      <th>eta</th>\n",
       "      <th>phi</th>\n",
       "    </tr>\n",
       "  </thead>\n",
       "  <tbody>\n",
       "    <tr>\n",
       "      <th>11092</th>\n",
       "      <td>73356.1</td>\n",
       "      <td>68288.8</td>\n",
       "      <td>-0.364836</td>\n",
       "      <td>-2.683820</td>\n",
       "    </tr>\n",
       "    <tr>\n",
       "      <th>6607</th>\n",
       "      <td>155625.0</td>\n",
       "      <td>114949.0</td>\n",
       "      <td>0.809188</td>\n",
       "      <td>3.009770</td>\n",
       "    </tr>\n",
       "    <tr>\n",
       "      <th>9670</th>\n",
       "      <td>36304.3</td>\n",
       "      <td>27072.0</td>\n",
       "      <td>0.792701</td>\n",
       "      <td>0.196966</td>\n",
       "    </tr>\n",
       "    <tr>\n",
       "      <th>13354</th>\n",
       "      <td>329132.0</td>\n",
       "      <td>280958.0</td>\n",
       "      <td>-0.575831</td>\n",
       "      <td>2.154610</td>\n",
       "    </tr>\n",
       "    <tr>\n",
       "      <th>16500</th>\n",
       "      <td>855691.0</td>\n",
       "      <td>647140.0</td>\n",
       "      <td>0.781380</td>\n",
       "      <td>-3.058920</td>\n",
       "    </tr>\n",
       "  </tbody>\n",
       "</table>\n",
       "</div>"
      ],
      "text/plain": [
       "              E        pt       eta       phi\n",
       "11092   73356.1   68288.8 -0.364836 -2.683820\n",
       "6607   155625.0  114949.0  0.809188  3.009770\n",
       "9670    36304.3   27072.0  0.792701  0.196966\n",
       "13354  329132.0  280958.0 -0.575831  2.154610\n",
       "16500  855691.0  647140.0  0.781380 -3.058920"
      ]
     },
     "execution_count": 5,
     "metadata": {},
     "output_type": "execute_result"
    }
   ],
   "source": [
    "unnormed_train.head()"
   ]
  },
  {
   "cell_type": "code",
   "execution_count": 6,
   "id": "heard-bonus",
   "metadata": {},
   "outputs": [
    {
     "data": {
      "text/html": [
       "<div>\n",
       "<style scoped>\n",
       "    .dataframe tbody tr th:only-of-type {\n",
       "        vertical-align: middle;\n",
       "    }\n",
       "\n",
       "    .dataframe tbody tr th {\n",
       "        vertical-align: top;\n",
       "    }\n",
       "\n",
       "    .dataframe thead th {\n",
       "        text-align: right;\n",
       "    }\n",
       "</style>\n",
       "<table border=\"1\" class=\"dataframe\">\n",
       "  <thead>\n",
       "    <tr style=\"text-align: right;\">\n",
       "      <th></th>\n",
       "      <th>E</th>\n",
       "      <th>pt</th>\n",
       "      <th>eta</th>\n",
       "      <th>phi</th>\n",
       "    </tr>\n",
       "  </thead>\n",
       "  <tbody>\n",
       "    <tr>\n",
       "      <th>11092</th>\n",
       "      <td>1.621812</td>\n",
       "      <td>1.611450</td>\n",
       "      <td>-0.121612</td>\n",
       "      <td>-0.894607</td>\n",
       "    </tr>\n",
       "    <tr>\n",
       "      <th>6607</th>\n",
       "      <td>1.730693</td>\n",
       "      <td>1.686835</td>\n",
       "      <td>0.269729</td>\n",
       "      <td>1.003257</td>\n",
       "    </tr>\n",
       "    <tr>\n",
       "      <th>9670</th>\n",
       "      <td>1.519986</td>\n",
       "      <td>1.477507</td>\n",
       "      <td>0.264234</td>\n",
       "      <td>0.065655</td>\n",
       "    </tr>\n",
       "    <tr>\n",
       "      <th>13354</th>\n",
       "      <td>1.839123</td>\n",
       "      <td>1.816214</td>\n",
       "      <td>-0.191944</td>\n",
       "      <td>0.718203</td>\n",
       "    </tr>\n",
       "    <tr>\n",
       "      <th>16500</th>\n",
       "      <td>1.977439</td>\n",
       "      <td>1.936999</td>\n",
       "      <td>0.260460</td>\n",
       "      <td>-1.019640</td>\n",
       "    </tr>\n",
       "  </tbody>\n",
       "</table>\n",
       "</div>"
      ],
      "text/plain": [
       "              E        pt       eta       phi\n",
       "11092  1.621812  1.611450 -0.121612 -0.894607\n",
       "6607   1.730693  1.686835  0.269729  1.003257\n",
       "9670   1.519986  1.477507  0.264234  0.065655\n",
       "13354  1.839123  1.816214 -0.191944  0.718203\n",
       "16500  1.977439  1.936999  0.260460 -1.019640"
      ]
     },
     "execution_count": 6,
     "metadata": {},
     "output_type": "execute_result"
    }
   ],
   "source": [
    "train.head()"
   ]
  },
  {
   "cell_type": "code",
   "execution_count": 7,
   "id": "collective-manor",
   "metadata": {},
   "outputs": [],
   "source": [
    "train_x = train\n",
    "test_x = test\n",
    "train_y = train_x\n",
    "test_y = test_x\n",
    "\n",
    "train_ds = TensorDataset(torch.tensor(train_x.values, dtype=torch.float), torch.tensor(train_y.values, dtype=torch.float))\n",
    "valid_ds = TensorDataset(torch.tensor(test_x.values, dtype=torch.float), torch.tensor(test_y.values, dtype=torch.float))"
   ]
  },
  {
   "cell_type": "code",
   "execution_count": 8,
   "id": "instructional-makeup",
   "metadata": {},
   "outputs": [],
   "source": [
    "bs = 256\n",
    "\n",
    "train_dl = DataLoader(train_ds, batch_size=bs, shuffle=False)\n",
    "valid_dl = DataLoader(valid_ds, batch_size=bs * 2)\n",
    "dls = core.DataLoaders(train_dl, valid_dl)"
   ]
  },
  {
   "cell_type": "markdown",
   "id": "fourth-breeding",
   "metadata": {},
   "source": [
    ">### **Model Preparation**"
   ]
  },
  {
   "cell_type": "code",
   "execution_count": 9,
   "id": "resistant-cause",
   "metadata": {},
   "outputs": [],
   "source": [
    "class AE_3D_200_Tanh_BatchNorm(nn.Module):\n",
    "    def __init__(self, n_features=4):\n",
    "        super(AE_3D_200_Tanh_BatchNorm, self).__init__()\n",
    "        self.en1 = nn.Linear(n_features, 200)\n",
    "        self.bn1 = nn.BatchNorm1d(200)\n",
    "        self.en2 = nn.Linear(200, 200)\n",
    "        self.bn2 = nn.BatchNorm1d(200)\n",
    "        self.en3 = nn.Linear(200, 20)\n",
    "        self.bn3 = nn.BatchNorm1d(20)\n",
    "        self.en4 = nn.Linear(20, 3)\n",
    "        self.bn5 = nn.BatchNorm1d(3)\n",
    "        self.de1 = nn.Linear(3, 20)\n",
    "        self.bn6 = nn.BatchNorm1d(20)\n",
    "        self.de2 = nn.Linear(20, 200)\n",
    "        self.bn7 = nn.BatchNorm1d(200)\n",
    "        self.de3 = nn.Linear(200, 200)\n",
    "        self.bn8 = nn.BatchNorm1d(200)\n",
    "        self.de4 = nn.Linear(200, n_features)\n",
    "        self.tanh = nn.Tanh()\n",
    "\n",
    "    def encode(self, x):\n",
    "        h1 = self.bn1(self.tanh(self.en1(x)))\n",
    "        h2 = self.bn2(self.tanh(self.en2(h1)))\n",
    "        h3 = self.bn3(self.tanh(self.en3(h2)))\n",
    "        z = self.en4(h3)\n",
    "        return z\n",
    "\n",
    "    def decode(self, x):\n",
    "        h5 = self.bn6(self.tanh(self.de1(self.bn5(self.tanh(x)))))\n",
    "        h6 = self.bn7(self.tanh(self.de2(h5)))\n",
    "        h7 = self.bn8(self.tanh(self.de3(h6)))\n",
    "        return self.de4(h7)\n",
    "\n",
    "    def forward(self, x):\n",
    "        z = self.encode(x)\n",
    "        return self.decode(z)\n",
    "\n",
    "    def describe(self):\n",
    "        return 'in-200-200-20-3-20-200-200-out'\n",
    "\n",
    "model = AE_3D_200_Tanh_BatchNorm()"
   ]
  },
  {
   "cell_type": "code",
   "execution_count": 10,
   "id": "understood-background",
   "metadata": {},
   "outputs": [],
   "source": [
    "loss_func = nn.MSELoss()\n",
    "\n",
    "wd = 1e-6\n",
    "\n",
    "recorder = learner.Recorder()\n",
    "learn = learner.Learner(dls, model=model, wd=wd, loss_func=loss_func, cbs=recorder)"
   ]
  },
  {
   "cell_type": "code",
   "execution_count": 11,
   "id": "hybrid-pontiac",
   "metadata": {},
   "outputs": [
    {
     "name": "stdout",
     "output_type": "stream",
     "text": [
      "Learning rate with the minimum loss: 0.002754228748381138\n",
      "Learning rate with the steepest gradient: 0.02290867641568184\n"
     ]
    },
    {
     "data": {
      "image/png": "[encoded data removed]",
      "text/plain": [
       "<Figure size 432x288 with 1 Axes>"
      ]
     },
     "metadata": {
      "needs_background": "light"
     },
     "output_type": "display_data"
    }
   ],
   "source": [
    "lr_min, lr_steep = learn.lr_find()\n",
    "\n",
    "print('Learning rate with the minimum loss:', lr_min)\n",
    "print('Learning rate with the steepest gradient:', lr_steep)"
   ]
  },
  {
   "cell_type": "markdown",
   "id": "practical-palestinian",
   "metadata": {},
   "source": [
    ">### **Begin Training**"
   ]
  },
  {
   "cell_type": "code",
   "execution_count": 12,
   "id": "pleased-translation",
   "metadata": {},
   "outputs": [
    {
     "name": "stdout",
     "output_type": "stream",
     "text": [
      "[0, 1.5343528985977173, 1.4985966682434082, '00:01']\n",
      "[0, 1.5343528985977173, 1.4985966682434082, '00:01']\n",
      "[1, 1.4431788921356201, 1.3917009830474854, '00:00']\n",
      "[1, 1.4431788921356201, 1.3917009830474854, '00:00']\n",
      "[2, 1.3215886354446411, 1.2172420024871826, '00:01']\n",
      "[2, 1.3215886354446411, 1.2172420024871826, '00:01']\n",
      "[3, 1.1297690868377686, 0.9657606482505798, '00:01']\n",
      "[3, 1.1297690868377686, 0.9657606482505798, '00:01']\n",
      "[4, 0.8571622371673584, 0.6378244757652283, '00:01']\n",
      "[4, 0.8571622371673584, 0.6378244757652283, '00:01']\n",
      "[5, 0.5342715382575989, 0.30349862575531006, '00:01']\n",
      "[5, 0.5342715382575989, 0.30349862575531006, '00:01']\n",
      "[6, 0.2422575205564499, 0.07005926966667175, '00:01']\n",
      "[6, 0.2422575205564499, 0.07005926966667175, '00:01']\n",
      "[7, 0.07366814464330673, 0.004373473115265369, '00:01']\n",
      "[7, 0.07366814464330673, 0.004373473115265369, '00:01']\n",
      "[8, 0.020416738465428352, 0.002845273818820715, '00:01']\n",
      "[8, 0.020416738465428352, 0.002845273818820715, '00:01']\n",
      "[9, 0.007561343722045422, 0.003062015864998102, '00:01']\n",
      "[9, 0.007561343722045422, 0.003062015864998102, '00:01']\n",
      "[10, 0.004507833626121283, 0.002533117774873972, '00:01']\n",
      "[10, 0.004507833626121283, 0.002533117774873972, '00:01']\n",
      "[11, 0.004004608374089003, 0.002863482339307666, '00:01']\n",
      "[11, 0.004004608374089003, 0.002863482339307666, '00:01']\n",
      "[12, 0.004020961467176676, 0.0030742401722818613, '00:01']\n",
      "[12, 0.004020961467176676, 0.0030742401722818613, '00:01']\n",
      "[13, 0.004362586420029402, 0.002996816299855709, '00:01']\n",
      "[13, 0.004362586420029402, 0.002996816299855709, '00:01']\n",
      "[14, 0.0044026984833180904, 0.001932827872224152, '00:01']\n",
      "[14, 0.0044026984833180904, 0.001932827872224152, '00:01']\n",
      "[15, 0.004625905305147171, 0.0024983512703329325, '00:01']\n",
      "[15, 0.004625905305147171, 0.0024983512703329325, '00:01']\n",
      "[16, 0.004820709582418203, 0.0034153375308960676, '00:01']\n",
      "[16, 0.004820709582418203, 0.0034153375308960676, '00:01']\n",
      "[17, 0.004869192373007536, 0.005577631760388613, '00:01']\n",
      "[17, 0.004869192373007536, 0.005577631760388613, '00:01']\n",
      "[18, 0.005175027996301651, 0.003936376888304949, '00:01']\n",
      "[18, 0.005175027996301651, 0.003936376888304949, '00:01']\n",
      "[19, 0.004821923561394215, 0.005344365257769823, '00:01']\n",
      "[19, 0.004821923561394215, 0.005344365257769823, '00:01']\n",
      "[20, 0.004968432243913412, 0.008425446227192879, '00:01']\n",
      "[20, 0.004968432243913412, 0.008425446227192879, '00:01']\n",
      "[21, 0.005413245875388384, 0.008493529632687569, '00:01']\n",
      "[21, 0.005413245875388384, 0.008493529632687569, '00:01']\n",
      "[22, 0.005699160508811474, 0.007410749793052673, '00:01']\n",
      "[22, 0.005699160508811474, 0.007410749793052673, '00:01']\n",
      "[23, 0.005736097693443298, 0.0068806069903075695, '00:01']\n",
      "[23, 0.005736097693443298, 0.0068806069903075695, '00:01']\n",
      "[24, 0.0056500667706131935, 0.006411838345229626, '00:01']\n",
      "[24, 0.0056500667706131935, 0.006411838345229626, '00:01']\n",
      "[25, 0.005573668982833624, 0.0069214035756886005, '00:00']\n",
      "[25, 0.005573668982833624, 0.0069214035756886005, '00:00']\n",
      "[26, 0.005373239051550627, 0.006816156208515167, '00:01']\n",
      "[26, 0.005373239051550627, 0.006816156208515167, '00:01']\n",
      "[27, 0.005285384599119425, 0.006048575509339571, '00:01']\n",
      "[27, 0.005285384599119425, 0.006048575509339571, '00:01']\n",
      "[28, 0.005529199726879597, 0.005383747164160013, '00:01']\n",
      "[28, 0.005529199726879597, 0.005383747164160013, '00:01']\n",
      "[29, 0.006335556041449308, 0.008238695561885834, '00:01']\n",
      "[29, 0.006335556041449308, 0.008238695561885834, '00:01']\n",
      "[30, 0.005354605615139008, 0.004813404753804207, '00:00']\n",
      "[30, 0.005354605615139008, 0.004813404753804207, '00:00']\n",
      "[31, 0.005488417576998472, 0.0060665481723845005, '00:01']\n",
      "[31, 0.005488417576998472, 0.0060665481723845005, '00:01']\n",
      "[32, 0.00564914895221591, 0.005860409699380398, '00:01']\n",
      "[32, 0.00564914895221591, 0.005860409699380398, '00:01']\n",
      "[33, 0.005526338238269091, 0.004764314275234938, '00:01']\n",
      "[33, 0.005526338238269091, 0.004764314275234938, '00:01']\n",
      "[34, 0.005609822925180197, 0.004622815176844597, '00:01']\n",
      "[34, 0.005609822925180197, 0.004622815176844597, '00:01']\n",
      "[35, 0.005576707888394594, 0.0040361881256103516, '00:01']\n",
      "[35, 0.005576707888394594, 0.0040361881256103516, '00:01']\n",
      "[36, 0.005696008913218975, 0.003568488173186779, '00:01']\n",
      "[36, 0.005696008913218975, 0.003568488173186779, '00:01']\n",
      "[37, 0.006532111205160618, 0.007586383260786533, '00:00']\n",
      "[37, 0.006532111205160618, 0.007586383260786533, '00:00']\n",
      "[38, 0.006359645631164312, 0.00570426881313324, '00:00']\n",
      "[38, 0.006359645631164312, 0.00570426881313324, '00:00']\n",
      "[39, 0.005945679731667042, 0.004545480944216251, '00:00']\n",
      "[39, 0.005945679731667042, 0.004545480944216251, '00:00']\n",
      "[40, 0.006525312550365925, 0.003724227426573634, '00:01']\n",
      "[40, 0.006525312550365925, 0.003724227426573634, '00:01']\n",
      "[41, 0.0063024237751960754, 0.007425334304571152, '00:01']\n",
      "[41, 0.0063024237751960754, 0.007425334304571152, '00:01']\n",
      "[42, 0.006800857372581959, 0.007767912931740284, '00:01']\n",
      "[42, 0.006800857372581959, 0.007767912931740284, '00:01']\n",
      "[43, 0.014871044084429741, 0.013143019750714302, '00:00']\n",
      "[43, 0.014871044084429741, 0.013143019750714302, '00:00']\n",
      "[44, 0.013394228182733059, 0.00645871227607131, '00:01']\n",
      "[44, 0.013394228182733059, 0.00645871227607131, '00:01']\n",
      "[45, 0.014437049627304077, 0.019891832023859024, '00:01']\n",
      "[45, 0.014437049627304077, 0.019891832023859024, '00:01']\n",
      "[46, 0.011211508885025978, 0.0059641385450959206, '00:01']\n",
      "[46, 0.011211508885025978, 0.0059641385450959206, '00:01']\n",
      "[47, 0.007514374330639839, 0.0044855582527816296, '00:01']\n",
      "[47, 0.007514374330639839, 0.0044855582527816296, '00:01']\n",
      "[48, 0.006676128599792719, 0.004358032252639532, '00:01']\n",
      "[48, 0.006676128599792719, 0.004358032252639532, '00:01']\n",
      "[49, 0.009092631749808788, 0.018023714423179626, '00:01']\n",
      "[49, 0.009092631749808788, 0.018023714423179626, '00:01']\n",
      "[50, 0.0091361403465271, 0.011061480268836021, '00:01']\n",
      "[50, 0.0091361403465271, 0.011061480268836021, '00:01']\n",
      "[51, 0.006802815478295088, 0.004050358664244413, '00:01']\n",
      "[51, 0.006802815478295088, 0.004050358664244413, '00:01']\n",
      "[52, 0.006438246928155422, 0.006482361815869808, '00:01']\n",
      "[52, 0.006438246928155422, 0.006482361815869808, '00:01']\n",
      "[53, 0.008995238691568375, 0.02034270390868187, '00:01']\n",
      "[53, 0.008995238691568375, 0.02034270390868187, '00:01']\n",
      "[54, 0.007678971625864506, 0.0072916969656944275, '00:01']\n",
      "[54, 0.007678971625864506, 0.0072916969656944275, '00:01']\n",
      "[55, 0.011282778345048428, 0.006986060179769993, '00:01']\n",
      "[55, 0.011282778345048428, 0.006986060179769993, '00:01']\n",
      "[56, 0.008338060230016708, 0.0051142205484211445, '00:01']\n",
      "[56, 0.008338060230016708, 0.0051142205484211445, '00:01']\n",
      "[57, 0.00793531071394682, 0.007079460192471743, '00:01']\n",
      "[57, 0.00793531071394682, 0.007079460192471743, '00:01']\n",
      "[58, 0.007064880337566137, 0.005765797104686499, '00:01']\n",
      "[58, 0.007064880337566137, 0.005765797104686499, '00:01']\n",
      "[59, 0.007079517934471369, 0.005651038605719805, '00:01']\n",
      "[59, 0.007079517934471369, 0.005651038605719805, '00:01']\n",
      "[60, 0.008646971546113491, 0.006226775236427784, '00:01']\n",
      "[60, 0.008646971546113491, 0.006226775236427784, '00:01']\n",
      "[61, 0.006492555607110262, 0.0030747088603675365, '00:01']\n",
      "[61, 0.006492555607110262, 0.0030747088603675365, '00:01']\n",
      "[62, 0.006055131088942289, 0.006262165028601885, '00:01']\n",
      "[62, 0.006055131088942289, 0.006262165028601885, '00:01']\n",
      "[63, 0.005851820111274719, 0.0032127671875059605, '00:01']\n",
      "[63, 0.005851820111274719, 0.0032127671875059605, '00:01']\n",
      "[64, 0.005715633742511272, 0.0029706298373639584, '00:00']\n",
      "[64, 0.005715633742511272, 0.0029706298373639584, '00:00']\n",
      "[65, 0.008384536020457745, 0.006164841819554567, '00:01']\n",
      "[65, 0.008384536020457745, 0.006164841819554567, '00:01']\n",
      "[66, 0.007518122438341379, 0.004772529937326908, '00:01']\n",
      "[66, 0.007518122438341379, 0.004772529937326908, '00:01']\n",
      "[67, 0.006321239285171032, 0.0031618569046258926, '00:01']\n",
      "[67, 0.006321239285171032, 0.0031618569046258926, '00:01']\n",
      "[68, 0.006886675022542477, 0.01338992454111576, '00:01']\n",
      "[68, 0.006886675022542477, 0.01338992454111576, '00:01']\n",
      "[69, 0.0099856061860919, 0.008004844188690186, '00:00']\n",
      "[69, 0.0099856061860919, 0.008004844188690186, '00:00']\n",
      "[70, 0.00710800988599658, 0.006728479638695717, '00:01']\n",
      "[70, 0.00710800988599658, 0.006728479638695717, '00:01']\n",
      "[71, 0.006681096274405718, 0.011712988838553429, '00:01']\n",
      "[71, 0.006681096274405718, 0.011712988838553429, '00:01']\n",
      "[72, 0.006655436009168625, 0.0037777191027998924, '00:01']\n",
      "[72, 0.006655436009168625, 0.0037777191027998924, '00:01']\n",
      "[73, 0.0052353935316205025, 0.0027414890937507153, '00:01']\n",
      "[73, 0.0052353935316205025, 0.0027414890937507153, '00:01']\n",
      "[74, 0.005072823725640774, 0.002385987900197506, '00:01']\n",
      "[74, 0.005072823725640774, 0.002385987900197506, '00:01']\n",
      "[75, 0.007311342749744654, 0.008680600672960281, '00:01']\n",
      "[75, 0.007311342749744654, 0.008680600672960281, '00:01']\n",
      "[76, 0.008904173038899899, 0.009935115464031696, '00:01']\n",
      "[76, 0.008904173038899899, 0.009935115464031696, '00:01']\n",
      "[77, 0.006720749195665121, 0.011845113709568977, '00:01']\n",
      "[77, 0.006720749195665121, 0.011845113709568977, '00:01']\n",
      "[78, 0.006213277578353882, 0.007992208003997803, '00:01']\n",
      "[78, 0.006213277578353882, 0.007992208003997803, '00:01']\n",
      "[79, 0.005609719082713127, 0.0051039052195847034, '00:01']\n",
      "[79, 0.005609719082713127, 0.0051039052195847034, '00:01']\n",
      "[80, 0.0049581825733184814, 0.0034009218215942383, '00:01']\n",
      "[80, 0.0049581825733184814, 0.0034009218215942383, '00:01']\n",
      "[81, 0.005032089538872242, 0.007684485521167517, '00:01']\n",
      "[81, 0.005032089538872242, 0.007684485521167517, '00:01']\n",
      "[82, 0.009599028155207634, 0.010783261619508266, '00:01']\n",
      "[82, 0.009599028155207634, 0.010783261619508266, '00:01']\n",
      "[83, 0.007198907434940338, 0.008521998301148415, '00:01']\n",
      "[83, 0.007198907434940338, 0.008521998301148415, '00:01']\n",
      "[84, 0.00551619753241539, 0.00722116231918335, '00:01']\n",
      "[84, 0.00551619753241539, 0.00722116231918335, '00:01']\n",
      "[85, 0.004840900655835867, 0.006989103741943836, '00:01']\n",
      "[85, 0.004840900655835867, 0.006989103741943836, '00:01']\n",
      "[86, 0.004630539566278458, 0.00785386934876442, '00:01']\n",
      "[86, 0.004630539566278458, 0.00785386934876442, '00:01']\n",
      "[87, 0.004587462171912193, 0.006825849413871765, '00:01']\n",
      "[87, 0.004587462171912193, 0.006825849413871765, '00:01']\n",
      "[88, 0.005379779264330864, 0.005724106915295124, '00:01']\n",
      "[88, 0.005379779264330864, 0.005724106915295124, '00:01']\n",
      "[89, 0.005282230209559202, 0.00845144223421812, '00:01']\n",
      "[89, 0.005282230209559202, 0.00845144223421812, '00:01']\n",
      "[90, 0.004740352276712656, 0.008058669976890087, '00:01']\n",
      "[90, 0.004740352276712656, 0.008058669976890087, '00:01']\n",
      "[91, 0.004386494867503643, 0.0048472825437784195, '00:01']\n",
      "[91, 0.004386494867503643, 0.0048472825437784195, '00:01']\n",
      "[92, 0.004129698034375906, 0.004434873815625906, '00:01']\n",
      "[92, 0.004129698034375906, 0.004434873815625906, '00:01']\n",
      "[93, 0.004351424984633923, 0.0020705785136669874, '00:01']\n",
      "[93, 0.004351424984633923, 0.0020705785136669874, '00:01']\n",
      "[94, 0.004567453172057867, 0.005991547834128141, '00:01']\n",
      "[94, 0.004567453172057867, 0.005991547834128141, '00:01']\n",
      "[95, 0.0045717628672719, 0.0023462874814867973, '00:01']\n",
      "[95, 0.0045717628672719, 0.0023462874814867973, '00:01']\n",
      "[96, 0.004007232375442982, 0.0018004912417382002, '00:00']\n",
      "[96, 0.004007232375442982, 0.0018004912417382002, '00:00']\n",
      "[97, 0.0038378944154828787, 0.0018566418439149857, '00:01']\n",
      "[97, 0.0038378944154828787, 0.0018566418439149857, '00:01']\n",
      "[98, 0.0038230877835303545, 0.004275652579963207, '00:01']\n",
      "[98, 0.0038230877835303545, 0.004275652579963207, '00:01']\n",
      "[99, 0.004174501169472933, 0.0032915209885686636, '00:01']\n",
      "[99, 0.004174501169472933, 0.0032915209885686636, '00:01']\n",
      "[100, 0.003910894505679607, 0.003419918939471245, '00:01']\n",
      "[100, 0.003910894505679607, 0.003419918939471245, '00:01']\n",
      "[101, 0.004466397687792778, 0.005341625772416592, '00:01']\n",
      "[101, 0.004466397687792778, 0.005341625772416592, '00:01']\n",
      "[102, 0.00415154779329896, 0.003598598763346672, '00:00']\n",
      "[102, 0.00415154779329896, 0.003598598763346672, '00:00']\n",
      "[103, 0.003686358919367194, 0.0031618764623999596, '00:01']\n",
      "[103, 0.003686358919367194, 0.0031618764623999596, '00:01']\n",
      "[104, 0.00356639944948256, 0.0034409761428833008, '00:01']\n",
      "[104, 0.00356639944948256, 0.0034409761428833008, '00:01']\n",
      "[105, 0.003389742923900485, 0.003582657314836979, '00:01']\n",
      "[105, 0.003389742923900485, 0.003582657314836979, '00:01']\n",
      "[106, 0.0033122440800070763, 0.004008771851658821, '00:01']\n",
      "[106, 0.0033122440800070763, 0.004008771851658821, '00:01']\n",
      "[107, 0.0033454427029937506, 0.011281822808086872, '00:01']\n",
      "[107, 0.0033454427029937506, 0.011281822808086872, '00:01']\n",
      "[108, 0.0036060232669115067, 0.003159273648634553, '00:01']\n",
      "[108, 0.0036060232669115067, 0.003159273648634553, '00:01']\n",
      "[109, 0.003949603997170925, 0.002177325077354908, '00:01']\n",
      "[109, 0.003949603997170925, 0.002177325077354908, '00:01']\n",
      "[110, 0.003818714525550604, 0.0017174159875139594, '00:01']\n",
      "[110, 0.003818714525550604, 0.0017174159875139594, '00:01']\n",
      "[111, 0.0034234344493597746, 0.0016134983161464334, '00:01']\n",
      "[111, 0.0034234344493597746, 0.0016134983161464334, '00:01']\n",
      "[112, 0.003163329092785716, 0.0018657593755051494, '00:01']\n",
      "[112, 0.003163329092785716, 0.0018657593755051494, '00:01']\n",
      "[113, 0.003062758594751358, 0.0019688005559146404, '00:01']\n",
      "[113, 0.003062758594751358, 0.0019688005559146404, '00:01']\n",
      "[114, 0.0030354028567671776, 0.002829410135746002, '00:01']\n",
      "[114, 0.0030354028567671776, 0.002829410135746002, '00:01']\n",
      "[115, 0.0031872428953647614, 0.0027281176298856735, '00:01']\n",
      "[115, 0.0031872428953647614, 0.0027281176298856735, '00:01']\n",
      "[116, 0.003216337412595749, 0.0034485612995922565, '00:01']\n",
      "[116, 0.003216337412595749, 0.0034485612995922565, '00:01']\n",
      "[117, 0.0031154812313616276, 0.0043641324155032635, '00:01']\n",
      "[117, 0.0031154812313616276, 0.0043641324155032635, '00:01']\n",
      "[118, 0.0030181731563061476, 0.0038003441877663136, '00:01']\n",
      "[118, 0.0030181731563061476, 0.0038003441877663136, '00:01']\n",
      "[119, 0.003043978475034237, 0.0053033893927931786, '00:01']\n",
      "[119, 0.003043978475034237, 0.0053033893927931786, '00:01']\n",
      "[120, 0.003088640747591853, 0.004059949424117804, '00:01']\n",
      "[120, 0.003088640747591853, 0.004059949424117804, '00:01']\n",
      "[121, 0.003197882091626525, 0.006927776150405407, '00:01']\n",
      "[121, 0.003197882091626525, 0.006927776150405407, '00:01']\n",
      "[122, 0.0032437180634588003, 0.00380342616699636, '00:01']\n",
      "[122, 0.0032437180634588003, 0.00380342616699636, '00:01']\n",
      "[123, 0.002893563127145171, 0.004664365202188492, '00:01']\n",
      "[123, 0.002893563127145171, 0.004664365202188492, '00:01']\n",
      "[124, 0.002960710320621729, 0.0038878696504980326, '00:01']\n",
      "[124, 0.002960710320621729, 0.0038878696504980326, '00:01']\n",
      "[125, 0.0027846351731568575, 0.004696357995271683, '00:01']\n",
      "[125, 0.0027846351731568575, 0.004696357995271683, '00:01']\n",
      "[126, 0.002678908873349428, 0.0051398249343037605, '00:01']\n",
      "[126, 0.002678908873349428, 0.0051398249343037605, '00:01']\n",
      "[127, 0.002669094828888774, 0.004453903064131737, '00:01']\n",
      "[127, 0.002669094828888774, 0.004453903064131737, '00:01']\n",
      "[128, 0.0025519360788166523, 0.005184382200241089, '00:01']\n",
      "[128, 0.0025519360788166523, 0.005184382200241089, '00:01']\n",
      "[129, 0.002536723855882883, 0.003501380328088999, '00:01']\n",
      "[129, 0.002536723855882883, 0.003501380328088999, '00:01']\n",
      "[130, 0.0024821057450026274, 0.00238778255879879, '00:01']\n",
      "[130, 0.0024821057450026274, 0.00238778255879879, '00:01']\n",
      "[131, 0.002451803535223007, 0.0022765910252928734, '00:01']\n",
      "[131, 0.002451803535223007, 0.0022765910252928734, '00:01']\n",
      "[132, 0.002438038121908903, 0.0016929999692365527, '00:01']\n",
      "[132, 0.002438038121908903, 0.0016929999692365527, '00:01']\n",
      "[133, 0.002424272010102868, 0.0007250792696140707, '00:01']\n",
      "[133, 0.002424272010102868, 0.0007250792696140707, '00:01']\n",
      "[134, 0.0023914834018796682, 0.0008488153107464314, '00:01']\n",
      "[134, 0.0023914834018796682, 0.0008488153107464314, '00:01']\n",
      "[135, 0.002366327913478017, 0.0010809217346832156, '00:01']\n",
      "[135, 0.002366327913478017, 0.0010809217346832156, '00:01']\n",
      "[136, 0.0022699697874486446, 0.0008287755772471428, '00:01']\n",
      "[136, 0.0022699697874486446, 0.0008287755772471428, '00:01']\n",
      "[137, 0.002240139991044998, 0.0008286809897981584, '00:01']\n",
      "[137, 0.002240139991044998, 0.0008286809897981584, '00:01']\n",
      "[138, 0.0022760399151593447, 0.0006340560503304005, '00:01']\n",
      "[138, 0.0022760399151593447, 0.0006340560503304005, '00:01']\n",
      "[139, 0.0023035125341266394, 0.0011558016994968057, '00:01']\n",
      "[139, 0.0023035125341266394, 0.0011558016994968057, '00:01']\n",
      "[140, 0.0022834916599094868, 0.0018572401022538543, '00:01']\n",
      "[140, 0.0022834916599094868, 0.0018572401022538543, '00:01']\n",
      "[141, 0.0022161081433296204, 0.002165950136259198, '00:01']\n",
      "[141, 0.0022161081433296204, 0.002165950136259198, '00:01']\n",
      "[142, 0.0021583763882517815, 0.0020679060835391283, '00:01']\n",
      "[142, 0.0021583763882517815, 0.0020679060835391283, '00:01']\n",
      "[143, 0.0021122810430824757, 0.002244147937744856, '00:01']\n",
      "[143, 0.0021122810430824757, 0.002244147937744856, '00:01']\n",
      "[144, 0.002099218312650919, 0.003221138846129179, '00:01']\n",
      "[144, 0.002099218312650919, 0.003221138846129179, '00:01']\n",
      "[145, 0.002129089320078492, 0.003777045989409089, '00:01']\n",
      "[145, 0.002129089320078492, 0.003777045989409089, '00:01']\n",
      "[146, 0.0021682134829461575, 0.003600259544327855, '00:01']\n",
      "[146, 0.0021682134829461575, 0.003600259544327855, '00:01']\n",
      "[147, 0.002172318520024419, 0.0021599160972982645, '00:01']\n",
      "[147, 0.002172318520024419, 0.0021599160972982645, '00:01']\n",
      "[148, 0.002070574788376689, 0.0014410191215574741, '00:01']\n",
      "[148, 0.002070574788376689, 0.0014410191215574741, '00:01']\n",
      "[149, 0.0020161597058176994, 0.0015127785736694932, '00:01']\n",
      "[149, 0.0020161597058176994, 0.0015127785736694932, '00:01']\n",
      "[150, 0.0019500205526128411, 0.0012307382421568036, '00:01']\n",
      "[150, 0.0019500205526128411, 0.0012307382421568036, '00:01']\n",
      "[151, 0.0018980159657076001, 0.0013321738224476576, '00:01']\n",
      "[151, 0.0018980159657076001, 0.0013321738224476576, '00:01']\n",
      "[152, 0.0018847021274268627, 0.0012387024471536279, '00:01']\n",
      "[152, 0.0018847021274268627, 0.0012387024471536279, '00:01']\n",
      "[153, 0.0019054620061069727, 0.001338514732196927, '00:01']\n",
      "[153, 0.0019054620061069727, 0.001338514732196927, '00:01']\n",
      "[154, 0.001985287293791771, 0.0013964080717414618, '00:00']\n",
      "[154, 0.001985287293791771, 0.0013964080717414618, '00:00']\n",
      "[155, 0.0020821401849389076, 0.0018594168359413743, '00:00']\n",
      "[155, 0.0020821401849389076, 0.0018594168359413743, '00:00']\n",
      "[156, 0.0021207674872130156, 0.0034777976106852293, '00:01']\n",
      "[156, 0.0021207674872130156, 0.0034777976106852293, '00:01']\n",
      "[157, 0.002010948956012726, 0.001415474689565599, '00:01']\n",
      "[157, 0.002010948956012726, 0.001415474689565599, '00:01']\n",
      "[158, 0.0018835151568055153, 0.0013899477198719978, '00:01']\n",
      "[158, 0.0018835151568055153, 0.0013899477198719978, '00:01']\n",
      "[159, 0.0018326001008972526, 0.0013517077313736081, '00:01']\n",
      "[159, 0.0018326001008972526, 0.0013517077313736081, '00:01']\n",
      "[160, 0.0017900444800034165, 0.0013850704999640584, '00:01']\n",
      "[160, 0.0017900444800034165, 0.0013850704999640584, '00:01']\n",
      "[161, 0.0017519771354272962, 0.0015204037772491574, '00:01']\n",
      "[161, 0.0017519771354272962, 0.0015204037772491574, '00:01']\n",
      "[162, 0.0017191641964018345, 0.0015504640759900212, '00:01']\n",
      "[162, 0.0017191641964018345, 0.0015504640759900212, '00:01']\n",
      "[163, 0.0016848183004185557, 0.0012279994552955031, '00:01']\n",
      "[163, 0.0016848183004185557, 0.0012279994552955031, '00:01']\n",
      "[164, 0.0016494112787768245, 0.0009237907943315804, '00:01']\n",
      "[164, 0.0016494112787768245, 0.0009237907943315804, '00:01']\n",
      "[165, 0.0016022133640944958, 0.0008192429086193442, '00:01']\n",
      "[165, 0.0016022133640944958, 0.0008192429086193442, '00:01']\n",
      "[166, 0.0015586229274049401, 0.0007848318200558424, '00:01']\n",
      "[166, 0.0015586229274049401, 0.0007848318200558424, '00:01']\n",
      "[167, 0.0015225440729409456, 0.0007506536785513163, '00:01']\n",
      "[167, 0.0015225440729409456, 0.0007506536785513163, '00:01']\n",
      "[168, 0.0014990727650001645, 0.0007295256946235895, '00:01']\n",
      "[168, 0.0014990727650001645, 0.0007295256946235895, '00:01']\n",
      "[169, 0.0014875545166432858, 0.0007446878007613122, '00:01']\n",
      "[169, 0.0014875545166432858, 0.0007446878007613122, '00:01']\n",
      "[170, 0.0014887630240991712, 0.0005892875487916172, '00:01']\n",
      "[170, 0.0014887630240991712, 0.0005892875487916172, '00:01']\n",
      "[171, 0.0014622851740568876, 0.0005449261516332626, '00:01']\n",
      "[171, 0.0014622851740568876, 0.0005449261516332626, '00:01']\n",
      "[172, 0.0014055094216018915, 0.0005505688022822142, '00:01']\n",
      "[172, 0.0014055094216018915, 0.0005505688022822142, '00:01']\n",
      "[173, 0.0013799631269648671, 0.0005449245218187571, '00:01']\n",
      "[173, 0.0013799631269648671, 0.0005449245218187571, '00:01']\n",
      "[174, 0.001368389232084155, 0.0005055771907791495, '00:01']\n",
      "[174, 0.001368389232084155, 0.0005055771907791495, '00:01']\n",
      "[175, 0.0013717594556510448, 0.0004666628083214164, '00:01']\n",
      "[175, 0.0013717594556510448, 0.0004666628083214164, '00:01']\n",
      "[176, 0.0013608764857053757, 0.0005337510956451297, '00:01']\n",
      "[176, 0.0013608764857053757, 0.0005337510956451297, '00:01']\n",
      "[177, 0.001339059672318399, 0.0005934609216637909, '00:01']\n",
      "[177, 0.001339059672318399, 0.0005934609216637909, '00:01']\n",
      "[178, 0.001325849094428122, 0.0006437127594836056, '00:01']\n",
      "[178, 0.001325849094428122, 0.0006437127594836056, '00:01']\n",
      "[179, 0.0013049105182290077, 0.0005347313126549125, '00:01']\n",
      "[179, 0.0013049105182290077, 0.0005347313126549125, '00:01']\n",
      "[180, 0.0012764522107318044, 0.0004491894505918026, '00:01']\n",
      "[180, 0.0012764522107318044, 0.0004491894505918026, '00:01']\n",
      "[181, 0.0012542910408228636, 0.0004181622643955052, '00:01']\n",
      "[181, 0.0012542910408228636, 0.0004181622643955052, '00:01']\n",
      "[182, 0.001241454272530973, 0.0004078984202351421, '00:01']\n",
      "[182, 0.001241454272530973, 0.0004078984202351421, '00:01']\n",
      "[183, 0.001235565752722323, 0.00040190742583945394, '00:01']\n",
      "[183, 0.001235565752722323, 0.00040190742583945394, '00:01']\n",
      "[184, 0.001231166534125805, 0.000397146592149511, '00:01']\n",
      "[184, 0.001231166534125805, 0.000397146592149511, '00:01']\n",
      "[185, 0.0012166291708126664, 0.0004126846615690738, '00:01']\n",
      "[185, 0.0012166291708126664, 0.0004126846615690738, '00:01']\n",
      "[186, 0.001197494682855904, 0.0004094844334758818, '00:01']\n",
      "[186, 0.001197494682855904, 0.0004094844334758818, '00:01']\n",
      "[187, 0.0011860962258651853, 0.0004009874246548861, '00:01']\n",
      "[187, 0.0011860962258651853, 0.0004009874246548861, '00:01']\n",
      "[188, 0.0011796815088018775, 0.00039236413431353867, '00:01']\n",
      "[188, 0.0011796815088018775, 0.00039236413431353867, '00:01']\n",
      "[189, 0.0011793650919571519, 0.0003882561286445707, '00:01']\n",
      "[189, 0.0011793650919571519, 0.0003882561286445707, '00:01']\n",
      "[190, 0.001180734601803124, 0.0004209779144730419, '00:01']\n",
      "[190, 0.001180734601803124, 0.0004209779144730419, '00:01']\n",
      "[191, 0.0011743564391508698, 0.0004656836681533605, '00:01']\n",
      "[191, 0.0011743564391508698, 0.0004656836681533605, '00:01']\n",
      "[192, 0.0011697938898578286, 0.0005195621633902192, '00:01']\n",
      "[192, 0.0011697938898578286, 0.0005195621633902192, '00:01']\n",
      "[193, 0.0011669116793200374, 0.0005786328692920506, '00:01']\n",
      "[193, 0.0011669116793200374, 0.0005786328692920506, '00:01']\n",
      "[194, 0.001160096493549645, 0.0005621681921184063, '00:01']\n",
      "[194, 0.001160096493549645, 0.0005621681921184063, '00:01']\n",
      "[195, 0.0011509311152622104, 0.0005163177847862244, '00:01']\n",
      "[195, 0.0011509311152622104, 0.0005163177847862244, '00:01']\n",
      "[196, 0.001143028144724667, 0.0004992599715478718, '00:01']\n",
      "[196, 0.001143028144724667, 0.0004992599715478718, '00:01']\n",
      "[197, 0.0011377219343557954, 0.0004917859332635999, '00:00']\n",
      "[197, 0.0011377219343557954, 0.0004917859332635999, '00:00']\n",
      "[198, 0.0011346647515892982, 0.0004878769104834646, '00:00']\n",
      "[198, 0.0011346647515892982, 0.0004878769104834646, '00:00']\n",
      "[199, 0.0011331308633089066, 0.0004865780647378415, '00:00']\n",
      "[199, 0.0011331308633089066, 0.0004865780647378415, '00:00']\n",
      "Training took 204.9141317640001 seconds\n"
     ]
    }
   ],
   "source": [
    "start = time.perf_counter() # Starts timer\n",
    "learn.fit_one_cycle(n_epoch=200, lr_max=lr_min)\n",
    "end = time.perf_counter() # Ends timer\n",
    "delta_t = end - start\n",
    "print('Training took', delta_t, 'seconds')"
   ]
  },
  {
   "cell_type": "code",
   "execution_count": 13,
   "id": "invalid-practitioner",
   "metadata": {},
   "outputs": [
    {
     "data": {
      "image/png": "[encoded data removed]",
      "text/plain": [
       "<Figure size 432x288 with 1 Axes>"
      ]
     },
     "metadata": {
      "needs_background": "light"
     },
     "output_type": "display_data"
    }
   ],
   "source": [
    "recorder.plot_loss()"
   ]
  },
  {
   "cell_type": "code",
   "execution_count": 14,
   "id": "angry-workplace",
   "metadata": {},
   "outputs": [
    {
     "data": {
      "text/plain": [
       "(#1) [0.0004865780647378415]"
      ]
     },
     "execution_count": 14,
     "metadata": {},
     "output_type": "execute_result"
    }
   ],
   "source": [
    "learn.validate()"
   ]
  },
  {
   "cell_type": "markdown",
   "id": "chemical-punishment",
   "metadata": {},
   "source": [
    ">### **Saving Model**"
   ]
  },
  {
   "cell_type": "code",
   "execution_count": 15,
   "id": "dangerous-overall",
   "metadata": {},
   "outputs": [],
   "source": [
    "save_path = './Models/AE_3D_200_Tanh_BatchNorm_200Epoch.pt'\n",
    "torch.save(model.state_dict(), save_path)"
   ]
  },
  {
   "cell_type": "markdown",
   "id": "scheduled-uncertainty",
   "metadata": {},
   "source": [
    ">### **Visualize and Analyze the model predictions**"
   ]
  },
  {
   "cell_type": "code",
   "execution_count": 16,
   "id": "younger-complexity",
   "metadata": {},
   "outputs": [],
   "source": [
    "def calc_rms(arr):\n",
    "    arr = arr.flatten()\n",
    "    arr[arr == np.nan] = 1\n",
    "    return np.sqrt(np.sum(arr**2) / len(arr))"
   ]
  },
  {
   "cell_type": "code",
   "execution_count": 17,
   "id": "third-simple",
   "metadata": {},
   "outputs": [],
   "source": [
    "def unnormalize_predictions(prediction):\n",
    "    \n",
    "    unnormed_pred = prediction.clone() \n",
    "    unnormed_pred[:, 0] = 10 ** (3 * pred[:, 0])\n",
    "    unnormed_pred[:, 1] = 10 ** (3 * pred[:, 1])\n",
    "    unnormed_pred[:, 2] = 3 * pred[:, 2]\n",
    "    unnormed_pred[:, 3] = 3 * pred[:, 3]\n",
    "    \n",
    "    return unnormed_pred"
   ]
  },
  {
   "cell_type": "code",
   "execution_count": 34,
   "id": "coral-picture",
   "metadata": {},
   "outputs": [],
   "source": [
    "def plot_input_vs_output(unnormed_test_data, unnormed_test_pred, save=False):\n",
    "\n",
    "    n_bins = 100\n",
    "    colors = ['orange', 'c']\n",
    "    alph = 0.8\n",
    "\n",
    "\n",
    "    for kk in np.arange(4):\n",
    "        plt.subplot(2, 2, kk+1)\n",
    "        n_hist_data, bin_edges, _ = plt.hist(unnormed_test_data[:, kk].detach().numpy(), color=colors[1], label='Input', alpha=1, bins=n_bins)\n",
    "        n_hist_pred, _, _ = plt.hist(unnormed_test_pred[:, kk].detach().numpy(), color=colors[0], label='Output', alpha=alph, bins=bin_edges)\n",
    "        plt.xlabel(test.columns[kk])\n",
    "        plt.ylabel('Number of events')\n",
    "        plt.legend()\n",
    "        \n",
    "        if save:\n",
    "            plt.savefig(\"./Plots/AE_3D_200_Tanh_BatchNorm_200Epoch/input_vs_output_fourmomentum\",dpi=300)"
   ]
  },
  {
   "cell_type": "code",
   "execution_count": 39,
   "id": "charged-hawaiian",
   "metadata": {},
   "outputs": [],
   "source": [
    "def plot_residuals(unnormed_test_data, unnormed_test_pred, save=False):\n",
    "    residual_strings = [r'$(E_{recon} - E_{true}) / E_{true}$',\n",
    "                        r'$(p_{T,recon} - p_{T,true}) / p_{T,true}$',\n",
    "                    r'$(\\eta_{recon} - \\eta_{true}) / \\eta_{true}$',\n",
    "                    r'$(\\phi_{recon} - \\phi_{true}) / \\phi_{true}$']\n",
    "    line_style = ['--', '-']\n",
    "    alph = 0.8\n",
    "    \n",
    "    residuals = (unnormed_test_pred.detach().numpy() - unnormed_test_data.detach().numpy()) / unnormed_test_data.detach().numpy()\n",
    "    range_res = (-.02, .02)\n",
    "    \n",
    "\n",
    "    for kk in np.arange(4):\n",
    "        plt.subplot(2, 2, kk+1)\n",
    "        n_hist_pred, bin_edges, _ = plt.hist(residuals[:, kk], label='Residuals', linestyle=line_style[0], alpha=alph, bins=200, range=range_res)\n",
    "        plt.title('Residuals of %s' % test.columns[kk])\n",
    "        plt.xlabel(residual_strings[kk])\n",
    "        plt.ylabel('Number of jets')\n",
    "        plt.yscale('log')\n",
    "        rms = calc_rms(residuals[:, kk])\n",
    "        ax = plt.gca()\n",
    "        residuals_mean = residuals[:, kk].mean()\n",
    "        residuals_variance = residuals[:, kk].var()\n",
    "        plt.text(.2, .5, 'RMS = %f' % (rms), bbox={'facecolor': 'white', 'alpha': 0.7, 'pad': 10},\n",
    "                 horizontalalignment='center', verticalalignment='center', transform=ax.transAxes, fontsize=15)\n",
    "        plt.text(.24, .25, 'Mean = %f\\nVariance = %f' % (residuals_mean, residuals_variance), bbox={'facecolor': 'white', 'alpha': 0.7, 'pad': 10},\n",
    "                 horizontalalignment='center', verticalalignment='center', transform=ax.transAxes, fontsize=15)\n",
    "        if save:\n",
    "            plt.savefig(\"./Plots/AE_3D_200_Tanh_BatchNorm_200Epoch/residuals_fourmomentum\",dpi=300)"
   ]
  },
  {
   "cell_type": "code",
   "execution_count": 20,
   "id": "surprising-ribbon",
   "metadata": {},
   "outputs": [],
   "source": [
    "unnormed_test_data = torch.tensor(unnormed_test.values)\n",
    "normed_test_data = torch.tensor(test.values)\n",
    "\n",
    "pred = model(normed_test_data)\n",
    "\n",
    "unnormed_test_pred = unnormalize_predictions(pred)"
   ]
  },
  {
   "cell_type": "code",
   "execution_count": 21,
   "id": "broken-transformation",
   "metadata": {},
   "outputs": [
    {
     "name": "stdout",
     "output_type": "stream",
     "text": [
      "First 5 Input: \n",
      "tensor([[ 1.9355e+00,  1.9235e+00,  1.3025e-01,  4.1245e-01],\n",
      "        [ 1.8407e+00,  1.7004e+00,  5.3999e-01, -6.1841e-01],\n",
      "        [ 1.5587e+00,  1.5570e+00, -5.0219e-04,  8.1866e-01],\n",
      "        [ 1.5251e+00,  1.4985e+00,  2.0823e-01, -3.0359e-01],\n",
      "        [ 1.7020e+00,  1.4857e+00, -7.2400e-01,  8.5120e-01]])\n",
      "\n",
      "\n",
      "First 5 Output: \n",
      "tensor([[ 1.9338,  1.9150,  0.1244,  0.3697],\n",
      "        [ 1.8332,  1.6973,  0.5224, -0.6422],\n",
      "        [ 1.5546,  1.5508,  0.0102,  0.7784],\n",
      "        [ 1.5275,  1.5011,  0.2024, -0.3395],\n",
      "        [ 1.6935,  1.4948, -0.6882,  0.8148]], grad_fn=<SliceBackward>)\n"
     ]
    }
   ],
   "source": [
    "print(\"First 5 Input: \")\n",
    "print(normed_test_data[0:5])\n",
    "print('\\n')\n",
    "print(\"First 5 Output: \")\n",
    "print(pred[0:5])"
   ]
  },
  {
   "cell_type": "code",
   "execution_count": 22,
   "id": "decimal-puppy",
   "metadata": {},
   "outputs": [
    {
     "name": "stdout",
     "output_type": "stream",
     "text": [
      "First 5 Input: \n",
      "tensor([[ 6.4031e+05,  5.8952e+05,  3.9075e-01,  1.2373e+00],\n",
      "        [ 3.3279e+05,  1.2627e+05,  1.6200e+00, -1.8552e+00],\n",
      "        [ 4.7444e+04,  4.6892e+04, -1.5066e-03,  2.4560e+00],\n",
      "        [ 3.7600e+04,  3.1289e+04,  6.2468e-01, -9.1078e-01],\n",
      "        [ 1.2768e+05,  2.8651e+04, -2.1720e+00,  2.5536e+00]],\n",
      "       dtype=torch.float64)\n",
      "\n",
      "\n",
      "First 5 Output: \n",
      "tensor([[ 6.3286e+05,  5.5592e+05,  3.7326e-01,  1.1091e+00],\n",
      "        [ 3.1596e+05,  1.2361e+05,  1.5672e+00, -1.9267e+00],\n",
      "        [ 4.6097e+04,  4.4902e+04,  3.0481e-02,  2.3352e+00],\n",
      "        [ 3.8237e+04,  3.1857e+04,  6.0725e-01, -1.0186e+00],\n",
      "        [ 1.2034e+05,  3.0504e+04, -2.0645e+00,  2.4445e+00]],\n",
      "       grad_fn=<SliceBackward>)\n"
     ]
    }
   ],
   "source": [
    "print(\"First 5 Input: \")\n",
    "print(unnormed_test_data[0:5])\n",
    "print('\\n')\n",
    "print(\"First 5 Output: \")\n",
    "print(unnormed_test_pred[0:5])"
   ]
  },
  {
   "cell_type": "code",
   "execution_count": 36,
   "id": "straight-corrections",
   "metadata": {},
   "outputs": [
    {
     "data": {
      "image/png": "[encoded data removed]",
      "text/plain": [
       "<Figure size 1080x1080 with 4 Axes>"
      ]
     },
     "metadata": {
      "needs_background": "light"
     },
     "output_type": "display_data"
    }
   ],
   "source": [
    "plot_input_vs_output(unnormed_test_data, unnormed_test_pred, save=True)"
   ]
  },
  {
   "cell_type": "code",
   "execution_count": 40,
   "id": "circular-glucose",
   "metadata": {},
   "outputs": [
    {
     "data": {
      "image/png": "[encoded data removed]",
      "text/plain": [
       "<Figure size 1080x1080 with 4 Axes>"
      ]
     },
     "metadata": {
      "needs_background": "light"
     },
     "output_type": "display_data"
    }
   ],
   "source": [
    "plot_residuals(unnormed_test_data, unnormed_test_pred, save=True)"
   ]
  },
  {
   "cell_type": "code",
   "execution_count": 25,
   "id": "satisfactory-breathing",
   "metadata": {},
   "outputs": [],
   "source": [
    "def calc_mse_test(normed_test_data, pred):\n",
    "    return (normed_test_data - pred).square().mean()"
   ]
  },
  {
   "cell_type": "code",
   "execution_count": 26,
   "id": "serial-brick",
   "metadata": {},
   "outputs": [
    {
     "data": {
      "text/plain": [
       "tensor(0.0005, grad_fn=<MeanBackward0>)"
      ]
     },
     "execution_count": 26,
     "metadata": {},
     "output_type": "execute_result"
    }
   ],
   "source": [
    "calc_mse_test(normed_test_data, pred)#Overall MSE"
   ]
  },
  {
   "cell_type": "code",
   "execution_count": 41,
   "id": "blocked-remark",
   "metadata": {},
   "outputs": [
    {
     "data": {
      "text/plain": [
       "tensor(0.0001, grad_fn=<MeanBackward0>)"
      ]
     },
     "execution_count": 41,
     "metadata": {},
     "output_type": "execute_result"
    }
   ],
   "source": [
    "calc_mse_test(normed_test_data[:, 0], pred[:, 0])#MSE for E"
   ]
  },
  {
   "cell_type": "code",
   "execution_count": 42,
   "id": "typical-nowhere",
   "metadata": {},
   "outputs": [
    {
     "data": {
      "text/plain": [
       "tensor(6.6023e-05, grad_fn=<MeanBackward0>)"
      ]
     },
     "execution_count": 42,
     "metadata": {},
     "output_type": "execute_result"
    }
   ],
   "source": [
    "calc_mse_test(normed_test_data[:, 1], pred[:, 1])#MSE for pt"
   ]
  },
  {
   "cell_type": "code",
   "execution_count": 43,
   "id": "prime-liver",
   "metadata": {},
   "outputs": [
    {
     "data": {
      "text/plain": [
       "tensor(0.0007, grad_fn=<MeanBackward0>)"
      ]
     },
     "execution_count": 43,
     "metadata": {},
     "output_type": "execute_result"
    }
   ],
   "source": [
    "calc_mse_test(normed_test_data[:, 2], pred[:, 2])#MSE for eta"
   ]
  },
  {
   "cell_type": "code",
   "execution_count": 44,
   "id": "spiritual-duration",
   "metadata": {},
   "outputs": [
    {
     "data": {
      "text/plain": [
       "tensor(0.0011, grad_fn=<MeanBackward0>)"
      ]
     },
     "execution_count": 44,
     "metadata": {},
     "output_type": "execute_result"
    }
   ],
   "source": [
    "calc_mse_test(normed_test_data[:, 3], pred[:, 3])#MSE for phi"
   ]
  },
  {
   "cell_type": "code",
   "execution_count": null,
   "id": "still-catch",
   "metadata": {},
   "outputs": [],
   "source": []
  }
 ],
 "metadata": {
  "kernelspec": {
   "display_name": "gsoc",
   "language": "python",
   "name": "gsoc"
  },
  "language_info": {
   "codemirror_mode": {
    "name": "ipython",
    "version": 3
   },
   "file_extension": ".py",
   "mimetype": "text/x-python",
   "name": "python",
   "nbconvert_exporter": "python",
   "pygments_lexer": "ipython3",
   "version": "3.8.8"
  }
 },
 "nbformat": 4,
 "nbformat_minor": 5
}
