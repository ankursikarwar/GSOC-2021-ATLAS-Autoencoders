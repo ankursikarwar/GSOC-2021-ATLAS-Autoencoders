{
 "cells": [
  {
   "cell_type": "markdown",
   "id": "virtual-sphere",
   "metadata": {},
   "source": [
    "## **In this notebook, we convert the given csv file to pickle file along with some preprocessing.**"
   ]
  },
  {
   "cell_type": "code",
   "execution_count": 13,
   "id": "extra-september",
   "metadata": {},
   "outputs": [],
   "source": [
    "import csv\n",
    "import pandas as pd\n",
    "from tqdm.notebook import tqdm"
   ]
  },
  {
   "cell_type": "markdown",
   "id": "optional-photography",
   "metadata": {},
   "source": [
    ">### **Create a dict after following preprocessing steps**\n",
    "><ul>\n",
    "><li>Selecting only jet particles (id = 'j')</li>\n",
    "><li>In case more than one jet particle in an event, keeping all of them</li>\n",
    "></ul>"
   ]
  },
  {
   "cell_type": "code",
   "execution_count": 19,
   "id": "charming-defensive",
   "metadata": {},
   "outputs": [
    {
     "data": {
      "application/vnd.jupyter.widget-view+json": {
       "model_id": "6b845992ed6243869d717c34a165351b",
       "version_major": 2,
       "version_minor": 0
      },
      "text/plain": [
       "HBox(children=(HTML(value=''), FloatProgress(value=1.0, bar_style='info', layout=Layout(width='20px'), max=1.0…"
      ]
     },
     "metadata": {},
     "output_type": "display_data"
    },
    {
     "name": "stdout",
     "output_type": "stream",
     "text": [
      "\n"
     ]
    }
   ],
   "source": [
    "jet_dict = {'E': [], 'pt': [], 'eta': [], 'phi': []}\n",
    "\n",
    "with open('./monojet_Zp2000.0_DM_50.0_chan3.csv', 'r') as f:\n",
    "    reader = csv.reader(f, delimiter=';')\n",
    "    for row in tqdm(reader):\n",
    "        for obj in row[5:]:\n",
    "            obj_variables = obj.split(',')\n",
    "            if obj_variables[0] == 'j':\n",
    "                jet_dict['E'].append(float(obj_variables[1]))\n",
    "                jet_dict['pt'].append(float(obj_variables[2]))\n",
    "                jet_dict['eta'].append(float(obj_variables[3]))\n",
    "                jet_dict['phi'].append(float(obj_variables[4]))"
   ]
  },
  {
   "cell_type": "markdown",
   "id": "altered-monday",
   "metadata": {},
   "source": [
    ">### **Convert dict to dataframe along with train and test split**"
   ]
  },
  {
   "cell_type": "code",
   "execution_count": 15,
   "id": "latest-hopkins",
   "metadata": {},
   "outputs": [],
   "source": [
    "df = pd.DataFrame(data=jet_dict)\n",
    "\n",
    "df_train = df.sample(frac = 0.80, random_state=1) \n",
    "df_test = df.drop(df_train.index)"
   ]
  },
  {
   "cell_type": "markdown",
   "id": "intensive-yorkshire",
   "metadata": {},
   "source": [
    ">### **A brief look into the data**"
   ]
  },
  {
   "cell_type": "code",
   "execution_count": 16,
   "id": "julian-bibliography",
   "metadata": {},
   "outputs": [
    {
     "data": {
      "text/html": [
       "<div>\n",
       "<style scoped>\n",
       "    .dataframe tbody tr th:only-of-type {\n",
       "        vertical-align: middle;\n",
       "    }\n",
       "\n",
       "    .dataframe tbody tr th {\n",
       "        vertical-align: top;\n",
       "    }\n",
       "\n",
       "    .dataframe thead th {\n",
       "        text-align: right;\n",
       "    }\n",
       "</style>\n",
       "<table border=\"1\" class=\"dataframe\">\n",
       "  <thead>\n",
       "    <tr style=\"text-align: right;\">\n",
       "      <th></th>\n",
       "      <th>E</th>\n",
       "      <th>pt</th>\n",
       "      <th>eta</th>\n",
       "      <th>phi</th>\n",
       "    </tr>\n",
       "  </thead>\n",
       "  <tbody>\n",
       "    <tr>\n",
       "      <th>11092</th>\n",
       "      <td>73356.1</td>\n",
       "      <td>68288.8</td>\n",
       "      <td>-0.364836</td>\n",
       "      <td>-2.683820</td>\n",
       "    </tr>\n",
       "    <tr>\n",
       "      <th>6607</th>\n",
       "      <td>155625.0</td>\n",
       "      <td>114949.0</td>\n",
       "      <td>0.809188</td>\n",
       "      <td>3.009770</td>\n",
       "    </tr>\n",
       "    <tr>\n",
       "      <th>9670</th>\n",
       "      <td>36304.3</td>\n",
       "      <td>27072.0</td>\n",
       "      <td>0.792701</td>\n",
       "      <td>0.196966</td>\n",
       "    </tr>\n",
       "    <tr>\n",
       "      <th>13354</th>\n",
       "      <td>329132.0</td>\n",
       "      <td>280958.0</td>\n",
       "      <td>-0.575831</td>\n",
       "      <td>2.154610</td>\n",
       "    </tr>\n",
       "    <tr>\n",
       "      <th>16500</th>\n",
       "      <td>855691.0</td>\n",
       "      <td>647140.0</td>\n",
       "      <td>0.781380</td>\n",
       "      <td>-3.058920</td>\n",
       "    </tr>\n",
       "  </tbody>\n",
       "</table>\n",
       "</div>"
      ],
      "text/plain": [
       "              E        pt       eta       phi\n",
       "11092   73356.1   68288.8 -0.364836 -2.683820\n",
       "6607   155625.0  114949.0  0.809188  3.009770\n",
       "9670    36304.3   27072.0  0.792701  0.196966\n",
       "13354  329132.0  280958.0 -0.575831  2.154610\n",
       "16500  855691.0  647140.0  0.781380 -3.058920"
      ]
     },
     "execution_count": 16,
     "metadata": {},
     "output_type": "execute_result"
    }
   ],
   "source": [
    "df_train.head()"
   ]
  },
  {
   "cell_type": "code",
   "execution_count": 17,
   "id": "demonstrated-swaziland",
   "metadata": {},
   "outputs": [
    {
     "data": {
      "text/html": [
       "<div>\n",
       "<style scoped>\n",
       "    .dataframe tbody tr th:only-of-type {\n",
       "        vertical-align: middle;\n",
       "    }\n",
       "\n",
       "    .dataframe tbody tr th {\n",
       "        vertical-align: top;\n",
       "    }\n",
       "\n",
       "    .dataframe thead th {\n",
       "        text-align: right;\n",
       "    }\n",
       "</style>\n",
       "<table border=\"1\" class=\"dataframe\">\n",
       "  <thead>\n",
       "    <tr style=\"text-align: right;\">\n",
       "      <th></th>\n",
       "      <th>E</th>\n",
       "      <th>pt</th>\n",
       "      <th>eta</th>\n",
       "      <th>phi</th>\n",
       "    </tr>\n",
       "  </thead>\n",
       "  <tbody>\n",
       "    <tr>\n",
       "      <th>14</th>\n",
       "      <td>640313.0</td>\n",
       "      <td>589524.0</td>\n",
       "      <td>0.390749</td>\n",
       "      <td>1.237340</td>\n",
       "    </tr>\n",
       "    <tr>\n",
       "      <th>15</th>\n",
       "      <td>332790.0</td>\n",
       "      <td>126272.0</td>\n",
       "      <td>1.619980</td>\n",
       "      <td>-1.855240</td>\n",
       "    </tr>\n",
       "    <tr>\n",
       "      <th>18</th>\n",
       "      <td>47443.5</td>\n",
       "      <td>46891.6</td>\n",
       "      <td>-0.001507</td>\n",
       "      <td>2.455980</td>\n",
       "    </tr>\n",
       "    <tr>\n",
       "      <th>20</th>\n",
       "      <td>37600.4</td>\n",
       "      <td>31288.8</td>\n",
       "      <td>0.624681</td>\n",
       "      <td>-0.910782</td>\n",
       "    </tr>\n",
       "    <tr>\n",
       "      <th>27</th>\n",
       "      <td>127675.0</td>\n",
       "      <td>28650.7</td>\n",
       "      <td>-2.172010</td>\n",
       "      <td>2.553590</td>\n",
       "    </tr>\n",
       "  </tbody>\n",
       "</table>\n",
       "</div>"
      ],
      "text/plain": [
       "           E        pt       eta       phi\n",
       "14  640313.0  589524.0  0.390749  1.237340\n",
       "15  332790.0  126272.0  1.619980 -1.855240\n",
       "18   47443.5   46891.6 -0.001507  2.455980\n",
       "20   37600.4   31288.8  0.624681 -0.910782\n",
       "27  127675.0   28650.7 -2.172010  2.553590"
      ]
     },
     "execution_count": 17,
     "metadata": {},
     "output_type": "execute_result"
    }
   ],
   "source": [
    "df_test.head()"
   ]
  },
  {
   "cell_type": "markdown",
   "id": "powerful-player",
   "metadata": {},
   "source": [
    ">### **Pickle the train and test split**"
   ]
  },
  {
   "cell_type": "code",
   "execution_count": 18,
   "id": "raising-product",
   "metadata": {},
   "outputs": [],
   "source": [
    "df_train.to_pickle(\"./jet_data_unnormed_80train.pkl\")\n",
    "df_test.to_pickle(\"./jet_data_unnormed_20test.pkl\")"
   ]
  }
 ],
 "metadata": {
  "kernelspec": {
   "display_name": "gsoc",
   "language": "python",
   "name": "gsoc"
  },
  "language_info": {
   "codemirror_mode": {
    "name": "ipython",
    "version": 3
   },
   "file_extension": ".py",
   "mimetype": "text/x-python",
   "name": "python",
   "nbconvert_exporter": "python",
   "pygments_lexer": "ipython3",
   "version": "3.8.8"
  }
 },
 "nbformat": 4,
 "nbformat_minor": 5
}
