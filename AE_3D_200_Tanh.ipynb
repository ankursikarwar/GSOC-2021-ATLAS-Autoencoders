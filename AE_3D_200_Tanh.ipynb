{
 "cells": [
  {
   "cell_type": "markdown",
   "id": "homeless-turkish",
   "metadata": {},
   "source": [
    "## **In this notebook, we use following autoencoder for compression.**"
   ]
  },
  {
   "cell_type": "markdown",
   "id": "figured-automation",
   "metadata": {},
   "source": [
    "><ul>\n",
    "><li>Preprocessing: Custom Normalization $E$ -> $(\\log_{10} E) / 3$, $p_T$ -> $(\\log_{10} p_T) / 3$, $\\eta$ -> $\\eta / 3$, $\\phi$ -> $\\phi / 3$</li>\n",
    "><li>Architecture: in-200-200-20-3-20-200-200-out</li>\n",
    "><li>Tanh Activation</li>\n",
    "><li>No BatchNorm</li>\n",
    "><li>Epoch: 200</li>\n",
    "></ul>"
   ]
  },
  {
   "cell_type": "code",
   "execution_count": 39,
   "id": "supported-outside",
   "metadata": {},
   "outputs": [],
   "source": [
    "import time\n",
    "import numpy as np\n",
    "import pandas as pd\n",
    "import matplotlib.pyplot as plt\n",
    "\n",
    "import torch\n",
    "import torch.nn as nn\n",
    "import torch.optim as optim\n",
    "import torch.utils.data\n",
    "from torch.autograd import Variable\n",
    "\n",
    "from torch.utils.data import TensorDataset\n",
    "from torch.utils.data import DataLoader\n",
    "\n",
    "from fastai import learner\n",
    "from fastai.data import core\n",
    "from fastai.metrics import mse\n",
    "from fastai.callback import schedule"
   ]
  },
  {
   "cell_type": "code",
   "execution_count": 99,
   "id": "massive-custom",
   "metadata": {},
   "outputs": [],
   "source": [
    "params = {'legend.fontsize': 'x-large',\n",
    "          'figure.figsize': (15, 15),\n",
    "         'axes.labelsize': 'x-large',\n",
    "         'axes.titlesize':'x-large',\n",
    "         'xtick.labelsize':'x-large',\n",
    "         'ytick.labelsize':'x-large'}\n",
    "plt.rcParams.update(params)"
   ]
  },
  {
   "cell_type": "markdown",
   "id": "representative-cheat",
   "metadata": {},
   "source": [
    ">### **Data Preparation**"
   ]
  },
  {
   "cell_type": "code",
   "execution_count": 40,
   "id": "royal-reaction",
   "metadata": {},
   "outputs": [],
   "source": [
    "unnormed_train_path = './jet_data_unnormed_80train.pkl'\n",
    "unnormed_test_path = './jet_data_unnormed_20test.pkl'\n",
    "\n",
    "unnormed_train = pd.read_pickle(unnormed_train_path)\n",
    "unnormed_test = pd.read_pickle(unnormed_test_path)"
   ]
  },
  {
   "cell_type": "code",
   "execution_count": 41,
   "id": "drawn-killer",
   "metadata": {},
   "outputs": [],
   "source": [
    "def get_custom_normalize_data():\n",
    "    \n",
    "    train = pd.read_pickle(unnormed_train_path)\n",
    "    test = pd.read_pickle(unnormed_test_path)\n",
    "    train['pt'] = train['pt'].apply(lambda x: np.log10(x) / 3.)\n",
    "    train['E'] = train['E'].apply(lambda x: np.log10(x)  / 3.)\n",
    "    train['eta'] = train['eta'] / 3.\n",
    "    train['phi'] = train['phi'] / 3.\n",
    "    \n",
    "    test['pt'] = test['pt'].apply(lambda x: np.log10(x) / 3.)\n",
    "    test['E'] = test['E'].apply(lambda x: np.log10(x) / 3.)\n",
    "    test['eta'] = test['eta'] / 3.\n",
    "    test['phi'] = test['phi'] / 3.\n",
    "\n",
    "    return train.astype('float32'), test.astype('float32')"
   ]
  },
  {
   "cell_type": "code",
   "execution_count": 42,
   "id": "increased-grass",
   "metadata": {},
   "outputs": [],
   "source": [
    "train, test = get_custom_normalize_data()"
   ]
  },
  {
   "cell_type": "code",
   "execution_count": 43,
   "id": "split-hardwood",
   "metadata": {},
   "outputs": [
    {
     "data": {
      "text/html": [
       "<div>\n",
       "<style scoped>\n",
       "    .dataframe tbody tr th:only-of-type {\n",
       "        vertical-align: middle;\n",
       "    }\n",
       "\n",
       "    .dataframe tbody tr th {\n",
       "        vertical-align: top;\n",
       "    }\n",
       "\n",
       "    .dataframe thead th {\n",
       "        text-align: right;\n",
       "    }\n",
       "</style>\n",
       "<table border=\"1\" class=\"dataframe\">\n",
       "  <thead>\n",
       "    <tr style=\"text-align: right;\">\n",
       "      <th></th>\n",
       "      <th>E</th>\n",
       "      <th>pt</th>\n",
       "      <th>eta</th>\n",
       "      <th>phi</th>\n",
       "    </tr>\n",
       "  </thead>\n",
       "  <tbody>\n",
       "    <tr>\n",
       "      <th>11092</th>\n",
       "      <td>73356.1</td>\n",
       "      <td>68288.8</td>\n",
       "      <td>-0.364836</td>\n",
       "      <td>-2.683820</td>\n",
       "    </tr>\n",
       "    <tr>\n",
       "      <th>6607</th>\n",
       "      <td>155625.0</td>\n",
       "      <td>114949.0</td>\n",
       "      <td>0.809188</td>\n",
       "      <td>3.009770</td>\n",
       "    </tr>\n",
       "    <tr>\n",
       "      <th>9670</th>\n",
       "      <td>36304.3</td>\n",
       "      <td>27072.0</td>\n",
       "      <td>0.792701</td>\n",
       "      <td>0.196966</td>\n",
       "    </tr>\n",
       "    <tr>\n",
       "      <th>13354</th>\n",
       "      <td>329132.0</td>\n",
       "      <td>280958.0</td>\n",
       "      <td>-0.575831</td>\n",
       "      <td>2.154610</td>\n",
       "    </tr>\n",
       "    <tr>\n",
       "      <th>16500</th>\n",
       "      <td>855691.0</td>\n",
       "      <td>647140.0</td>\n",
       "      <td>0.781380</td>\n",
       "      <td>-3.058920</td>\n",
       "    </tr>\n",
       "  </tbody>\n",
       "</table>\n",
       "</div>"
      ],
      "text/plain": [
       "              E        pt       eta       phi\n",
       "11092   73356.1   68288.8 -0.364836 -2.683820\n",
       "6607   155625.0  114949.0  0.809188  3.009770\n",
       "9670    36304.3   27072.0  0.792701  0.196966\n",
       "13354  329132.0  280958.0 -0.575831  2.154610\n",
       "16500  855691.0  647140.0  0.781380 -3.058920"
      ]
     },
     "execution_count": 43,
     "metadata": {},
     "output_type": "execute_result"
    }
   ],
   "source": [
    "unnormed_train.head()"
   ]
  },
  {
   "cell_type": "markdown",
   "id": "satisfied-franchise",
   "metadata": {},
   "source": [
    ">#### **Brief look into the data**"
   ]
  },
  {
   "cell_type": "code",
   "execution_count": 44,
   "id": "naughty-longer",
   "metadata": {},
   "outputs": [
    {
     "data": {
      "text/html": [
       "<div>\n",
       "<style scoped>\n",
       "    .dataframe tbody tr th:only-of-type {\n",
       "        vertical-align: middle;\n",
       "    }\n",
       "\n",
       "    .dataframe tbody tr th {\n",
       "        vertical-align: top;\n",
       "    }\n",
       "\n",
       "    .dataframe thead th {\n",
       "        text-align: right;\n",
       "    }\n",
       "</style>\n",
       "<table border=\"1\" class=\"dataframe\">\n",
       "  <thead>\n",
       "    <tr style=\"text-align: right;\">\n",
       "      <th></th>\n",
       "      <th>E</th>\n",
       "      <th>pt</th>\n",
       "      <th>eta</th>\n",
       "      <th>phi</th>\n",
       "    </tr>\n",
       "  </thead>\n",
       "  <tbody>\n",
       "    <tr>\n",
       "      <th>11092</th>\n",
       "      <td>1.621812</td>\n",
       "      <td>1.611450</td>\n",
       "      <td>-0.121612</td>\n",
       "      <td>-0.894607</td>\n",
       "    </tr>\n",
       "    <tr>\n",
       "      <th>6607</th>\n",
       "      <td>1.730693</td>\n",
       "      <td>1.686835</td>\n",
       "      <td>0.269729</td>\n",
       "      <td>1.003257</td>\n",
       "    </tr>\n",
       "    <tr>\n",
       "      <th>9670</th>\n",
       "      <td>1.519986</td>\n",
       "      <td>1.477507</td>\n",
       "      <td>0.264234</td>\n",
       "      <td>0.065655</td>\n",
       "    </tr>\n",
       "    <tr>\n",
       "      <th>13354</th>\n",
       "      <td>1.839123</td>\n",
       "      <td>1.816214</td>\n",
       "      <td>-0.191944</td>\n",
       "      <td>0.718203</td>\n",
       "    </tr>\n",
       "    <tr>\n",
       "      <th>16500</th>\n",
       "      <td>1.977439</td>\n",
       "      <td>1.936999</td>\n",
       "      <td>0.260460</td>\n",
       "      <td>-1.019640</td>\n",
       "    </tr>\n",
       "  </tbody>\n",
       "</table>\n",
       "</div>"
      ],
      "text/plain": [
       "              E        pt       eta       phi\n",
       "11092  1.621812  1.611450 -0.121612 -0.894607\n",
       "6607   1.730693  1.686835  0.269729  1.003257\n",
       "9670   1.519986  1.477507  0.264234  0.065655\n",
       "13354  1.839123  1.816214 -0.191944  0.718203\n",
       "16500  1.977439  1.936999  0.260460 -1.019640"
      ]
     },
     "execution_count": 44,
     "metadata": {},
     "output_type": "execute_result"
    }
   ],
   "source": [
    "train.head()"
   ]
  },
  {
   "cell_type": "code",
   "execution_count": 45,
   "id": "asian-dominican",
   "metadata": {},
   "outputs": [],
   "source": [
    "train_x = train\n",
    "test_x = test\n",
    "train_y = train_x\n",
    "test_y = test_x\n",
    "\n",
    "train_ds = TensorDataset(torch.tensor(train_x.values, dtype=torch.float), torch.tensor(train_y.values, dtype=torch.float))\n",
    "valid_ds = TensorDataset(torch.tensor(test_x.values, dtype=torch.float), torch.tensor(test_y.values, dtype=torch.float))"
   ]
  },
  {
   "cell_type": "code",
   "execution_count": 46,
   "id": "surgical-piano",
   "metadata": {},
   "outputs": [],
   "source": [
    "bs = 256\n",
    "\n",
    "train_dl = DataLoader(train_ds, batch_size=bs, shuffle=False)\n",
    "valid_dl = DataLoader(valid_ds, batch_size=bs * 2)\n",
    "dls = core.DataLoaders(train_dl, valid_dl)"
   ]
  },
  {
   "cell_type": "markdown",
   "id": "combined-architecture",
   "metadata": {},
   "source": [
    ">### **Model Preparation**"
   ]
  },
  {
   "cell_type": "code",
   "execution_count": 47,
   "id": "placed-hawaii",
   "metadata": {},
   "outputs": [],
   "source": [
    "class AE_3D_200_Tanh(nn.Module):\n",
    "    def __init__(self, n_features=4):\n",
    "        super(AE_3D_200_Tanh, self).__init__()\n",
    "        self.en1 = nn.Linear(n_features, 200)\n",
    "        self.en2 = nn.Linear(200, 200)\n",
    "        self.en3 = nn.Linear(200, 20)\n",
    "        self.en4 = nn.Linear(20, 3)\n",
    "        self.de1 = nn.Linear(3, 20)\n",
    "        self.de2 = nn.Linear(20, 200)\n",
    "        self.de3 = nn.Linear(200, 200)\n",
    "        self.de4 = nn.Linear(200, n_features)\n",
    "        self.tanh = nn.Tanh()\n",
    "\n",
    "    def encode(self, x):\n",
    "        return self.en4(self.tanh(self.en3(self.tanh(self.en2(self.tanh(self.en1(x)))))))\n",
    "\n",
    "    def decode(self, x):\n",
    "        return self.de4(self.tanh(self.de3(self.tanh(self.de2(self.tanh(self.de1(self.tanh(x))))))))\n",
    "\n",
    "    def forward(self, x):\n",
    "        z = self.encode(x)\n",
    "        return self.decode(z)\n",
    "\n",
    "    def describe(self):\n",
    "        return 'in-200-200-20-3-20-200-200-out'\n",
    "\n",
    "model = AE_3D_200_Tanh()"
   ]
  },
  {
   "cell_type": "code",
   "execution_count": 48,
   "id": "expired-greeting",
   "metadata": {},
   "outputs": [],
   "source": [
    "loss_func = nn.MSELoss()\n",
    "\n",
    "wd = 1e-6\n",
    "\n",
    "recorder = learner.Recorder()\n",
    "learn = learner.Learner(dls, model=model, wd=wd, loss_func=loss_func, cbs=recorder)"
   ]
  },
  {
   "cell_type": "code",
   "execution_count": 49,
   "id": "threaded-extent",
   "metadata": {},
   "outputs": [
    {
     "name": "stdout",
     "output_type": "stream",
     "text": [
      "Learning rate with the minimum loss: 0.003981071710586548\n",
      "Learning rate with the steepest gradient: 0.0010000000474974513\n"
     ]
    },
    {
     "data": {
      "image/png": "[encoded data removed]",
      "text/plain": [
       "<Figure size 432x288 with 1 Axes>"
      ]
     },
     "metadata": {
      "needs_background": "light"
     },
     "output_type": "display_data"
    }
   ],
   "source": [
    "lr_min, lr_steep = learn.lr_find()\n",
    "\n",
    "print('Learning rate with the minimum loss:', lr_min)\n",
    "print('Learning rate with the steepest gradient:', lr_steep)"
   ]
  },
  {
   "cell_type": "markdown",
   "id": "another-glenn",
   "metadata": {},
   "source": [
    ">### **Begin Training**"
   ]
  },
  {
   "cell_type": "code",
   "execution_count": 50,
   "id": "stainless-undergraduate",
   "metadata": {},
   "outputs": [
    {
     "name": "stdout",
     "output_type": "stream",
     "text": [
      "[0, 0.3732382655143738, 0.1767689287662506, '00:00']\n",
      "[0, 0.3732382655143738, 0.1767689287662506, '00:00']\n",
      "[1, 0.15402811765670776, 0.08771802484989166, '00:00']\n",
      "[1, 0.15402811765670776, 0.08771802484989166, '00:00']\n",
      "[2, 0.09555815160274506, 0.07809705287218094, '00:00']\n",
      "[2, 0.09555815160274506, 0.07809705287218094, '00:00']\n",
      "[3, 0.06268429011106491, 0.01899457722902298, '00:00']\n",
      "[3, 0.06268429011106491, 0.01899457722902298, '00:00']\n",
      "[4, 0.025629138574004173, 0.010650386102497578, '00:00']\n",
      "[4, 0.025629138574004173, 0.010650386102497578, '00:00']\n",
      "[5, 0.009673570282757282, 0.002845160895958543, '00:00']\n",
      "[5, 0.009673570282757282, 0.002845160895958543, '00:00']\n",
      "[6, 0.003865428501740098, 0.0018780328100547194, '00:00']\n",
      "[6, 0.003865428501740098, 0.0018780328100547194, '00:00']\n",
      "[7, 0.0021205225493758917, 0.001514893607236445, '00:00']\n",
      "[7, 0.0021205225493758917, 0.001514893607236445, '00:00']\n",
      "[8, 0.0014715661527588964, 0.0011681847972795367, '00:00']\n",
      "[8, 0.0014715661527588964, 0.0011681847972795367, '00:00']\n",
      "[9, 0.001013252418488264, 0.000688405183609575, '00:00']\n",
      "[9, 0.001013252418488264, 0.000688405183609575, '00:00']\n",
      "[10, 0.0005332304281182587, 0.00029099793755449355, '00:00']\n",
      "[10, 0.0005332304281182587, 0.00029099793755449355, '00:00']\n",
      "[11, 0.00029898027423769236, 0.00020343267533462495, '00:00']\n",
      "[11, 0.00029898027423769236, 0.00020343267533462495, '00:00']\n",
      "[12, 0.0002449008752591908, 0.00022210055612958968, '00:00']\n",
      "[12, 0.0002449008752591908, 0.00022210055612958968, '00:00']\n",
      "[13, 0.00018592580454424024, 0.00029523149714805186, '00:00']\n",
      "[13, 0.00018592580454424024, 0.00029523149714805186, '00:00']\n",
      "[14, 0.00030065799364820123, 0.0003073866537306458, '00:00']\n",
      "[14, 0.00030065799364820123, 0.0003073866537306458, '00:00']\n",
      "[15, 0.00034309059265069664, 0.0005339534836821258, '00:00']\n",
      "[15, 0.00034309059265069664, 0.0005339534836821258, '00:00']\n",
      "[16, 0.00034414403489790857, 0.0003651646838989109, '00:00']\n",
      "[16, 0.00034414403489790857, 0.0003651646838989109, '00:00']\n",
      "[17, 0.0003164545341860503, 0.00019238230015616864, '00:00']\n",
      "[17, 0.0003164545341860503, 0.00019238230015616864, '00:00']\n",
      "[18, 0.00038764995406381786, 0.0004326404887251556, '00:00']\n",
      "[18, 0.00038764995406381786, 0.0004326404887251556, '00:00']\n",
      "[19, 0.00047452448052354157, 8.835634798742831e-05, '00:00']\n",
      "[19, 0.00047452448052354157, 8.835634798742831e-05, '00:00']\n",
      "[20, 0.00039868077146820724, 7.705875032115728e-05, '00:00']\n",
      "[20, 0.00039868077146820724, 7.705875032115728e-05, '00:00']\n",
      "[21, 0.0004937447374686599, 0.002001758199185133, '00:00']\n",
      "[21, 0.0004937447374686599, 0.002001758199185133, '00:00']\n",
      "[22, 0.0006494634435512125, 0.0002457196533214301, '00:00']\n",
      "[22, 0.0006494634435512125, 0.0002457196533214301, '00:00']\n",
      "[23, 0.0007032951689325273, 0.0005951903876848519, '00:00']\n",
      "[23, 0.0007032951689325273, 0.0005951903876848519, '00:00']\n",
      "[24, 0.0007641274714842439, 0.000256364670349285, '00:00']\n",
      "[24, 0.0007641274714842439, 0.000256364670349285, '00:00']\n",
      "[25, 0.0007253254880197346, 0.001618402311578393, '00:00']\n",
      "[25, 0.0007253254880197346, 0.001618402311578393, '00:00']\n",
      "[26, 0.0007413064013235271, 0.00016538187628611922, '00:00']\n",
      "[26, 0.0007413064013235271, 0.00016538187628611922, '00:00']\n",
      "[27, 0.0009509354713372886, 0.00013547383423428982, '00:00']\n",
      "[27, 0.0009509354713372886, 0.00013547383423428982, '00:00']\n",
      "[28, 0.0009921533055603504, 0.0002510255144443363, '00:00']\n",
      "[28, 0.0009921533055603504, 0.0002510255144443363, '00:00']\n",
      "[29, 0.0009264859254471958, 0.0009115143911913037, '00:00']\n",
      "[29, 0.0009264859254471958, 0.0009115143911913037, '00:00']\n",
      "[30, 0.0009278043289668858, 0.0025962681975215673, '00:00']\n",
      "[30, 0.0009278043289668858, 0.0025962681975215673, '00:00']\n",
      "[31, 0.0010002714116126299, 0.0018133069388568401, '00:00']\n",
      "[31, 0.0010002714116126299, 0.0018133069388568401, '00:00']\n",
      "[32, 0.001303093391470611, 0.0005612318636849523, '00:00']\n",
      "[32, 0.001303093391470611, 0.0005612318636849523, '00:00']\n",
      "[33, 0.0010733527597039938, 0.0007462076609954238, '00:00']\n",
      "[33, 0.0010733527597039938, 0.0007462076609954238, '00:00']\n",
      "[34, 0.001248878426849842, 0.0034130513668060303, '00:00']\n",
      "[34, 0.001248878426849842, 0.0034130513668060303, '00:00']\n",
      "[35, 0.001067809178493917, 0.0013094701571390033, '00:00']\n",
      "[35, 0.001067809178493917, 0.0013094701571390033, '00:00']\n",
      "[36, 0.0011171881342306733, 0.0018465295433998108, '00:00']\n",
      "[36, 0.0011171881342306733, 0.0018465295433998108, '00:00']\n",
      "[37, 0.0011648439103737473, 0.00015879375860095024, '00:00']\n",
      "[37, 0.0011648439103737473, 0.00015879375860095024, '00:00']\n",
      "[38, 0.0010812452528625727, 0.0011777259642258286, '00:00']\n",
      "[38, 0.0010812452528625727, 0.0011777259642258286, '00:00']\n",
      "[39, 0.0011475791689008474, 0.0010259293485432863, '00:00']\n",
      "[39, 0.0011475791689008474, 0.0010259293485432863, '00:00']\n",
      "[40, 0.0011416717898100615, 0.00047694379463791847, '00:00']\n",
      "[40, 0.0011416717898100615, 0.00047694379463791847, '00:00']\n",
      "[41, 0.0013298114063218236, 0.0007039685151539743, '00:00']\n",
      "[41, 0.0013298114063218236, 0.0007039685151539743, '00:00']\n",
      "[42, 0.0011217910796403885, 0.002074417658150196, '00:00']\n",
      "[42, 0.0011217910796403885, 0.002074417658150196, '00:00']\n",
      "[43, 0.0014233668334782124, 0.00048645545030012727, '00:00']\n",
      "[43, 0.0014233668334782124, 0.00048645545030012727, '00:00']\n",
      "[44, 0.0014423222746700048, 0.0028312639333307743, '00:00']\n",
      "[44, 0.0014423222746700048, 0.0028312639333307743, '00:00']\n",
      "[45, 0.0010637064697220922, 0.000563422916457057, '00:00']\n",
      "[45, 0.0010637064697220922, 0.000563422916457057, '00:00']\n",
      "[46, 0.000894297321792692, 0.00039545021718367934, '00:00']\n",
      "[46, 0.000894297321792692, 0.00039545021718367934, '00:00']\n",
      "[47, 0.0008487642626278102, 0.0005783825181424618, '00:00']\n",
      "[47, 0.0008487642626278102, 0.0005783825181424618, '00:00']\n",
      "[48, 0.0009528906084597111, 0.0005673857522197068, '00:00']\n",
      "[48, 0.0009528906084597111, 0.0005673857522197068, '00:00']\n",
      "[49, 0.0009753755293786526, 0.0017568140756338835, '00:00']\n",
      "[49, 0.0009753755293786526, 0.0017568140756338835, '00:00']\n",
      "[50, 0.0008629299118183553, 0.0003113223647233099, '00:00']\n",
      "[50, 0.0008629299118183553, 0.0003113223647233099, '00:00']\n",
      "[51, 0.000694463902618736, 0.0009132386767305434, '00:00']\n",
      "[51, 0.000694463902618736, 0.0009132386767305434, '00:00']\n",
      "[52, 0.000659983023069799, 0.000243873568251729, '00:00']\n",
      "[52, 0.000659983023069799, 0.000243873568251729, '00:00']\n",
      "[53, 0.0007899628835730255, 0.0006503858021460474, '00:00']\n",
      "[53, 0.0007899628835730255, 0.0006503858021460474, '00:00']\n",
      "[54, 0.0006423661252483726, 0.0007612215704284608, '00:00']\n",
      "[54, 0.0006423661252483726, 0.0007612215704284608, '00:00']\n",
      "[55, 0.0007483816589228809, 0.0007854407303966582, '00:00']\n",
      "[55, 0.0007483816589228809, 0.0007854407303966582, '00:00']\n",
      "[56, 0.0009665208053775132, 0.0008857959182932973, '00:00']\n",
      "[56, 0.0009665208053775132, 0.0008857959182932973, '00:00']\n",
      "[57, 0.0005828082794323564, 0.00030340856756083667, '00:00']\n",
      "[57, 0.0005828082794323564, 0.00030340856756083667, '00:00']\n",
      "[58, 0.0006984617211855948, 0.00048089417396113276, '00:00']\n",
      "[58, 0.0006984617211855948, 0.00048089417396113276, '00:00']\n",
      "[59, 0.0005818287027068436, 0.00025489626568742096, '00:00']\n",
      "[59, 0.0005818287027068436, 0.00025489626568742096, '00:00']\n",
      "[60, 0.0006201860378496349, 0.0002553089871071279, '00:00']\n",
      "[60, 0.0006201860378496349, 0.0002553089871071279, '00:00']\n",
      "[61, 0.0005603106692433357, 0.0003583522920962423, '00:00']\n",
      "[61, 0.0005603106692433357, 0.0003583522920962423, '00:00']\n",
      "[62, 0.0005678199231624603, 0.0004822195624001324, '00:00']\n",
      "[62, 0.0005678199231624603, 0.0004822195624001324, '00:00']\n",
      "[63, 0.0004742262826766819, 0.0014646517811343074, '00:00']\n",
      "[63, 0.0004742262826766819, 0.0014646517811343074, '00:00']\n",
      "[64, 0.0005005953134968877, 0.00012172357673989609, '00:00']\n",
      "[64, 0.0005005953134968877, 0.00012172357673989609, '00:00']\n",
      "[65, 0.00044407861423678696, 0.0008184063481166959, '00:00']\n",
      "[65, 0.00044407861423678696, 0.0008184063481166959, '00:00']\n",
      "[66, 0.00046569801634177566, 0.0001368953671772033, '00:00']\n",
      "[66, 0.00046569801634177566, 0.0001368953671772033, '00:00']\n",
      "[67, 0.001035987981595099, 0.00010100964573211968, '00:00']\n",
      "[67, 0.001035987981595099, 0.00010100964573211968, '00:00']\n",
      "[68, 0.0004139432276133448, 0.00015225494280457497, '00:00']\n",
      "[68, 0.0004139432276133448, 0.00015225494280457497, '00:00']\n",
      "[69, 0.0004247642355039716, 0.0007717394037172198, '00:00']\n",
      "[69, 0.0004247642355039716, 0.0007717394037172198, '00:00']\n",
      "[70, 0.0004993032780475914, 0.0005152151570655406, '00:00']\n",
      "[70, 0.0004993032780475914, 0.0005152151570655406, '00:00']\n",
      "[71, 0.0004640322586055845, 0.0004819533205591142, '00:00']\n",
      "[71, 0.0004640322586055845, 0.0004819533205591142, '00:00']\n",
      "[72, 0.00040549974073655903, 0.00030979790608398616, '00:00']\n",
      "[72, 0.00040549974073655903, 0.00030979790608398616, '00:00']\n",
      "[73, 0.0003518301818985492, 0.00019657574011944234, '00:00']\n",
      "[73, 0.0003518301818985492, 0.00019657574011944234, '00:00']\n",
      "[74, 0.0004467451071832329, 0.0007160510285757482, '00:00']\n",
      "[74, 0.0004467451071832329, 0.0007160510285757482, '00:00']\n",
      "[75, 0.0003386748139746487, 0.00023134540242608637, '00:00']\n",
      "[75, 0.0003386748139746487, 0.00023134540242608637, '00:00']\n",
      "[76, 0.0003729630552697927, 0.000771916878875345, '00:00']\n",
      "[76, 0.0003729630552697927, 0.000771916878875345, '00:00']\n",
      "[77, 0.00030095071997493505, 0.0003894641122315079, '00:00']\n",
      "[77, 0.00030095071997493505, 0.0003894641122315079, '00:00']\n",
      "[78, 0.0003323969431221485, 0.00013627391308546066, '00:00']\n",
      "[78, 0.0003323969431221485, 0.00013627391308546066, '00:00']\n",
      "[79, 0.0004220881965011358, 0.0002534001541789621, '00:00']\n",
      "[79, 0.0004220881965011358, 0.0002534001541789621, '00:00']\n",
      "[80, 0.00033192901173606515, 0.0002613861870486289, '00:00']\n",
      "[80, 0.00033192901173606515, 0.0002613861870486289, '00:00']\n",
      "[81, 0.0002931591006927192, 8.13618244137615e-05, '00:00']\n",
      "[81, 0.0002931591006927192, 8.13618244137615e-05, '00:00']\n",
      "[82, 0.00029027543496340513, 9.858673001872376e-05, '00:00']\n",
      "[82, 0.00029027543496340513, 9.858673001872376e-05, '00:00']\n",
      "[83, 0.0002887209120672196, 0.0001594012137502432, '00:00']\n",
      "[83, 0.0002887209120672196, 0.0001594012137502432, '00:00']\n",
      "[84, 0.0002963986771646887, 0.0002068457833956927, '00:00']\n",
      "[84, 0.0002963986771646887, 0.0002068457833956927, '00:00']\n",
      "[85, 0.00022916831949260086, 6.351696356432512e-05, '00:00']\n",
      "[85, 0.00022916831949260086, 6.351696356432512e-05, '00:00']\n",
      "[86, 0.0002766833931673318, 0.0008461444522254169, '00:00']\n",
      "[86, 0.0002766833931673318, 0.0008461444522254169, '00:00']\n",
      "[87, 0.00022019361495040357, 4.20977667090483e-05, '00:00']\n",
      "[87, 0.00022019361495040357, 4.20977667090483e-05, '00:00']\n",
      "[88, 0.000248546275543049, 0.00010851893603103235, '00:00']\n",
      "[88, 0.000248546275543049, 0.00010851893603103235, '00:00']\n",
      "[89, 0.00018342150724492967, 0.000226880656555295, '00:00']\n",
      "[89, 0.00018342150724492967, 0.000226880656555295, '00:00']\n",
      "[90, 0.00018259939679410309, 0.00018042989540845156, '00:00']\n",
      "[90, 0.00018259939679410309, 0.00018042989540845156, '00:00']\n",
      "[91, 0.00021309504518285394, 0.00026703186449594796, '00:00']\n",
      "[91, 0.00021309504518285394, 0.00026703186449594796, '00:00']\n",
      "[92, 0.00019179974333383143, 0.0005883443518541753, '00:00']\n",
      "[92, 0.00019179974333383143, 0.0005883443518541753, '00:00']\n",
      "[93, 0.00017237324209418148, 0.00026238226564601064, '00:00']\n",
      "[93, 0.00017237324209418148, 0.00026238226564601064, '00:00']\n",
      "[94, 0.00018703339446801692, 8.75093974173069e-05, '00:00']\n",
      "[94, 0.00018703339446801692, 8.75093974173069e-05, '00:00']\n",
      "[95, 0.00015954968694131821, 5.583801612374373e-05, '00:00']\n",
      "[95, 0.00015954968694131821, 5.583801612374373e-05, '00:00']\n",
      "[96, 0.00016697734827175736, 7.309457578230649e-05, '00:00']\n",
      "[96, 0.00016697734827175736, 7.309457578230649e-05, '00:00']\n",
      "[97, 0.00016274317749775946, 0.00010298247070750222, '00:00']\n",
      "[97, 0.00016274317749775946, 0.00010298247070750222, '00:00']\n",
      "[98, 0.00016135370242409408, 6.577406747965142e-05, '00:00']\n",
      "[98, 0.00016135370242409408, 6.577406747965142e-05, '00:00']\n",
      "[99, 0.00014041410759091377, 6.324966670945287e-05, '00:00']\n",
      "[99, 0.00014041410759091377, 6.324966670945287e-05, '00:00']\n",
      "[100, 0.0001338193251285702, 0.00015950208762660623, '00:00']\n",
      "[100, 0.0001338193251285702, 0.00015950208762660623, '00:00']\n",
      "[101, 0.00012408796465024352, 8.793196320766583e-05, '00:00']\n",
      "[101, 0.00012408796465024352, 8.793196320766583e-05, '00:00']\n",
      "[102, 0.00012446004257071763, 0.00011180587171111256, '00:00']\n",
      "[102, 0.00012446004257071763, 0.00011180587171111256, '00:00']\n",
      "[103, 0.0001270301581826061, 4.105989501113072e-05, '00:00']\n",
      "[103, 0.0001270301581826061, 4.105989501113072e-05, '00:00']\n",
      "[104, 0.0001343509356956929, 7.024998922133818e-05, '00:00']\n",
      "[104, 0.0001343509356956929, 7.024998922133818e-05, '00:00']\n",
      "[105, 0.0001072902960004285, 8.280964539153501e-05, '00:00']\n",
      "[105, 0.0001072902960004285, 8.280964539153501e-05, '00:00']\n",
      "[106, 9.861967555480078e-05, 2.763992415566463e-05, '00:00']\n",
      "[106, 9.861967555480078e-05, 2.763992415566463e-05, '00:00']\n",
      "[107, 0.00011833664757432416, 6.397463585017249e-05, '00:00']\n",
      "[107, 0.00011833664757432416, 6.397463585017249e-05, '00:00']\n",
      "[108, 9.99904441414401e-05, 0.0001326036435784772, '00:00']\n",
      "[108, 9.99904441414401e-05, 0.0001326036435784772, '00:00']\n",
      "[109, 0.00010629454482113943, 5.4549353080801666e-05, '00:00']\n",
      "[109, 0.00010629454482113943, 5.4549353080801666e-05, '00:00']\n",
      "[110, 8.518838149029762e-05, 3.17743542836979e-05, '00:00']\n",
      "[110, 8.518838149029762e-05, 3.17743542836979e-05, '00:00']\n",
      "[111, 7.996478234417737e-05, 3.713718615472317e-05, '00:00']\n",
      "[111, 7.996478234417737e-05, 3.713718615472317e-05, '00:00']\n",
      "[112, 8.649966184748337e-05, 8.86539783095941e-05, '00:00']\n",
      "[112, 8.649966184748337e-05, 8.86539783095941e-05, '00:00']\n",
      "[113, 7.282743172254413e-05, 6.231162115000188e-05, '00:00']\n",
      "[113, 7.282743172254413e-05, 6.231162115000188e-05, '00:00']\n",
      "[114, 7.125380216166377e-05, 4.1772338590817526e-05, '00:00']\n",
      "[114, 7.125380216166377e-05, 4.1772338590817526e-05, '00:00']\n",
      "[115, 6.715382914990187e-05, 4.700282806879841e-05, '00:00']\n",
      "[115, 6.715382914990187e-05, 4.700282806879841e-05, '00:00']\n",
      "[116, 6.065838169888593e-05, 4.5236796722747386e-05, '00:00']\n",
      "[116, 6.065838169888593e-05, 4.5236796722747386e-05, '00:00']\n",
      "[117, 5.6260061683133245e-05, 4.4140433601569384e-05, '00:00']\n",
      "[117, 5.6260061683133245e-05, 4.4140433601569384e-05, '00:00']\n",
      "[118, 7.687324978178367e-05, 9.602124919183552e-05, '00:00']\n",
      "[118, 7.687324978178367e-05, 9.602124919183552e-05, '00:00']\n",
      "[119, 5.238733865553513e-05, 5.462250192067586e-05, '00:00']\n",
      "[119, 5.238733865553513e-05, 5.462250192067586e-05, '00:00']\n",
      "[120, 5.217173747951165e-05, 1.9144290490658022e-05, '00:00']\n",
      "[120, 5.217173747951165e-05, 1.9144290490658022e-05, '00:00']\n",
      "[121, 4.539081055554561e-05, 1.990919372474309e-05, '00:00']\n",
      "[121, 4.539081055554561e-05, 1.990919372474309e-05, '00:00']\n",
      "[122, 5.248667366686277e-05, 1.5061230442370288e-05, '00:00']\n",
      "[122, 5.248667366686277e-05, 1.5061230442370288e-05, '00:00']\n",
      "[123, 4.600278043653816e-05, 3.60501253453549e-05, '00:00']\n",
      "[123, 4.600278043653816e-05, 3.60501253453549e-05, '00:00']\n",
      "[124, 4.144098056713119e-05, 8.283217175630853e-05, '00:00']\n",
      "[124, 4.144098056713119e-05, 8.283217175630853e-05, '00:00']\n",
      "[125, 3.789255424635485e-05, 3.18272432195954e-05, '00:00']\n",
      "[125, 3.789255424635485e-05, 3.18272432195954e-05, '00:00']\n",
      "[126, 3.7266581784933805e-05, 1.7533486243337393e-05, '00:00']\n",
      "[126, 3.7266581784933805e-05, 1.7533486243337393e-05, '00:00']\n",
      "[127, 3.207556437700987e-05, 6.261120142880827e-05, '00:00']\n",
      "[127, 3.207556437700987e-05, 6.261120142880827e-05, '00:00']\n",
      "[128, 2.924712134699803e-05, 2.6577015887596644e-05, '00:00']\n",
      "[128, 2.924712134699803e-05, 2.6577015887596644e-05, '00:00']\n",
      "[129, 3.545692015904933e-05, 6.430406938306987e-05, '00:00']\n",
      "[129, 3.545692015904933e-05, 6.430406938306987e-05, '00:00']\n",
      "[130, 2.3512455300078727e-05, 5.14747116540093e-05, '00:00']\n",
      "[130, 2.3512455300078727e-05, 5.14747116540093e-05, '00:00']\n",
      "[131, 2.9643933885381557e-05, 2.9960570827824995e-05, '00:00']\n",
      "[131, 2.9643933885381557e-05, 2.9960570827824995e-05, '00:00']\n",
      "[132, 2.2191390598891303e-05, 1.5142834854486864e-05, '00:00']\n",
      "[132, 2.2191390598891303e-05, 1.5142834854486864e-05, '00:00']\n",
      "[133, 2.6263323888997547e-05, 2.7072410375694744e-05, '00:00']\n",
      "[133, 2.6263323888997547e-05, 2.7072410375694744e-05, '00:00']\n",
      "[134, 2.160029544029385e-05, 1.0999496225849725e-05, '00:00']\n",
      "[134, 2.160029544029385e-05, 1.0999496225849725e-05, '00:00']\n",
      "[135, 2.1549765733652748e-05, 1.9012057236977853e-05, '00:00']\n",
      "[135, 2.1549765733652748e-05, 1.9012057236977853e-05, '00:00']\n",
      "[136, 1.622827949177008e-05, 2.5341403670608997e-05, '00:00']\n",
      "[136, 1.622827949177008e-05, 2.5341403670608997e-05, '00:00']\n",
      "[137, 1.881287789728958e-05, 1.0045892850030214e-05, '00:00']\n",
      "[137, 1.881287789728958e-05, 1.0045892850030214e-05, '00:00']\n",
      "[138, 1.4355026905832347e-05, 2.8924863727297634e-05, '00:00']\n",
      "[138, 1.4355026905832347e-05, 2.8924863727297634e-05, '00:00']\n",
      "[139, 1.3986654266773257e-05, 8.822874406178016e-06, '00:00']\n",
      "[139, 1.3986654266773257e-05, 8.822874406178016e-06, '00:00']\n",
      "[140, 2.008078809012659e-05, 1.877639806480147e-05, '00:00']\n",
      "[140, 2.008078809012659e-05, 1.877639806480147e-05, '00:00']\n",
      "[141, 1.3865334949514363e-05, 1.5558425729977898e-05, '00:00']\n",
      "[141, 1.3865334949514363e-05, 1.5558425729977898e-05, '00:00']\n",
      "[142, 1.0470812412677333e-05, 1.4250971617002506e-05, '00:00']\n",
      "[142, 1.0470812412677333e-05, 1.4250971617002506e-05, '00:00']\n",
      "[143, 1.0835754437721334e-05, 8.145188985508867e-06, '00:00']\n",
      "[143, 1.0835754437721334e-05, 8.145188985508867e-06, '00:00']\n",
      "[144, 9.859573765425012e-06, 7.768461728119291e-06, '00:00']\n",
      "[144, 9.859573765425012e-06, 7.768461728119291e-06, '00:00']\n",
      "[145, 1.2071998753526714e-05, 1.4727888810739387e-05, '00:00']\n",
      "[145, 1.2071998753526714e-05, 1.4727888810739387e-05, '00:00']\n",
      "[146, 1.025912024488207e-05, 4.755761437991168e-06, '00:00']\n",
      "[146, 1.025912024488207e-05, 4.755761437991168e-06, '00:00']\n",
      "[147, 7.574291885248385e-06, 1.242485177499475e-05, '00:00']\n",
      "[147, 7.574291885248385e-06, 1.242485177499475e-05, '00:00']\n",
      "[148, 7.336622275033733e-06, 8.490512300340924e-06, '00:00']\n",
      "[148, 7.336622275033733e-06, 8.490512300340924e-06, '00:00']\n",
      "[149, 6.586659310414689e-06, 6.613518962694798e-06, '00:00']\n",
      "[149, 6.586659310414689e-06, 6.613518962694798e-06, '00:00']\n",
      "[150, 7.425964668072993e-06, 8.413971045229118e-06, '00:00']\n",
      "[150, 7.425964668072993e-06, 8.413971045229118e-06, '00:00']\n",
      "[151, 7.033174824755406e-06, 6.58221233607037e-06, '00:00']\n",
      "[151, 7.033174824755406e-06, 6.58221233607037e-06, '00:00']\n",
      "[152, 5.90815352552454e-06, 4.427471139933914e-06, '00:00']\n",
      "[152, 5.90815352552454e-06, 4.427471139933914e-06, '00:00']\n",
      "[153, 5.413415237853769e-06, 5.382129074860131e-06, '00:00']\n",
      "[153, 5.413415237853769e-06, 5.382129074860131e-06, '00:00']\n",
      "[154, 6.5392932810937054e-06, 5.211234110902296e-06, '00:00']\n",
      "[154, 6.5392932810937054e-06, 5.211234110902296e-06, '00:00']\n",
      "[155, 4.890351192443632e-06, 4.1022608456842136e-06, '00:00']\n",
      "[155, 4.890351192443632e-06, 4.1022608456842136e-06, '00:00']\n",
      "[156, 4.089056346856523e-06, 5.367230642150389e-06, '00:00']\n",
      "[156, 4.089056346856523e-06, 5.367230642150389e-06, '00:00']\n",
      "[157, 4.129599801672157e-06, 3.55892802872404e-06, '00:00']\n",
      "[157, 4.129599801672157e-06, 3.55892802872404e-06, '00:00']\n",
      "[158, 4.102629191038432e-06, 4.239402642269852e-06, '00:00']\n",
      "[158, 4.102629191038432e-06, 4.239402642269852e-06, '00:00']\n",
      "[159, 3.9348506106762215e-06, 3.3835303838714026e-06, '00:00']\n",
      "[159, 3.9348506106762215e-06, 3.3835303838714026e-06, '00:00']\n",
      "[160, 3.6992917102907086e-06, 3.5123964607919334e-06, '00:00']\n",
      "[160, 3.6992917102907086e-06, 3.5123964607919334e-06, '00:00']\n",
      "[161, 3.2936231946223415e-06, 3.379297368155676e-06, '00:00']\n",
      "[161, 3.2936231946223415e-06, 3.379297368155676e-06, '00:00']\n",
      "[162, 3.0622368285548873e-06, 2.4904438760131598e-06, '00:00']\n",
      "[162, 3.0622368285548873e-06, 2.4904438760131598e-06, '00:00']\n",
      "[163, 2.8945348731213016e-06, 2.384014351264341e-06, '00:00']\n",
      "[163, 2.8945348731213016e-06, 2.384014351264341e-06, '00:00']\n",
      "[164, 2.9631353299919283e-06, 3.2805496630317066e-06, '00:00']\n",
      "[164, 2.9631353299919283e-06, 3.2805496630317066e-06, '00:00']\n",
      "[165, 2.8598583412531298e-06, 3.443690957283252e-06, '00:00']\n",
      "[165, 2.8598583412531298e-06, 3.443690957283252e-06, '00:00']\n",
      "[166, 2.6629586500348523e-06, 3.3957589948840905e-06, '00:00']\n",
      "[166, 2.6629586500348523e-06, 3.3957589948840905e-06, '00:00']\n",
      "[167, 2.4352304990316043e-06, 2.7974729164270684e-06, '00:00']\n",
      "[167, 2.4352304990316043e-06, 2.7974729164270684e-06, '00:00']\n",
      "[168, 2.2507106223201845e-06, 2.2306937808025395e-06, '00:00']\n",
      "[168, 2.2507106223201845e-06, 2.2306937808025395e-06, '00:00']\n",
      "[169, 2.2102849470684305e-06, 2.3016782506601885e-06, '00:00']\n",
      "[169, 2.2102849470684305e-06, 2.3016782506601885e-06, '00:00']\n",
      "[170, 2.19196840589575e-06, 2.3898139716038713e-06, '00:00']\n",
      "[170, 2.19196840589575e-06, 2.3898139716038713e-06, '00:00']\n",
      "[171, 2.0871918877674034e-06, 2.487533720341162e-06, '00:00']\n",
      "[171, 2.0871918877674034e-06, 2.487533720341162e-06, '00:00']\n",
      "[172, 2.0877141650998965e-06, 2.3428328859154135e-06, '00:00']\n",
      "[172, 2.0877141650998965e-06, 2.3428328859154135e-06, '00:00']\n",
      "[173, 2.033978717008722e-06, 1.9607973626989406e-06, '00:00']\n",
      "[173, 2.033978717008722e-06, 1.9607973626989406e-06, '00:00']\n",
      "[174, 1.878339276117913e-06, 1.860050701907312e-06, '00:00']\n",
      "[174, 1.878339276117913e-06, 1.860050701907312e-06, '00:00']\n",
      "[175, 1.8046360992229893e-06, 1.923373474710388e-06, '00:00']\n",
      "[175, 1.8046360992229893e-06, 1.923373474710388e-06, '00:00']\n",
      "[176, 1.734105467221525e-06, 1.7949107586900936e-06, '00:00']\n",
      "[176, 1.734105467221525e-06, 1.7949107586900936e-06, '00:00']\n",
      "[177, 1.6914689240365988e-06, 1.8129326235793997e-06, '00:00']\n",
      "[177, 1.6914689240365988e-06, 1.8129326235793997e-06, '00:00']\n",
      "[178, 1.6586111541982973e-06, 1.8965394019687665e-06, '00:00']\n",
      "[178, 1.6586111541982973e-06, 1.8965394019687665e-06, '00:00']\n",
      "[179, 1.622552872504457e-06, 1.8155827774535283e-06, '00:00']\n",
      "[179, 1.622552872504457e-06, 1.8155827774535283e-06, '00:00']\n",
      "[180, 1.5682497860325384e-06, 1.7859043737189495e-06, '00:00']\n",
      "[180, 1.5682497860325384e-06, 1.7859043737189495e-06, '00:00']\n",
      "[181, 1.5452648085556575e-06, 1.715125563350739e-06, '00:00']\n",
      "[181, 1.5452648085556575e-06, 1.715125563350739e-06, '00:00']\n",
      "[182, 1.560842292747111e-06, 1.7048790823537274e-06, '00:00']\n",
      "[182, 1.560842292747111e-06, 1.7048790823537274e-06, '00:00']\n",
      "[183, 1.581142100803845e-06, 1.6771437003626488e-06, '00:00']\n",
      "[183, 1.581142100803845e-06, 1.6771437003626488e-06, '00:00']\n",
      "[184, 1.5409682418976445e-06, 1.6726776266295929e-06, '00:00']\n",
      "[184, 1.5409682418976445e-06, 1.6726776266295929e-06, '00:00']\n",
      "[185, 1.5029253290776978e-06, 1.644554345148208e-06, '00:00']\n",
      "[185, 1.5029253290776978e-06, 1.644554345148208e-06, '00:00']\n",
      "[186, 1.4869398228256614e-06, 1.6591671965215937e-06, '00:00']\n",
      "[186, 1.4869398228256614e-06, 1.6591671965215937e-06, '00:00']\n",
      "[187, 1.469028347855783e-06, 1.6490901089127874e-06, '00:00']\n",
      "[187, 1.469028347855783e-06, 1.6490901089127874e-06, '00:00']\n",
      "[188, 1.446267219762376e-06, 1.6150477222254267e-06, '00:00']\n",
      "[188, 1.446267219762376e-06, 1.6150477222254267e-06, '00:00']\n",
      "[189, 1.4293600543169305e-06, 1.6208116448979126e-06, '00:00']\n",
      "[189, 1.4293600543169305e-06, 1.6208116448979126e-06, '00:00']\n",
      "[190, 1.4145692830425105e-06, 1.6086684127003537e-06, '00:00']\n",
      "[190, 1.4145692830425105e-06, 1.6086684127003537e-06, '00:00']\n",
      "[191, 1.4005935327077168e-06, 1.596065999365237e-06, '00:00']\n",
      "[191, 1.4005935327077168e-06, 1.596065999365237e-06, '00:00']\n",
      "[192, 1.3896657264922396e-06, 1.5858065580687253e-06, '00:00']\n",
      "[192, 1.3896657264922396e-06, 1.5858065580687253e-06, '00:00']\n",
      "[193, 1.379100353915419e-06, 1.5756035054437234e-06, '00:00']\n",
      "[193, 1.379100353915419e-06, 1.5756035054437234e-06, '00:00']\n",
      "[194, 1.368916514365992e-06, 1.572082624079485e-06, '00:00']\n",
      "[194, 1.368916514365992e-06, 1.572082624079485e-06, '00:00']\n",
      "[195, 1.3663473055203212e-06, 1.5699813502578763e-06, '00:00']\n",
      "[195, 1.3663473055203212e-06, 1.5699813502578763e-06, '00:00']\n",
      "[196, 1.3605454114440363e-06, 1.5623645595042035e-06, '00:00']\n",
      "[196, 1.3605454114440363e-06, 1.5623645595042035e-06, '00:00']\n",
      "[197, 1.3557696547650266e-06, 1.5645468920411076e-06, '00:00']\n",
      "[197, 1.3557696547650266e-06, 1.5645468920411076e-06, '00:00']\n",
      "[198, 1.3535077414417174e-06, 1.5611224171152571e-06, '00:00']\n",
      "[198, 1.3535077414417174e-06, 1.5611224171152571e-06, '00:00']\n",
      "[199, 1.3516879562303075e-06, 1.560984401294263e-06, '00:00']\n",
      "[199, 1.3516879562303075e-06, 1.560984401294263e-06, '00:00']\n",
      "Training took 137.83963089300005 seconds\n"
     ]
    }
   ],
   "source": [
    "start = time.perf_counter() # Starts timer\n",
    "learn.fit_one_cycle(n_epoch=200, lr_max=lr_min)\n",
    "end = time.perf_counter() # Ends timer\n",
    "delta_t = end - start\n",
    "print('Training took', delta_t, 'seconds')"
   ]
  },
  {
   "cell_type": "code",
   "execution_count": 51,
   "id": "rotary-mediterranean",
   "metadata": {},
   "outputs": [
    {
     "data": {
      "image/png": "[encoded data removed]",
      "text/plain": [
       "<Figure size 432x288 with 1 Axes>"
      ]
     },
     "metadata": {
      "needs_background": "light"
     },
     "output_type": "display_data"
    }
   ],
   "source": [
    "recorder.plot_loss()"
   ]
  },
  {
   "cell_type": "code",
   "execution_count": 52,
   "id": "ultimate-curve",
   "metadata": {},
   "outputs": [
    {
     "data": {
      "text/plain": [
       "(#1) [1.560984401294263e-06]"
      ]
     },
     "execution_count": 52,
     "metadata": {},
     "output_type": "execute_result"
    }
   ],
   "source": [
    "learn.validate()"
   ]
  },
  {
   "cell_type": "markdown",
   "id": "amazing-authorization",
   "metadata": {},
   "source": [
    ">### **Saving Model**"
   ]
  },
  {
   "cell_type": "code",
   "execution_count": 53,
   "id": "separated-incentive",
   "metadata": {},
   "outputs": [],
   "source": [
    "save_path = './Models/AE_3D_200_Tanh_200Epoch.pt'\n",
    "torch.save(model.state_dict(), save_path)"
   ]
  },
  {
   "cell_type": "markdown",
   "id": "manufactured-treatment",
   "metadata": {},
   "source": [
    ">### **Visualize and Analyze the model predictions**"
   ]
  },
  {
   "cell_type": "code",
   "execution_count": 54,
   "id": "religious-supply",
   "metadata": {},
   "outputs": [],
   "source": [
    "def calc_rms(arr):\n",
    "    arr = arr.flatten()\n",
    "    arr[arr == np.nan] = 1\n",
    "    return np.sqrt(np.sum(arr**2) / len(arr))"
   ]
  },
  {
   "cell_type": "code",
   "execution_count": 55,
   "id": "orange-flavor",
   "metadata": {},
   "outputs": [],
   "source": [
    "def unnormalize_predictions(prediction):\n",
    "    \n",
    "    unnormed_pred = prediction.clone() \n",
    "    unnormed_pred[:, 0] = 10 ** (3 * pred[:, 0])\n",
    "    unnormed_pred[:, 1] = 10 ** (3 * pred[:, 1])\n",
    "    unnormed_pred[:, 2] = 3 * pred[:, 2]\n",
    "    unnormed_pred[:, 3] = 3 * pred[:, 3]\n",
    "    \n",
    "    return unnormed_pred"
   ]
  },
  {
   "cell_type": "code",
   "execution_count": 93,
   "id": "descending-anderson",
   "metadata": {},
   "outputs": [],
   "source": [
    "def plot_input_vs_output(unnormed_test_data, unnormed_test_pred, save=False):\n",
    "\n",
    "    n_bins = 100\n",
    "    colors = ['orange', 'c']\n",
    "    alph = 0.8\n",
    "\n",
    "    for kk in np.arange(4):\n",
    "        plt.subplot(2, 2, kk+1)\n",
    "        n_hist_data, bin_edges, _ = plt.hist(unnormed_test_data[:, kk].detach().numpy(), color=colors[1], label='Input', alpha=1, bins=n_bins)\n",
    "        n_hist_pred, _, _ = plt.hist(unnormed_test_pred[:, kk].detach().numpy(), color=colors[0], label='Output', alpha=alph, bins=bin_edges)\n",
    "        plt.xlabel(test.columns[kk])\n",
    "        plt.ylabel('Number of events')\n",
    "        plt.legend()\n",
    "        \n",
    "        if save:\n",
    "            plt.savefig(\"./Plots/AE_3D_200_Tanh_200Epoch/input_vs_output_fourmomentum\",dpi=300)"
   ]
  },
  {
   "cell_type": "code",
   "execution_count": 102,
   "id": "egyptian-accommodation",
   "metadata": {},
   "outputs": [],
   "source": [
    "def plot_residuals(unnormed_test_data, unnormed_test_pred, save=False):\n",
    "    residual_strings = [r'$(E_{recon} - E_{true}) / E_{true}$',\n",
    "                        r'$(p_{T,recon} - p_{T,true}) / p_{T,true}$',\n",
    "                    r'$(\\eta_{recon} - \\eta_{true}) / \\eta_{true}$',\n",
    "                    r'$(\\phi_{recon} - \\phi_{true}) / \\phi_{true}$']\n",
    "    line_style = ['--', '-']\n",
    "    alph = 0.8\n",
    "    \n",
    "    residuals = (unnormed_test_pred.detach().numpy() - unnormed_test_data.detach().numpy()) / unnormed_test_data.detach().numpy()\n",
    "    range_res = (-.02, .02)\n",
    "\n",
    "    for kk in np.arange(4):\n",
    "        plt.subplot(2, 2, kk+1)\n",
    "        n_hist_pred, bin_edges, _ = plt.hist(residuals[:, kk], label='Residuals', linestyle=line_style[0], alpha=alph, bins=200, range=range_res)\n",
    "        plt.title('Residuals of %s' % test.columns[kk])\n",
    "        plt.xlabel(residual_strings[kk])\n",
    "        plt.ylabel('Number of jets')\n",
    "        plt.yscale('log')\n",
    "        rms = calc_rms(residuals[:, kk])\n",
    "        ax = plt.gca()\n",
    "        residuals_mean = residuals[:, kk].mean()\n",
    "        residuals_variance = residuals[:, kk].var()\n",
    "        plt.text(.2, .5, 'RMS = %f' % (rms), bbox={'facecolor': 'white', 'alpha': 0.7, 'pad': 10},\n",
    "                 horizontalalignment='center', verticalalignment='center', transform=ax.transAxes, fontsize=15)\n",
    "        plt.text(.24, .25, 'Mean = %f\\nVariance = %f' % (residuals_mean, residuals_variance), bbox={'facecolor': 'white', 'alpha': 0.7, 'pad': 10},\n",
    "                 horizontalalignment='center', verticalalignment='center', transform=ax.transAxes, fontsize=15)\n",
    "        if save:\n",
    "            plt.savefig(\"./Plots/AE_3D_200_Tanh_200Epoch/residuals_fourmomentum\",dpi=300)"
   ]
  },
  {
   "cell_type": "code",
   "execution_count": 58,
   "id": "tired-afghanistan",
   "metadata": {},
   "outputs": [],
   "source": [
    "unnormed_test_data = torch.tensor(unnormed_test.values)\n",
    "normed_test_data = torch.tensor(test.values)\n",
    "\n",
    "pred = model(normed_test_data)\n",
    "\n",
    "unnormed_test_pred = unnormalize_predictions(pred)"
   ]
  },
  {
   "cell_type": "code",
   "execution_count": 59,
   "id": "likely-wrist",
   "metadata": {},
   "outputs": [
    {
     "name": "stdout",
     "output_type": "stream",
     "text": [
      "First 5 Input: \n",
      "tensor([[ 1.9355e+00,  1.9235e+00,  1.3025e-01,  4.1245e-01],\n",
      "        [ 1.8407e+00,  1.7004e+00,  5.3999e-01, -6.1841e-01],\n",
      "        [ 1.5587e+00,  1.5570e+00, -5.0219e-04,  8.1866e-01],\n",
      "        [ 1.5251e+00,  1.4985e+00,  2.0823e-01, -3.0359e-01],\n",
      "        [ 1.7020e+00,  1.4857e+00, -7.2400e-01,  8.5120e-01]])\n",
      "\n",
      "\n",
      "First 5 Output: \n",
      "tensor([[ 1.9362e+00,  1.9234e+00,  1.3070e-01,  4.1301e-01],\n",
      "        [ 1.8409e+00,  1.7023e+00,  5.3958e-01, -6.1941e-01],\n",
      "        [ 1.5589e+00,  1.5555e+00,  2.0832e-04,  8.1907e-01],\n",
      "        [ 1.5252e+00,  1.4969e+00,  2.1005e-01, -3.0337e-01],\n",
      "        [ 1.7029e+00,  1.4851e+00, -7.2305e-01,  8.5013e-01]],\n",
      "       grad_fn=<SliceBackward>)\n"
     ]
    }
   ],
   "source": [
    "print(\"First 5 Input: \")\n",
    "print(normed_test_data[0:5])\n",
    "print('\\n')\n",
    "print(\"First 5 Output: \")\n",
    "print(pred[0:5])"
   ]
  },
  {
   "cell_type": "code",
   "execution_count": 60,
   "id": "mediterranean-bradley",
   "metadata": {},
   "outputs": [
    {
     "name": "stdout",
     "output_type": "stream",
     "text": [
      "First 5 Input: \n",
      "tensor([[ 6.4031e+05,  5.8952e+05,  3.9075e-01,  1.2373e+00],\n",
      "        [ 3.3279e+05,  1.2627e+05,  1.6200e+00, -1.8552e+00],\n",
      "        [ 4.7444e+04,  4.6892e+04, -1.5066e-03,  2.4560e+00],\n",
      "        [ 3.7600e+04,  3.1289e+04,  6.2468e-01, -9.1078e-01],\n",
      "        [ 1.2768e+05,  2.8651e+04, -2.1720e+00,  2.5536e+00]],\n",
      "       dtype=torch.float64)\n",
      "\n",
      "\n",
      "First 5 Output: \n",
      "tensor([[ 6.4356e+05,  5.8927e+05,  3.9209e-01,  1.2390e+00],\n",
      "        [ 3.3316e+05,  1.2788e+05,  1.6187e+00, -1.8582e+00],\n",
      "        [ 4.7513e+04,  4.6410e+04,  6.2495e-04,  2.4572e+00],\n",
      "        [ 3.7629e+04,  3.0954e+04,  6.3016e-01, -9.1011e-01],\n",
      "        [ 1.2846e+05,  2.8525e+04, -2.1691e+00,  2.5504e+00]],\n",
      "       grad_fn=<SliceBackward>)\n"
     ]
    }
   ],
   "source": [
    "print(\"First 5 Input: \")\n",
    "print(unnormed_test_data[0:5])\n",
    "print('\\n')\n",
    "print(\"First 5 Output: \")\n",
    "print(unnormed_test_pred[0:5])"
   ]
  },
  {
   "cell_type": "code",
   "execution_count": 100,
   "id": "engaged-transparency",
   "metadata": {},
   "outputs": [
    {
     "data": {
      "image/png": "[encoded data removed]",
      "text/plain": [
       "<Figure size 1080x1080 with 4 Axes>"
      ]
     },
     "metadata": {
      "needs_background": "light"
     },
     "output_type": "display_data"
    }
   ],
   "source": [
    "plot_input_vs_output(unnormed_test_data, unnormed_test_pred, save=True)"
   ]
  },
  {
   "cell_type": "code",
   "execution_count": 103,
   "id": "demanding-bosnia",
   "metadata": {},
   "outputs": [
    {
     "data": {
      "image/png": "[encoded data removed]",
      "text/plain": [
       "<Figure size 1080x1080 with 4 Axes>"
      ]
     },
     "metadata": {
      "needs_background": "light"
     },
     "output_type": "display_data"
    }
   ],
   "source": [
    "plot_residuals(unnormed_test_data, unnormed_test_pred, save=True)"
   ]
  },
  {
   "cell_type": "code",
   "execution_count": 64,
   "id": "persistent-actor",
   "metadata": {},
   "outputs": [],
   "source": [
    "def calc_mse_test(normed_test_data, pred):\n",
    "    return (normed_test_data - pred).square().mean()"
   ]
  },
  {
   "cell_type": "code",
   "execution_count": 65,
   "id": "efficient-highlight",
   "metadata": {},
   "outputs": [
    {
     "data": {
      "text/plain": [
       "tensor(1.5610e-06, grad_fn=<MeanBackward0>)"
      ]
     },
     "execution_count": 65,
     "metadata": {},
     "output_type": "execute_result"
    }
   ],
   "source": [
    "calc_mse_test(normed_test_data, pred)#Overall MSE"
   ]
  },
  {
   "cell_type": "code",
   "execution_count": 104,
   "id": "compound-package",
   "metadata": {},
   "outputs": [
    {
     "data": {
      "text/plain": [
       "tensor(1.6731e-06, grad_fn=<MeanBackward0>)"
      ]
     },
     "execution_count": 104,
     "metadata": {},
     "output_type": "execute_result"
    }
   ],
   "source": [
    "calc_mse_test(normed_test_data[:, 0], pred[:, 0])#MSE for E"
   ]
  },
  {
   "cell_type": "code",
   "execution_count": 107,
   "id": "reported-allah",
   "metadata": {},
   "outputs": [
    {
     "data": {
      "text/plain": [
       "tensor(2.0125e-06, grad_fn=<MeanBackward0>)"
      ]
     },
     "execution_count": 107,
     "metadata": {},
     "output_type": "execute_result"
    }
   ],
   "source": [
    "calc_mse_test(normed_test_data[:, 1], pred[:, 1])#MSE for pt"
   ]
  },
  {
   "cell_type": "code",
   "execution_count": 106,
   "id": "standing-equation",
   "metadata": {},
   "outputs": [
    {
     "data": {
      "text/plain": [
       "tensor(1.1658e-06, grad_fn=<MeanBackward0>)"
      ]
     },
     "execution_count": 106,
     "metadata": {},
     "output_type": "execute_result"
    }
   ],
   "source": [
    "calc_mse_test(normed_test_data[:, 2], pred[:, 2])#MSE for eta"
   ]
  },
  {
   "cell_type": "code",
   "execution_count": 105,
   "id": "acquired-figure",
   "metadata": {},
   "outputs": [
    {
     "data": {
      "text/plain": [
       "tensor(1.3925e-06, grad_fn=<MeanBackward0>)"
      ]
     },
     "execution_count": 105,
     "metadata": {},
     "output_type": "execute_result"
    }
   ],
   "source": [
    "calc_mse_test(normed_test_data[:, 3], pred[:, 3])#MSE for phi"
   ]
  },
  {
   "cell_type": "code",
   "execution_count": null,
   "id": "basic-pioneer",
   "metadata": {},
   "outputs": [],
   "source": []
  }
 ],
 "metadata": {
  "kernelspec": {
   "display_name": "gsoc",
   "language": "python",
   "name": "gsoc"
  },
  "language_info": {
   "codemirror_mode": {
    "name": "ipython",
    "version": 3
   },
   "file_extension": ".py",
   "mimetype": "text/x-python",
   "name": "python",
   "nbconvert_exporter": "python",
   "pygments_lexer": "ipython3",
   "version": "3.8.8"
  }
 },
 "nbformat": 4,
 "nbformat_minor": 5
}
