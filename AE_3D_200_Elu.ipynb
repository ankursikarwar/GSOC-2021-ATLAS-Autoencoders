{
 "cells": [
  {
   "cell_type": "markdown",
   "id": "pursuant-photography",
   "metadata": {},
   "source": [
    "## **In this notebook, we use following autoencoder for compression.**"
   ]
  },
  {
   "cell_type": "markdown",
   "id": "cooperative-cemetery",
   "metadata": {},
   "source": [
    "><ul>\n",
    "><li>Preprocessing: Custom Normalization $E$ -> $(\\log_{10} E) / 3$, $p_T$ -> $(\\log_{10} p_T) / 3$, $\\eta$ -> $\\eta / 3$, $\\phi$ -> $\\phi / 3$</li>\n",
    "><li>Architecture: in-200-200-20-3-20-200-200-out</li>\n",
    "><li>Elu Activation</li>\n",
    "><li>No BatchNorm</li>\n",
    "><li>Epoch: 200</li>\n",
    "></ul>"
   ]
  },
  {
   "cell_type": "code",
   "execution_count": 1,
   "id": "accompanied-observation",
   "metadata": {},
   "outputs": [],
   "source": [
    "import time\n",
    "import numpy as np\n",
    "import pandas as pd\n",
    "import matplotlib.pyplot as plt\n",
    "\n",
    "import torch\n",
    "import torch.nn as nn\n",
    "import torch.optim as optim\n",
    "import torch.utils.data\n",
    "from torch.autograd import Variable\n",
    "\n",
    "from torch.utils.data import TensorDataset\n",
    "from torch.utils.data import DataLoader\n",
    "\n",
    "from fastai import learner\n",
    "from fastai.data import core\n",
    "from fastai.metrics import mse\n",
    "from fastai.callback import schedule"
   ]
  },
  {
   "cell_type": "code",
   "execution_count": 27,
   "id": "british-sport",
   "metadata": {},
   "outputs": [],
   "source": [
    "params = {'legend.fontsize': 'x-large',\n",
    "          'figure.figsize': (15, 15),\n",
    "         'axes.labelsize': 'x-large',\n",
    "         'axes.titlesize':'x-large',\n",
    "         'xtick.labelsize':'x-large',\n",
    "         'ytick.labelsize':'x-large'}\n",
    "plt.rcParams.update(params)"
   ]
  },
  {
   "cell_type": "code",
   "execution_count": 2,
   "id": "further-engineering",
   "metadata": {},
   "outputs": [],
   "source": [
    "unnormed_train_path = './jet_data_unnormed_80train.pkl'\n",
    "unnormed_test_path = './jet_data_unnormed_20test.pkl'\n",
    "\n",
    "unnormed_train = pd.read_pickle(unnormed_train_path)\n",
    "unnormed_test = pd.read_pickle(unnormed_test_path)"
   ]
  },
  {
   "cell_type": "code",
   "execution_count": 3,
   "id": "curious-paragraph",
   "metadata": {},
   "outputs": [],
   "source": [
    "def get_custom_normalize_data():\n",
    "    \n",
    "    train = pd.read_pickle(unnormed_train_path)\n",
    "    test = pd.read_pickle(unnormed_test_path)\n",
    "    train['pt'] = train['pt'].apply(lambda x: np.log10(x) / 3.)\n",
    "    train['E'] = train['E'].apply(lambda x: np.log10(x)  / 3.)\n",
    "    train['eta'] = train['eta'] / 3.\n",
    "    train['phi'] = train['phi'] / 3.\n",
    "    \n",
    "    test['pt'] = test['pt'].apply(lambda x: np.log10(x) / 3.)\n",
    "    test['E'] = test['E'].apply(lambda x: np.log10(x) / 3.)\n",
    "    test['eta'] = test['eta'] / 3.\n",
    "    test['phi'] = test['phi'] / 3.\n",
    "\n",
    "    return train.astype('float32'), test.astype('float32')"
   ]
  },
  {
   "cell_type": "code",
   "execution_count": 4,
   "id": "secure-shanghai",
   "metadata": {},
   "outputs": [],
   "source": [
    "train, test = get_custom_normalize_data()"
   ]
  },
  {
   "cell_type": "code",
   "execution_count": 5,
   "id": "durable-westminster",
   "metadata": {},
   "outputs": [
    {
     "data": {
      "text/html": [
       "<div>\n",
       "<style scoped>\n",
       "    .dataframe tbody tr th:only-of-type {\n",
       "        vertical-align: middle;\n",
       "    }\n",
       "\n",
       "    .dataframe tbody tr th {\n",
       "        vertical-align: top;\n",
       "    }\n",
       "\n",
       "    .dataframe thead th {\n",
       "        text-align: right;\n",
       "    }\n",
       "</style>\n",
       "<table border=\"1\" class=\"dataframe\">\n",
       "  <thead>\n",
       "    <tr style=\"text-align: right;\">\n",
       "      <th></th>\n",
       "      <th>E</th>\n",
       "      <th>pt</th>\n",
       "      <th>eta</th>\n",
       "      <th>phi</th>\n",
       "    </tr>\n",
       "  </thead>\n",
       "  <tbody>\n",
       "    <tr>\n",
       "      <th>11092</th>\n",
       "      <td>73356.1</td>\n",
       "      <td>68288.8</td>\n",
       "      <td>-0.364836</td>\n",
       "      <td>-2.683820</td>\n",
       "    </tr>\n",
       "    <tr>\n",
       "      <th>6607</th>\n",
       "      <td>155625.0</td>\n",
       "      <td>114949.0</td>\n",
       "      <td>0.809188</td>\n",
       "      <td>3.009770</td>\n",
       "    </tr>\n",
       "    <tr>\n",
       "      <th>9670</th>\n",
       "      <td>36304.3</td>\n",
       "      <td>27072.0</td>\n",
       "      <td>0.792701</td>\n",
       "      <td>0.196966</td>\n",
       "    </tr>\n",
       "    <tr>\n",
       "      <th>13354</th>\n",
       "      <td>329132.0</td>\n",
       "      <td>280958.0</td>\n",
       "      <td>-0.575831</td>\n",
       "      <td>2.154610</td>\n",
       "    </tr>\n",
       "    <tr>\n",
       "      <th>16500</th>\n",
       "      <td>855691.0</td>\n",
       "      <td>647140.0</td>\n",
       "      <td>0.781380</td>\n",
       "      <td>-3.058920</td>\n",
       "    </tr>\n",
       "  </tbody>\n",
       "</table>\n",
       "</div>"
      ],
      "text/plain": [
       "              E        pt       eta       phi\n",
       "11092   73356.1   68288.8 -0.364836 -2.683820\n",
       "6607   155625.0  114949.0  0.809188  3.009770\n",
       "9670    36304.3   27072.0  0.792701  0.196966\n",
       "13354  329132.0  280958.0 -0.575831  2.154610\n",
       "16500  855691.0  647140.0  0.781380 -3.058920"
      ]
     },
     "execution_count": 5,
     "metadata": {},
     "output_type": "execute_result"
    }
   ],
   "source": [
    "unnormed_train.head()"
   ]
  },
  {
   "cell_type": "code",
   "execution_count": 6,
   "id": "competent-absolute",
   "metadata": {},
   "outputs": [
    {
     "data": {
      "text/html": [
       "<div>\n",
       "<style scoped>\n",
       "    .dataframe tbody tr th:only-of-type {\n",
       "        vertical-align: middle;\n",
       "    }\n",
       "\n",
       "    .dataframe tbody tr th {\n",
       "        vertical-align: top;\n",
       "    }\n",
       "\n",
       "    .dataframe thead th {\n",
       "        text-align: right;\n",
       "    }\n",
       "</style>\n",
       "<table border=\"1\" class=\"dataframe\">\n",
       "  <thead>\n",
       "    <tr style=\"text-align: right;\">\n",
       "      <th></th>\n",
       "      <th>E</th>\n",
       "      <th>pt</th>\n",
       "      <th>eta</th>\n",
       "      <th>phi</th>\n",
       "    </tr>\n",
       "  </thead>\n",
       "  <tbody>\n",
       "    <tr>\n",
       "      <th>11092</th>\n",
       "      <td>1.621812</td>\n",
       "      <td>1.611450</td>\n",
       "      <td>-0.121612</td>\n",
       "      <td>-0.894607</td>\n",
       "    </tr>\n",
       "    <tr>\n",
       "      <th>6607</th>\n",
       "      <td>1.730693</td>\n",
       "      <td>1.686835</td>\n",
       "      <td>0.269729</td>\n",
       "      <td>1.003257</td>\n",
       "    </tr>\n",
       "    <tr>\n",
       "      <th>9670</th>\n",
       "      <td>1.519986</td>\n",
       "      <td>1.477507</td>\n",
       "      <td>0.264234</td>\n",
       "      <td>0.065655</td>\n",
       "    </tr>\n",
       "    <tr>\n",
       "      <th>13354</th>\n",
       "      <td>1.839123</td>\n",
       "      <td>1.816214</td>\n",
       "      <td>-0.191944</td>\n",
       "      <td>0.718203</td>\n",
       "    </tr>\n",
       "    <tr>\n",
       "      <th>16500</th>\n",
       "      <td>1.977439</td>\n",
       "      <td>1.936999</td>\n",
       "      <td>0.260460</td>\n",
       "      <td>-1.019640</td>\n",
       "    </tr>\n",
       "  </tbody>\n",
       "</table>\n",
       "</div>"
      ],
      "text/plain": [
       "              E        pt       eta       phi\n",
       "11092  1.621812  1.611450 -0.121612 -0.894607\n",
       "6607   1.730693  1.686835  0.269729  1.003257\n",
       "9670   1.519986  1.477507  0.264234  0.065655\n",
       "13354  1.839123  1.816214 -0.191944  0.718203\n",
       "16500  1.977439  1.936999  0.260460 -1.019640"
      ]
     },
     "execution_count": 6,
     "metadata": {},
     "output_type": "execute_result"
    }
   ],
   "source": [
    "train.head()"
   ]
  },
  {
   "cell_type": "code",
   "execution_count": 7,
   "id": "qualified-prophet",
   "metadata": {},
   "outputs": [],
   "source": [
    "train_x = train\n",
    "test_x = test\n",
    "train_y = train_x\n",
    "test_y = test_x\n",
    "\n",
    "train_ds = TensorDataset(torch.tensor(train_x.values, dtype=torch.float), torch.tensor(train_y.values, dtype=torch.float))\n",
    "valid_ds = TensorDataset(torch.tensor(test_x.values, dtype=torch.float), torch.tensor(test_y.values, dtype=torch.float))"
   ]
  },
  {
   "cell_type": "code",
   "execution_count": 8,
   "id": "bored-handle",
   "metadata": {},
   "outputs": [],
   "source": [
    "bs = 256\n",
    "\n",
    "train_dl = DataLoader(train_ds, batch_size=bs, shuffle=False)\n",
    "valid_dl = DataLoader(valid_ds, batch_size=bs * 2)\n",
    "dls = core.DataLoaders(train_dl, valid_dl)"
   ]
  },
  {
   "cell_type": "code",
   "execution_count": 9,
   "id": "mexican-gothic",
   "metadata": {},
   "outputs": [],
   "source": [
    "class AE_3D_200_ELU(nn.Module):\n",
    "    def __init__(self, n_features=4):\n",
    "        super(AE_3D_200_ELU, self).__init__()\n",
    "        self.en1 = nn.Linear(n_features, 200)\n",
    "        self.en2 = nn.Linear(200, 200)\n",
    "        self.en3 = nn.Linear(200, 20)\n",
    "        self.en4 = nn.Linear(20, 3)\n",
    "        self.de1 = nn.Linear(3, 20)\n",
    "        self.de2 = nn.Linear(20, 200)\n",
    "        self.de3 = nn.Linear(200, 200)\n",
    "        self.de4 = nn.Linear(200, n_features)\n",
    "        self.elu = nn.ELU()\n",
    "\n",
    "    def encode(self, x):\n",
    "        return self.en4(self.elu(self.en3(self.elu(self.en2(self.elu(self.en1(x)))))))\n",
    "\n",
    "    def decode(self, x):\n",
    "        return self.de4(self.elu(self.de3(self.elu(self.de2(self.elu(self.de1(self.elu(x))))))))\n",
    "\n",
    "    def forward(self, x):\n",
    "        z = self.encode(x)\n",
    "        return self.decode(z)\n",
    "\n",
    "    def describe(self):\n",
    "        return 'in-200-200-20-3-20-200-200-out'\n",
    "\n",
    "model = AE_3D_200_ELU()"
   ]
  },
  {
   "cell_type": "code",
   "execution_count": 10,
   "id": "surprised-fortune",
   "metadata": {},
   "outputs": [],
   "source": [
    "loss_func = nn.MSELoss()\n",
    "\n",
    "wd = 1e-6\n",
    "\n",
    "recorder = learner.Recorder()\n",
    "learn = learner.Learner(dls, model=model, wd=wd, loss_func=loss_func, cbs=recorder)"
   ]
  },
  {
   "cell_type": "code",
   "execution_count": 11,
   "id": "pretty-headquarters",
   "metadata": {},
   "outputs": [
    {
     "name": "stdout",
     "output_type": "stream",
     "text": [
      "Learning rate with the minimum loss: 0.0013182567432522773\n",
      "Learning rate with the steepest gradient: 0.0008317637839354575\n"
     ]
    },
    {
     "data": {
      "image/png": "[encoded data removed]",
      "text/plain": [
       "<Figure size 432x288 with 1 Axes>"
      ]
     },
     "metadata": {
      "needs_background": "light"
     },
     "output_type": "display_data"
    }
   ],
   "source": [
    "lr_min, lr_steep = learn.lr_find()\n",
    "\n",
    "print('Learning rate with the minimum loss:', lr_min)\n",
    "print('Learning rate with the steepest gradient:', lr_steep)"
   ]
  },
  {
   "cell_type": "code",
   "execution_count": 12,
   "id": "intimate-monster",
   "metadata": {},
   "outputs": [
    {
     "name": "stdout",
     "output_type": "stream",
     "text": [
      "[0, 0.7920558452606201, 0.3267832100391388, '00:00']\n",
      "[0, 0.7920558452606201, 0.3267832100391388, '00:00']\n",
      "[1, 0.29341402649879456, 0.15606950223445892, '00:00']\n",
      "[1, 0.29341402649879456, 0.15606950223445892, '00:00']\n",
      "[2, 0.17301815748214722, 0.12136644124984741, '00:00']\n",
      "[2, 0.17301815748214722, 0.12136644124984741, '00:00']\n",
      "[3, 0.10457934439182281, 0.07331325858831406, '00:00']\n",
      "[3, 0.10457934439182281, 0.07331325858831406, '00:00']\n",
      "[4, 0.07533089071512222, 0.06308017671108246, '00:00']\n",
      "[4, 0.07533089071512222, 0.06308017671108246, '00:00']\n",
      "[5, 0.04748223349452019, 0.020995058119297028, '00:00']\n",
      "[5, 0.04748223349452019, 0.020995058119297028, '00:00']\n",
      "[6, 0.020547492429614067, 0.010534155182540417, '00:00']\n",
      "[6, 0.020547492429614067, 0.010534155182540417, '00:00']\n",
      "[7, 0.012011908926069736, 0.00823057908564806, '00:00']\n",
      "[7, 0.012011908926069736, 0.00823057908564806, '00:00']\n",
      "[8, 0.006873629987239838, 0.003088877536356449, '00:00']\n",
      "[8, 0.006873629987239838, 0.003088877536356449, '00:00']\n",
      "[9, 0.002897268859669566, 0.0013600911479443312, '00:00']\n",
      "[9, 0.002897268859669566, 0.0013600911479443312, '00:00']\n",
      "[10, 0.0014693584525957704, 0.0008941683918237686, '00:00']\n",
      "[10, 0.0014693584525957704, 0.0008941683918237686, '00:00']\n",
      "[11, 0.0008113860385492444, 0.0004911776632070541, '00:00']\n",
      "[11, 0.0008113860385492444, 0.0004911776632070541, '00:00']\n",
      "[12, 0.00046162016224116087, 0.00031941651832312346, '00:00']\n",
      "[12, 0.00046162016224116087, 0.00031941651832312346, '00:00']\n",
      "[13, 0.00030394468922168016, 0.00022266217274591327, '00:00']\n",
      "[13, 0.00030394468922168016, 0.00022266217274591327, '00:00']\n",
      "[14, 0.00024128705263137817, 0.00021786488650832325, '00:00']\n",
      "[14, 0.00024128705263137817, 0.00021786488650832325, '00:00']\n",
      "[15, 0.00020632008090615273, 0.00018052941595669836, '00:00']\n",
      "[15, 0.00020632008090615273, 0.00018052941595669836, '00:00']\n",
      "[16, 0.00022154480393510312, 0.00023078886442817748, '00:00']\n",
      "[16, 0.00022154480393510312, 0.00023078886442817748, '00:00']\n",
      "[17, 0.00020283232151996344, 0.00024292727175634354, '00:00']\n",
      "[17, 0.00020283232151996344, 0.00024292727175634354, '00:00']\n",
      "[18, 0.00019805684860330075, 0.0001568831066833809, '00:00']\n",
      "[18, 0.00019805684860330075, 0.0001568831066833809, '00:00']\n",
      "[19, 0.00021339603699743748, 0.00019732004147954285, '00:00']\n",
      "[19, 0.00021339603699743748, 0.00019732004147954285, '00:00']\n",
      "[20, 0.00021210944396443665, 0.00017694283451419324, '00:00']\n",
      "[20, 0.00021210944396443665, 0.00017694283451419324, '00:00']\n",
      "[21, 0.00025200447998940945, 0.00017906441644299775, '00:00']\n",
      "[21, 0.00025200447998940945, 0.00017906441644299775, '00:00']\n",
      "[22, 0.0002670195826794952, 0.0012906959746032953, '00:00']\n",
      "[22, 0.0002670195826794952, 0.0012906959746032953, '00:00']\n",
      "[23, 0.0002827320131473243, 0.0002685236686374992, '00:01']\n",
      "[23, 0.0002827320131473243, 0.0002685236686374992, '00:01']\n",
      "[24, 0.00028190112789161503, 0.0001557904324727133, '00:01']\n",
      "[24, 0.00028190112789161503, 0.0001557904324727133, '00:01']\n",
      "[25, 0.0003436103870626539, 0.0002773364831227809, '00:00']\n",
      "[25, 0.0003436103870626539, 0.0002773364831227809, '00:00']\n",
      "[26, 0.0003843103186227381, 0.00017377521726302803, '00:00']\n",
      "[26, 0.0003843103186227381, 0.00017377521726302803, '00:00']\n",
      "[27, 0.0004422933852765709, 8.746541425352916e-05, '00:01']\n",
      "[27, 0.0004422933852765709, 8.746541425352916e-05, '00:01']\n",
      "[28, 0.00047939716023392975, 0.00015571719268336892, '00:01']\n",
      "[28, 0.00047939716023392975, 0.00015571719268336892, '00:01']\n",
      "[29, 0.0004500807262957096, 9.657195187173784e-05, '00:00']\n",
      "[29, 0.0004500807262957096, 9.657195187173784e-05, '00:00']\n",
      "[30, 0.0006127063534222543, 0.0001235450617969036, '00:00']\n",
      "[30, 0.0006127063534222543, 0.0001235450617969036, '00:00']\n",
      "[31, 0.0005504111759364605, 0.0001881775533547625, '00:01']\n",
      "[31, 0.0005504111759364605, 0.0001881775533547625, '00:01']\n",
      "[32, 0.0005553493974730372, 0.00017626221233513206, '00:00']\n",
      "[32, 0.0005553493974730372, 0.00017626221233513206, '00:00']\n",
      "[33, 0.000691993860527873, 0.00014378245396073908, '00:00']\n",
      "[33, 0.000691993860527873, 0.00014378245396073908, '00:00']\n",
      "[34, 0.0008412013994529843, 0.0005541248247027397, '00:00']\n",
      "[34, 0.0008412013994529843, 0.0005541248247027397, '00:00']\n",
      "[35, 0.0006017002160660923, 0.0010009728139266372, '00:00']\n",
      "[35, 0.0006017002160660923, 0.0010009728139266372, '00:00']\n",
      "[36, 0.0007290624780580401, 0.00021481214207597077, '00:00']\n",
      "[36, 0.0007290624780580401, 0.00021481214207597077, '00:00']\n",
      "[37, 0.0008576000691391528, 0.0006678964709863067, '00:00']\n",
      "[37, 0.0008576000691391528, 0.0006678964709863067, '00:00']\n",
      "[38, 0.0006899023428559303, 0.0003357121313456446, '00:00']\n",
      "[38, 0.0006899023428559303, 0.0003357121313456446, '00:00']\n",
      "[39, 0.0007171762408688664, 0.0010980231454595923, '00:01']\n",
      "[39, 0.0007171762408688664, 0.0010980231454595923, '00:01']\n",
      "[40, 0.0009801533306017518, 0.00029132742201909423, '00:01']\n",
      "[40, 0.0009801533306017518, 0.00029132742201909423, '00:01']\n",
      "[41, 0.0009795030346140265, 0.001376646338030696, '00:01']\n",
      "[41, 0.0009795030346140265, 0.001376646338030696, '00:01']\n",
      "[42, 0.000773474108427763, 0.00014730972179677337, '00:01']\n",
      "[42, 0.000773474108427763, 0.00014730972179677337, '00:01']\n",
      "[43, 0.0006512493710033596, 0.00023711448011454195, '00:01']\n",
      "[43, 0.0006512493710033596, 0.00023711448011454195, '00:01']\n",
      "[44, 0.0007528722053393722, 0.00029327726224437356, '00:01']\n",
      "[44, 0.0007528722053393722, 0.00029327726224437356, '00:01']\n",
      "[45, 0.0007310074870474637, 0.00013799493899568915, '00:00']\n",
      "[45, 0.0007310074870474637, 0.00013799493899568915, '00:00']\n",
      "[46, 0.0006236889166757464, 0.0001896270114229992, '00:01']\n",
      "[46, 0.0006236889166757464, 0.0001896270114229992, '00:01']\n",
      "[47, 0.0007498239865526557, 0.002251874888315797, '00:00']\n",
      "[47, 0.0007498239865526557, 0.002251874888315797, '00:00']\n",
      "[48, 0.0006927219801582396, 0.0008543533040210605, '00:00']\n",
      "[48, 0.0006927219801582396, 0.0008543533040210605, '00:00']\n",
      "[49, 0.0005953250802122056, 0.00024932759697549045, '00:00']\n",
      "[49, 0.0005953250802122056, 0.00024932759697549045, '00:00']\n",
      "[50, 0.0005725653609260917, 0.00011507982708280906, '00:01']\n",
      "[50, 0.0005725653609260917, 0.00011507982708280906, '00:01']\n",
      "[51, 0.0005875861970707774, 0.0003137656021863222, '00:00']\n",
      "[51, 0.0005875861970707774, 0.0003137656021863222, '00:00']\n",
      "[52, 0.0005840850644744933, 0.0007746408227831125, '00:00']\n",
      "[52, 0.0005840850644744933, 0.0007746408227831125, '00:00']\n",
      "[53, 0.0006029882933944464, 0.00010818358714459464, '00:01']\n",
      "[53, 0.0006029882933944464, 0.00010818358714459464, '00:01']\n",
      "[54, 0.00047482812078669667, 0.00044060288928449154, '00:00']\n",
      "[54, 0.00047482812078669667, 0.00044060288928449154, '00:00']\n",
      "[55, 0.00044188284664414823, 5.433764454210177e-05, '00:01']\n",
      "[55, 0.00044188284664414823, 5.433764454210177e-05, '00:01']\n",
      "[56, 0.0004852229612879455, 0.0001969209552044049, '00:00']\n",
      "[56, 0.0004852229612879455, 0.0001969209552044049, '00:00']\n",
      "[57, 0.0005169821670278907, 0.00017296578153036535, '00:00']\n",
      "[57, 0.0005169821670278907, 0.00017296578153036535, '00:00']\n",
      "[58, 0.00038048377609811723, 0.0002189028891734779, '00:01']\n",
      "[58, 0.00038048377609811723, 0.0002189028891734779, '00:01']\n",
      "[59, 0.00039785142871551216, 0.00021486896730493754, '00:00']\n",
      "[59, 0.00039785142871551216, 0.00021486896730493754, '00:00']\n",
      "[60, 0.0004078054626006633, 6.427127664210275e-05, '00:00']\n",
      "[60, 0.0004078054626006633, 6.427127664210275e-05, '00:00']\n",
      "[61, 0.00037033212720416486, 0.00011063871352234855, '00:00']\n",
      "[61, 0.00037033212720416486, 0.00011063871352234855, '00:00']\n",
      "[62, 0.000447036320110783, 0.000591946067288518, '00:01']\n",
      "[62, 0.000447036320110783, 0.000591946067288518, '00:01']\n",
      "[63, 0.0003332536434754729, 0.0010361672611907125, '00:01']\n",
      "[63, 0.0003332536434754729, 0.0010361672611907125, '00:01']\n",
      "[64, 0.0003473936812952161, 0.0001063582458300516, '00:01']\n",
      "[64, 0.0003473936812952161, 0.0001063582458300516, '00:01']\n",
      "[65, 0.00033550881198607385, 0.0003284528502263129, '00:01']\n",
      "[65, 0.00033550881198607385, 0.0003284528502263129, '00:01']\n",
      "[66, 0.0003172490687575191, 0.00010038541950052604, '00:01']\n",
      "[66, 0.0003172490687575191, 0.00010038541950052604, '00:01']\n",
      "[67, 0.00031283762655220926, 4.6307217417052016e-05, '00:01']\n",
      "[67, 0.00031283762655220926, 4.6307217417052016e-05, '00:01']\n",
      "[68, 0.00031564105302095413, 6.893601675983518e-05, '00:01']\n",
      "[68, 0.00031564105302095413, 6.893601675983518e-05, '00:01']\n",
      "[69, 0.00038669485365971923, 0.00010612467303872108, '00:01']\n",
      "[69, 0.00038669485365971923, 0.00010612467303872108, '00:01']\n",
      "[70, 0.00026036801864393055, 0.0006950418464839458, '00:01']\n",
      "[70, 0.00026036801864393055, 0.0006950418464839458, '00:01']\n",
      "[71, 0.0002563378366176039, 0.0004049308772664517, '00:01']\n",
      "[71, 0.0002563378366176039, 0.0004049308772664517, '00:01']\n",
      "[72, 0.0002602639433462173, 0.0005829748115502298, '00:01']\n",
      "[72, 0.0002602639433462173, 0.0005829748115502298, '00:01']\n",
      "[73, 0.00023688809596933424, 0.00010222038690699264, '00:01']\n",
      "[73, 0.00023688809596933424, 0.00010222038690699264, '00:01']\n",
      "[74, 0.00024684483651071787, 0.00016492769645992666, '00:01']\n",
      "[74, 0.00024684483651071787, 0.00016492769645992666, '00:01']\n",
      "[75, 0.00024784886045381427, 0.00020371063146740198, '00:01']\n",
      "[75, 0.00024784886045381427, 0.00020371063146740198, '00:01']\n",
      "[76, 0.00020990641496609896, 0.0002561935398261994, '00:01']\n",
      "[76, 0.00020990641496609896, 0.0002561935398261994, '00:01']\n",
      "[77, 0.00020627329649869353, 0.0005814559990540147, '00:01']\n",
      "[77, 0.00020627329649869353, 0.0005814559990540147, '00:01']\n",
      "[78, 0.00017115933587774634, 0.00030035272357054055, '00:01']\n",
      "[78, 0.00017115933587774634, 0.00030035272357054055, '00:01']\n",
      "[79, 0.00021915085380896926, 0.00020717665029224008, '00:00']\n",
      "[79, 0.00021915085380896926, 0.00020717665029224008, '00:00']\n",
      "[80, 0.0002370228903600946, 0.0002165983314625919, '00:00']\n",
      "[80, 0.0002370228903600946, 0.0002165983314625919, '00:00']\n",
      "[81, 0.00019474743749015033, 8.749391417950392e-05, '00:00']\n",
      "[81, 0.00019474743749015033, 8.749391417950392e-05, '00:00']\n",
      "[82, 0.000299072009511292, 0.0003742534026969224, '00:01']\n",
      "[82, 0.000299072009511292, 0.0003742534026969224, '00:01']\n",
      "[83, 0.00016603183757979423, 0.00015628329128958285, '00:01']\n",
      "[83, 0.00016603183757979423, 0.00015628329128958285, '00:01']\n",
      "[84, 0.0001922858937177807, 3.246758569730446e-05, '00:01']\n",
      "[84, 0.0001922858937177807, 3.246758569730446e-05, '00:01']\n",
      "[85, 0.00017882628890220076, 4.1903094825102016e-05, '00:00']\n",
      "[85, 0.00017882628890220076, 4.1903094825102016e-05, '00:00']\n",
      "[86, 0.00013458420289680362, 6.340511026792228e-05, '00:00']\n",
      "[86, 0.00013458420289680362, 6.340511026792228e-05, '00:00']\n",
      "[87, 0.0001615067303646356, 9.515502460999414e-05, '00:00']\n",
      "[87, 0.0001615067303646356, 9.515502460999414e-05, '00:00']\n",
      "[88, 0.00012805992446374148, 2.3750169930281118e-05, '00:00']\n",
      "[88, 0.00012805992446374148, 2.3750169930281118e-05, '00:00']\n",
      "[89, 0.0001763246691552922, 0.0003279102093074471, '00:00']\n",
      "[89, 0.0001763246691552922, 0.0003279102093074471, '00:00']\n",
      "[90, 0.00011974549852311611, 8.956523379310966e-05, '00:00']\n",
      "[90, 0.00011974549852311611, 8.956523379310966e-05, '00:00']\n",
      "[91, 0.00012740641250275075, 0.00020728805975522846, '00:01']\n",
      "[91, 0.00012740641250275075, 0.00020728805975522846, '00:01']\n",
      "[92, 0.0001123666443163529, 0.0001075605396181345, '00:00']\n",
      "[92, 0.0001123666443163529, 0.0001075605396181345, '00:00']\n",
      "[93, 0.00013574576587416232, 0.00012139422324253246, '00:01']\n",
      "[93, 0.00013574576587416232, 0.00012139422324253246, '00:01']\n",
      "[94, 0.00014920927060302347, 7.035260205157101e-05, '00:01']\n",
      "[94, 0.00014920927060302347, 7.035260205157101e-05, '00:01']\n",
      "[95, 0.00012152746057836339, 5.212228643358685e-05, '00:01']\n",
      "[95, 0.00012152746057836339, 5.212228643358685e-05, '00:01']\n",
      "[96, 8.099102706182748e-05, 4.202171476208605e-05, '00:01']\n",
      "[96, 8.099102706182748e-05, 4.202171476208605e-05, '00:01']\n",
      "[97, 9.371564374305308e-05, 4.5099397539161146e-05, '00:01']\n",
      "[97, 9.371564374305308e-05, 4.5099397539161146e-05, '00:01']\n",
      "[98, 8.24811213533394e-05, 0.00011238735896768048, '00:01']\n",
      "[98, 8.24811213533394e-05, 0.00011238735896768048, '00:01']\n",
      "[99, 8.098207763396204e-05, 1.8658731278264895e-05, '00:01']\n",
      "[99, 8.098207763396204e-05, 1.8658731278264895e-05, '00:01']\n",
      "[100, 0.00011854226613650098, 4.717228148365393e-05, '00:01']\n",
      "[100, 0.00011854226613650098, 4.717228148365393e-05, '00:01']\n",
      "[101, 8.409511065110564e-05, 5.087699173600413e-05, '00:01']\n",
      "[101, 8.409511065110564e-05, 5.087699173600413e-05, '00:01']\n",
      "[102, 7.191119220806286e-05, 2.847302494046744e-05, '00:01']\n",
      "[102, 7.191119220806286e-05, 2.847302494046744e-05, '00:01']\n",
      "[103, 6.442563608288765e-05, 5.122363654663786e-05, '00:01']\n",
      "[103, 6.442563608288765e-05, 5.122363654663786e-05, '00:01']\n",
      "[104, 6.792582280468196e-05, 8.84477558429353e-05, '00:00']\n",
      "[104, 6.792582280468196e-05, 8.84477558429353e-05, '00:00']\n",
      "[105, 6.328231393126771e-05, 4.903101216768846e-05, '00:01']\n",
      "[105, 6.328231393126771e-05, 4.903101216768846e-05, '00:01']\n",
      "[106, 7.61949413572438e-05, 4.7653524234192446e-05, '00:01']\n",
      "[106, 7.61949413572438e-05, 4.7653524234192446e-05, '00:01']\n",
      "[107, 5.806482658954337e-05, 6.578431202797219e-05, '00:01']\n",
      "[107, 5.806482658954337e-05, 6.578431202797219e-05, '00:01']\n",
      "[108, 5.6941164075396955e-05, 2.5731045752763748e-05, '00:00']\n",
      "[108, 5.6941164075396955e-05, 2.5731045752763748e-05, '00:00']\n",
      "[109, 5.51511075173039e-05, 2.1514875697903335e-05, '00:01']\n",
      "[109, 5.51511075173039e-05, 2.1514875697903335e-05, '00:01']\n",
      "[110, 4.3629788706311956e-05, 1.8215927411802113e-05, '00:01']\n",
      "[110, 4.3629788706311956e-05, 1.8215927411802113e-05, '00:01']\n",
      "[111, 3.952119732275605e-05, 1.614616485312581e-05, '00:01']\n",
      "[111, 3.952119732275605e-05, 1.614616485312581e-05, '00:01']\n",
      "[112, 4.964129038853571e-05, 3.540890247677453e-05, '00:01']\n",
      "[112, 4.964129038853571e-05, 3.540890247677453e-05, '00:01']\n",
      "[113, 4.1393304854864255e-05, 1.8929180441773497e-05, '00:00']\n",
      "[113, 4.1393304854864255e-05, 1.8929180441773497e-05, '00:00']\n",
      "[114, 4.600910688168369e-05, 2.487426536390558e-05, '00:00']\n",
      "[114, 4.600910688168369e-05, 2.487426536390558e-05, '00:00']\n",
      "[115, 4.053949669469148e-05, 1.5067801541590597e-05, '00:00']\n",
      "[115, 4.053949669469148e-05, 1.5067801541590597e-05, '00:00']\n",
      "[116, 3.4982826036866754e-05, 1.2628265722014476e-05, '00:01']\n",
      "[116, 3.4982826036866754e-05, 1.2628265722014476e-05, '00:01']\n",
      "[117, 3.281330646132119e-05, 4.766475103679113e-05, '00:01']\n",
      "[117, 3.281330646132119e-05, 4.766475103679113e-05, '00:01']\n",
      "[118, 4.0293612983077765e-05, 4.6904497139621526e-05, '00:01']\n",
      "[118, 4.0293612983077765e-05, 4.6904497139621526e-05, '00:01']\n",
      "[119, 2.574763129814528e-05, 1.4407762137125246e-05, '00:00']\n",
      "[119, 2.574763129814528e-05, 1.4407762137125246e-05, '00:00']\n",
      "[120, 2.7148087610839866e-05, 2.3435819457517937e-05, '00:00']\n",
      "[120, 2.7148087610839866e-05, 2.3435819457517937e-05, '00:00']\n",
      "[121, 4.217902824166231e-05, 4.7435594751732424e-05, '00:00']\n",
      "[121, 4.217902824166231e-05, 4.7435594751732424e-05, '00:00']\n",
      "[122, 2.7943940949626267e-05, 4.0175302274292335e-05, '00:01']\n",
      "[122, 2.7943940949626267e-05, 4.0175302274292335e-05, '00:01']\n",
      "[123, 1.96277724171523e-05, 8.05495074018836e-05, '00:01']\n",
      "[123, 1.96277724171523e-05, 8.05495074018836e-05, '00:01']\n",
      "[124, 2.115177267114632e-05, 8.808491656964179e-06, '00:01']\n",
      "[124, 2.115177267114632e-05, 8.808491656964179e-06, '00:01']\n",
      "[125, 2.0816043615923263e-05, 1.0173936971114017e-05, '00:01']\n",
      "[125, 2.0816043615923263e-05, 1.0173936971114017e-05, '00:01']\n",
      "[126, 2.034389581240248e-05, 1.9933884686906822e-05, '00:00']\n",
      "[126, 2.034389581240248e-05, 1.9933884686906822e-05, '00:00']\n",
      "[127, 1.431220425729407e-05, 2.3680320737184957e-05, '00:01']\n",
      "[127, 1.431220425729407e-05, 2.3680320737184957e-05, '00:01']\n",
      "[128, 1.894074557640124e-05, 1.2773483831551857e-05, '00:01']\n",
      "[128, 1.894074557640124e-05, 1.2773483831551857e-05, '00:01']\n",
      "[129, 1.5472016457351856e-05, 9.853702067630365e-06, '00:01']\n",
      "[129, 1.5472016457351856e-05, 9.853702067630365e-06, '00:01']\n",
      "[130, 1.3522942026611418e-05, 9.611369023332372e-06, '00:01']\n",
      "[130, 1.3522942026611418e-05, 9.611369023332372e-06, '00:01']\n",
      "[131, 1.4062204172660131e-05, 4.269951023161411e-05, '00:00']\n",
      "[131, 1.4062204172660131e-05, 4.269951023161411e-05, '00:00']\n",
      "[132, 1.3434968423098326e-05, 2.2747133698430844e-05, '00:01']\n",
      "[132, 1.3434968423098326e-05, 2.2747133698430844e-05, '00:01']\n",
      "[133, 1.4333502804220188e-05, 5.382778908824548e-05, '00:00']\n",
      "[133, 1.4333502804220188e-05, 5.382778908824548e-05, '00:00']\n",
      "[134, 1.0960685358440969e-05, 8.327694558829535e-06, '00:00']\n",
      "[134, 1.0960685358440969e-05, 8.327694558829535e-06, '00:00']\n",
      "[135, 1.1144057680212427e-05, 1.536552190373186e-05, '00:01']\n",
      "[135, 1.1144057680212427e-05, 1.536552190373186e-05, '00:01']\n",
      "[136, 9.359778232465032e-06, 7.186822131188819e-06, '00:00']\n",
      "[136, 9.359778232465032e-06, 7.186822131188819e-06, '00:00']\n",
      "[137, 9.797659004107118e-06, 7.675497727177572e-06, '00:00']\n",
      "[137, 9.797659004107118e-06, 7.675497727177572e-06, '00:00']\n",
      "[138, 8.885831448424142e-06, 1.0621670298860408e-05, '00:00']\n",
      "[138, 8.885831448424142e-06, 1.0621670298860408e-05, '00:00']\n",
      "[139, 8.177317795343697e-06, 5.183521352591924e-06, '00:01']\n",
      "[139, 8.177317795343697e-06, 5.183521352591924e-06, '00:01']\n",
      "[140, 6.817302619310794e-06, 4.789103513758164e-06, '00:01']\n",
      "[140, 6.817302619310794e-06, 4.789103513758164e-06, '00:01']\n",
      "[141, 6.794839919166407e-06, 3.982859652751358e-06, '00:01']\n",
      "[141, 6.794839919166407e-06, 3.982859652751358e-06, '00:01']\n",
      "[142, 6.8692793320224155e-06, 7.315515176742338e-06, '00:00']\n",
      "[142, 6.8692793320224155e-06, 7.315515176742338e-06, '00:00']\n",
      "[143, 5.895184131077258e-06, 4.7528969844279345e-06, '00:01']\n",
      "[143, 5.895184131077258e-06, 4.7528969844279345e-06, '00:01']\n",
      "[144, 5.578777290793369e-06, 3.1449555990548106e-06, '00:01']\n",
      "[144, 5.578777290793369e-06, 3.1449555990548106e-06, '00:01']\n",
      "[145, 5.5184414122777525e-06, 1.010601863526972e-05, '00:00']\n",
      "[145, 5.5184414122777525e-06, 1.010601863526972e-05, '00:00']\n",
      "[146, 4.7024900595715735e-06, 6.442746325774351e-06, '00:01']\n",
      "[146, 4.7024900595715735e-06, 6.442746325774351e-06, '00:01']\n",
      "[147, 3.6531666864902945e-06, 3.3388382689736318e-06, '00:00']\n",
      "[147, 3.6531666864902945e-06, 3.3388382689736318e-06, '00:00']\n",
      "[148, 4.379508482088568e-06, 5.254383268038509e-06, '00:00']\n",
      "[148, 4.379508482088568e-06, 5.254383268038509e-06, '00:00']\n",
      "[149, 3.5557236515160184e-06, 2.8128206395194866e-06, '00:01']\n",
      "[149, 3.5557236515160184e-06, 2.8128206395194866e-06, '00:01']\n",
      "[150, 3.4634833809832344e-06, 5.181447704671882e-06, '00:01']\n",
      "[150, 3.4634833809832344e-06, 5.181447704671882e-06, '00:01']\n",
      "[151, 3.0444762160186656e-06, 4.59372904515476e-06, '00:00']\n",
      "[151, 3.0444762160186656e-06, 4.59372904515476e-06, '00:00']\n",
      "[152, 3.0468481782008894e-06, 3.4886472803918878e-06, '00:00']\n",
      "[152, 3.0468481782008894e-06, 3.4886472803918878e-06, '00:00']\n",
      "[153, 2.8900481083837803e-06, 2.7039113774662837e-06, '00:00']\n",
      "[153, 2.8900481083837803e-06, 2.7039113774662837e-06, '00:00']\n",
      "[154, 2.630059952934971e-06, 2.3443014924851013e-06, '00:00']\n",
      "[154, 2.630059952934971e-06, 2.3443014924851013e-06, '00:00']\n",
      "[155, 2.800424454107997e-06, 2.0398640572238946e-06, '00:00']\n",
      "[155, 2.800424454107997e-06, 2.0398640572238946e-06, '00:00']\n",
      "[156, 2.342895186302485e-06, 3.0713661089976085e-06, '00:00']\n",
      "[156, 2.342895186302485e-06, 3.0713661089976085e-06, '00:00']\n",
      "[157, 2.3761162992741447e-06, 2.061058012259309e-06, '00:00']\n",
      "[157, 2.3761162992741447e-06, 2.061058012259309e-06, '00:00']\n",
      "[158, 2.1384951196523616e-06, 2.4009593744267477e-06, '00:01']\n",
      "[158, 2.1384951196523616e-06, 2.4009593744267477e-06, '00:01']\n",
      "[159, 2.139553089364199e-06, 1.7868138684207224e-06, '00:00']\n",
      "[159, 2.139553089364199e-06, 1.7868138684207224e-06, '00:00']\n",
      "[160, 2.0035072338941973e-06, 2.013676066781045e-06, '00:00']\n",
      "[160, 2.0035072338941973e-06, 2.013676066781045e-06, '00:00']\n",
      "[161, 1.8526558278608718e-06, 1.9235851596022258e-06, '00:01']\n",
      "[161, 1.8526558278608718e-06, 1.9235851596022258e-06, '00:01']\n",
      "[162, 1.9104174953099573e-06, 2.1405869574664393e-06, '00:01']\n",
      "[162, 1.9104174953099573e-06, 2.1405869574664393e-06, '00:01']\n",
      "[163, 1.6887780702745658e-06, 1.5084415281307884e-06, '00:01']\n",
      "[163, 1.6887780702745658e-06, 1.5084415281307884e-06, '00:01']\n",
      "[164, 1.61425816713745e-06, 1.513379402240389e-06, '00:00']\n",
      "[164, 1.61425816713745e-06, 1.513379402240389e-06, '00:00']\n",
      "[165, 1.564541435072897e-06, 1.8947599755847477e-06, '00:01']\n",
      "[165, 1.564541435072897e-06, 1.8947599755847477e-06, '00:01']\n",
      "[166, 1.5840283822399215e-06, 1.4628174085373757e-06, '00:00']\n",
      "[166, 1.5840283822399215e-06, 1.4628174085373757e-06, '00:00']\n",
      "[167, 1.5755167623865418e-06, 1.804745693334553e-06, '00:01']\n",
      "[167, 1.5755167623865418e-06, 1.804745693334553e-06, '00:01']\n",
      "[168, 1.5866704643485718e-06, 1.3864082575310022e-06, '00:01']\n",
      "[168, 1.5866704643485718e-06, 1.3864082575310022e-06, '00:01']\n",
      "[169, 1.4013057807460427e-06, 1.2441554417819134e-06, '00:00']\n",
      "[169, 1.4013057807460427e-06, 1.2441554417819134e-06, '00:00']\n",
      "[170, 1.4190071624398115e-06, 1.552036792418221e-06, '00:00']\n",
      "[170, 1.4190071624398115e-06, 1.552036792418221e-06, '00:00']\n",
      "[171, 1.3671349279320566e-06, 1.3919180901211803e-06, '00:00']\n",
      "[171, 1.3671349279320566e-06, 1.3919180901211803e-06, '00:00']\n",
      "[172, 1.320377577940235e-06, 1.3247677088656928e-06, '00:00']\n",
      "[172, 1.320377577940235e-06, 1.3247677088656928e-06, '00:00']\n",
      "[173, 1.2706043435173342e-06, 1.2657743582167313e-06, '00:00']\n",
      "[173, 1.2706043435173342e-06, 1.2657743582167313e-06, '00:00']\n",
      "[174, 1.2191413816253771e-06, 1.285298367292853e-06, '00:00']\n",
      "[174, 1.2191413816253771e-06, 1.285298367292853e-06, '00:00']\n",
      "[175, 1.2032735412503826e-06, 1.2667941291510942e-06, '00:00']\n",
      "[175, 1.2032735412503826e-06, 1.2667941291510942e-06, '00:00']\n",
      "[176, 1.1932755796806305e-06, 1.4434394870477263e-06, '00:01']\n",
      "[176, 1.1932755796806305e-06, 1.4434394870477263e-06, '00:01']\n",
      "[177, 1.204859131576086e-06, 1.2673514220296056e-06, '00:00']\n",
      "[177, 1.204859131576086e-06, 1.2673514220296056e-06, '00:00']\n",
      "[178, 1.1668149682009243e-06, 1.1740153240680229e-06, '00:00']\n",
      "[178, 1.1668149682009243e-06, 1.1740153240680229e-06, '00:00']\n",
      "[179, 1.1219398174944217e-06, 1.1516493714225362e-06, '00:00']\n",
      "[179, 1.1219398174944217e-06, 1.1516493714225362e-06, '00:00']\n",
      "[180, 1.1016130656571477e-06, 1.1769080856538494e-06, '00:00']\n",
      "[180, 1.1016130656571477e-06, 1.1769080856538494e-06, '00:00']\n",
      "[181, 1.100057033909252e-06, 1.1950545513172983e-06, '00:00']\n",
      "[181, 1.100057033909252e-06, 1.1950545513172983e-06, '00:00']\n",
      "[182, 1.0781495802802965e-06, 1.1425195225456264e-06, '00:00']\n",
      "[182, 1.0781495802802965e-06, 1.1425195225456264e-06, '00:00']\n",
      "[183, 1.0609833225316834e-06, 1.1109384558949387e-06, '00:01']\n",
      "[183, 1.0609833225316834e-06, 1.1109384558949387e-06, '00:01']\n",
      "[184, 1.0473620477569057e-06, 1.1101082009190577e-06, '00:01']\n",
      "[184, 1.0473620477569057e-06, 1.1101082009190577e-06, '00:01']\n",
      "[185, 1.0347654324505129e-06, 1.099355813494185e-06, '00:00']\n",
      "[185, 1.0347654324505129e-06, 1.099355813494185e-06, '00:00']\n",
      "[186, 1.0359473208154668e-06, 1.074613237506128e-06, '00:00']\n",
      "[186, 1.0359473208154668e-06, 1.074613237506128e-06, '00:00']\n",
      "[187, 1.0192176205237047e-06, 1.0809135346789844e-06, '00:00']\n",
      "[187, 1.0192176205237047e-06, 1.0809135346789844e-06, '00:00']\n",
      "[188, 1.0168168955715373e-06, 1.09106201762188e-06, '00:00']\n",
      "[188, 1.0168168955715373e-06, 1.09106201762188e-06, '00:00']\n",
      "[189, 1.012326492855209e-06, 1.0873037581404787e-06, '00:00']\n",
      "[189, 1.012326492855209e-06, 1.0873037581404787e-06, '00:00']\n",
      "[190, 1.0069892368846922e-06, 1.0895581681324984e-06, '00:00']\n",
      "[190, 1.0069892368846922e-06, 1.0895581681324984e-06, '00:00']\n",
      "[191, 9.985056976802298e-07, 1.067894118023105e-06, '00:01']\n",
      "[191, 9.985056976802298e-07, 1.067894118023105e-06, '00:01']\n",
      "[192, 9.914780321196304e-07, 1.0656666518116253e-06, '00:01']\n",
      "[192, 9.914780321196304e-07, 1.0656666518116253e-06, '00:01']\n",
      "[193, 9.864832009043312e-07, 1.0611306606733706e-06, '00:01']\n",
      "[193, 9.864832009043312e-07, 1.0611306606733706e-06, '00:01']\n",
      "[194, 9.847790352068841e-07, 1.0633420970407315e-06, '00:01']\n",
      "[194, 9.847790352068841e-07, 1.0633420970407315e-06, '00:01']\n",
      "[195, 9.84265739134571e-07, 1.05379967862973e-06, '00:01']\n",
      "[195, 9.84265739134571e-07, 1.05379967862973e-06, '00:01']\n",
      "[196, 9.791506272449624e-07, 1.0529271321502165e-06, '00:00']\n",
      "[196, 9.791506272449624e-07, 1.0529271321502165e-06, '00:00']\n",
      "[197, 9.774822729013977e-07, 1.0541709798417287e-06, '00:01']\n",
      "[197, 9.774822729013977e-07, 1.0541709798417287e-06, '00:01']\n",
      "[198, 9.76549017650541e-07, 1.0531224461374222e-06, '00:01']\n",
      "[198, 9.76549017650541e-07, 1.0531224461374222e-06, '00:01']\n",
      "[199, 9.751797733770218e-07, 1.05266349237354e-06, '00:01']\n",
      "[199, 9.751797733770218e-07, 1.05266349237354e-06, '00:01']\n",
      "Training took 198.1143972230002 seconds\n"
     ]
    }
   ],
   "source": [
    "start = time.perf_counter() # Starts timer\n",
    "learn.fit_one_cycle(n_epoch=200, lr_max=lr_min)\n",
    "end = time.perf_counter() # Ends timer\n",
    "delta_t = end - start\n",
    "print('Training took', delta_t, 'seconds')"
   ]
  },
  {
   "cell_type": "code",
   "execution_count": 13,
   "id": "stock-liquid",
   "metadata": {},
   "outputs": [
    {
     "data": {
      "image/png": "[encoded data removed]",
      "text/plain": [
       "<Figure size 432x288 with 1 Axes>"
      ]
     },
     "metadata": {
      "needs_background": "light"
     },
     "output_type": "display_data"
    }
   ],
   "source": [
    "recorder.plot_loss()"
   ]
  },
  {
   "cell_type": "code",
   "execution_count": 14,
   "id": "fuzzy-minimum",
   "metadata": {},
   "outputs": [
    {
     "data": {
      "text/plain": [
       "(#1) [1.05266349237354e-06]"
      ]
     },
     "execution_count": 14,
     "metadata": {},
     "output_type": "execute_result"
    }
   ],
   "source": [
    "learn.validate()"
   ]
  },
  {
   "cell_type": "code",
   "execution_count": 15,
   "id": "approximate-boating",
   "metadata": {},
   "outputs": [],
   "source": [
    "save_path = './Models/AE_3D_200_ELU_200Epoch.pt'\n",
    "torch.save(model.state_dict(), save_path)"
   ]
  },
  {
   "cell_type": "code",
   "execution_count": 16,
   "id": "trying-apparatus",
   "metadata": {},
   "outputs": [],
   "source": [
    "def calc_rms(arr):\n",
    "    arr = arr.flatten()\n",
    "    arr[arr == np.nan] = 1\n",
    "    return np.sqrt(np.sum(arr**2) / len(arr))"
   ]
  },
  {
   "cell_type": "code",
   "execution_count": 17,
   "id": "conventional-valentine",
   "metadata": {},
   "outputs": [],
   "source": [
    "def unnormalize_predictions(prediction):\n",
    "    \n",
    "    unnormed_pred = prediction.clone() \n",
    "    unnormed_pred[:, 0] = 10 ** (3 * pred[:, 0])\n",
    "    unnormed_pred[:, 1] = 10 ** (3 * pred[:, 1])\n",
    "    unnormed_pred[:, 2] = 3 * pred[:, 2]\n",
    "    unnormed_pred[:, 3] = 3 * pred[:, 3]\n",
    "    \n",
    "    return unnormed_pred"
   ]
  },
  {
   "cell_type": "code",
   "execution_count": 28,
   "id": "applied-diagnosis",
   "metadata": {},
   "outputs": [],
   "source": [
    "def plot_input_vs_output(unnormed_test_data, unnormed_test_pred, save=False):\n",
    "\n",
    "    n_bins = 100\n",
    "    colors = ['orange', 'c']\n",
    "    alph = 0.8\n",
    "\n",
    "\n",
    "    for kk in np.arange(4):\n",
    "        plt.subplot(2, 2, kk+1)\n",
    "        n_hist_data, bin_edges, _ = plt.hist(unnormed_test_data[:, kk].detach().numpy(), color=colors[1], label='Input', alpha=1, bins=n_bins)\n",
    "        n_hist_pred, _, _ = plt.hist(unnormed_test_pred[:, kk].detach().numpy(), color=colors[0], label='Output', alpha=alph, bins=bin_edges)\n",
    "        plt.xlabel(test.columns[kk])\n",
    "        plt.ylabel('Number of events')\n",
    "        plt.legend()\n",
    "        \n",
    "        if save:\n",
    "            plt.savefig(\"./Plots/AE_3D_200_ELU_200Epoch/input_vs_output_fourmomentum\",dpi=300)"
   ]
  },
  {
   "cell_type": "code",
   "execution_count": 32,
   "id": "crucial-singapore",
   "metadata": {},
   "outputs": [],
   "source": [
    "def plot_residuals(unnormed_test_data, unnormed_test_pred, save=False):\n",
    "    residual_strings = [r'$(E_{recon} - E_{true}) / E_{true}$',\n",
    "                        r'$(p_{T,recon} - p_{T,true}) / p_{T,true}$',\n",
    "                    r'$(\\eta_{recon} - \\eta_{true}) / \\eta_{true}$',\n",
    "                    r'$(\\phi_{recon} - \\phi_{true}) / \\phi_{true}$']\n",
    "    line_style = ['--', '-']\n",
    "    alph = 0.8\n",
    "    \n",
    "    residuals = (unnormed_test_pred.detach().numpy() - unnormed_test_data.detach().numpy()) / unnormed_test_data.detach().numpy()\n",
    "    range_res = (-.02, .02)\n",
    "\n",
    "\n",
    "    for kk in np.arange(4):\n",
    "        plt.subplot(2, 2, kk+1)\n",
    "        n_hist_pred, bin_edges, _ = plt.hist(residuals[:, kk], label='Residuals', linestyle=line_style[0], alpha=alph, bins=200, range=range_res)\n",
    "        plt.title('Residuals of %s' % test.columns[kk])\n",
    "        plt.xlabel(residual_strings[kk])\n",
    "        plt.ylabel('Number of jets')\n",
    "        plt.yscale('log')\n",
    "        rms = calc_rms(residuals[:, kk])\n",
    "        ax = plt.gca()\n",
    "        residuals_mean = residuals[:, kk].mean()\n",
    "        residuals_variance = residuals[:, kk].var()\n",
    "        plt.text(.2, .5, 'RMS = %f' % (rms), bbox={'facecolor': 'white', 'alpha': 0.7, 'pad': 10},\n",
    "                 horizontalalignment='center', verticalalignment='center', transform=ax.transAxes, fontsize=15)\n",
    "        plt.text(.24, .25, 'Mean = %f\\nVariance = %f' % (residuals_mean, residuals_variance), bbox={'facecolor': 'white', 'alpha': 0.7, 'pad': 10},\n",
    "                 horizontalalignment='center', verticalalignment='center', transform=ax.transAxes, fontsize=15)\n",
    "        if save:\n",
    "            plt.savefig(\"./Plots/AE_3D_200_ELU_200Epoch/residuals_fourmomentum\",dpi=300)"
   ]
  },
  {
   "cell_type": "code",
   "execution_count": 20,
   "id": "alone-spoke",
   "metadata": {},
   "outputs": [],
   "source": [
    "unnormed_test_data = torch.tensor(unnormed_test.values)\n",
    "normed_test_data = torch.tensor(test.values)\n",
    "\n",
    "pred = model(normed_test_data)\n",
    "\n",
    "unnormed_test_pred = unnormalize_predictions(pred)"
   ]
  },
  {
   "cell_type": "code",
   "execution_count": 21,
   "id": "norman-humanitarian",
   "metadata": {},
   "outputs": [
    {
     "name": "stdout",
     "output_type": "stream",
     "text": [
      "First 5 Input: \n",
      "tensor([[ 1.9355e+00,  1.9235e+00,  1.3025e-01,  4.1245e-01],\n",
      "        [ 1.8407e+00,  1.7004e+00,  5.3999e-01, -6.1841e-01],\n",
      "        [ 1.5587e+00,  1.5570e+00, -5.0219e-04,  8.1866e-01],\n",
      "        [ 1.5251e+00,  1.4985e+00,  2.0823e-01, -3.0359e-01],\n",
      "        [ 1.7020e+00,  1.4857e+00, -7.2400e-01,  8.5120e-01]])\n",
      "\n",
      "\n",
      "First 5 Output: \n",
      "tensor([[ 1.9349e+00,  1.9233e+00,  1.2980e-01,  4.1358e-01],\n",
      "        [ 1.8415e+00,  1.7012e+00,  5.4039e-01, -6.1737e-01],\n",
      "        [ 1.5590e+00,  1.5558e+00,  9.6932e-05,  8.1829e-01],\n",
      "        [ 1.5266e+00,  1.4976e+00,  2.0741e-01, -3.0207e-01],\n",
      "        [ 1.7023e+00,  1.4866e+00, -7.2454e-01,  8.5279e-01]],\n",
      "       grad_fn=<SliceBackward>)\n"
     ]
    }
   ],
   "source": [
    "print(\"First 5 Input: \")\n",
    "print(normed_test_data[0:5])\n",
    "print('\\n')\n",
    "print(\"First 5 Output: \")\n",
    "print(pred[0:5])"
   ]
  },
  {
   "cell_type": "code",
   "execution_count": 22,
   "id": "miniature-lebanon",
   "metadata": {},
   "outputs": [
    {
     "name": "stdout",
     "output_type": "stream",
     "text": [
      "First 5 Input: \n",
      "tensor([[ 6.4031e+05,  5.8952e+05,  3.9075e-01,  1.2373e+00],\n",
      "        [ 3.3279e+05,  1.2627e+05,  1.6200e+00, -1.8552e+00],\n",
      "        [ 4.7444e+04,  4.6892e+04, -1.5066e-03,  2.4560e+00],\n",
      "        [ 3.7600e+04,  3.1289e+04,  6.2468e-01, -9.1078e-01],\n",
      "        [ 1.2768e+05,  2.8651e+04, -2.1720e+00,  2.5536e+00]],\n",
      "       dtype=torch.float64)\n",
      "\n",
      "\n",
      "First 5 Output: \n",
      "tensor([[ 6.3782e+05,  5.8882e+05,  3.8939e-01,  1.2407e+00],\n",
      "        [ 3.3450e+05,  1.2695e+05,  1.6212e+00, -1.8521e+00],\n",
      "        [ 4.7528e+04,  4.6488e+04,  2.9080e-04,  2.4549e+00],\n",
      "        [ 3.8009e+04,  3.1112e+04,  6.2222e-01, -9.0621e-01],\n",
      "        [ 1.2789e+05,  2.8826e+04, -2.1736e+00,  2.5584e+00]],\n",
      "       grad_fn=<SliceBackward>)\n"
     ]
    }
   ],
   "source": [
    "print(\"First 5 Input: \")\n",
    "print(unnormed_test_data[0:5])\n",
    "print('\\n')\n",
    "print(\"First 5 Output: \")\n",
    "print(unnormed_test_pred[0:5])"
   ]
  },
  {
   "cell_type": "code",
   "execution_count": 30,
   "id": "southern-landing",
   "metadata": {},
   "outputs": [
    {
     "data": {
      "image/png": "[encoded data removed]",
      "text/plain": [
       "<Figure size 1080x1080 with 4 Axes>"
      ]
     },
     "metadata": {
      "needs_background": "light"
     },
     "output_type": "display_data"
    }
   ],
   "source": [
    "plot_input_vs_output(unnormed_test_data, unnormed_test_pred, save=True)"
   ]
  },
  {
   "cell_type": "code",
   "execution_count": 33,
   "id": "entire-breeding",
   "metadata": {},
   "outputs": [
    {
     "data": {
      "image/png": "[encoded data removed]",
      "text/plain": [
       "<Figure size 1080x1080 with 4 Axes>"
      ]
     },
     "metadata": {
      "needs_background": "light"
     },
     "output_type": "display_data"
    }
   ],
   "source": [
    "plot_residuals(unnormed_test_data, unnormed_test_pred, save=True)"
   ]
  },
  {
   "cell_type": "code",
   "execution_count": 25,
   "id": "rocky-satin",
   "metadata": {},
   "outputs": [],
   "source": [
    "def calc_mse_test(normed_test_data, pred):\n",
    "    return (normed_test_data - pred).square().mean()"
   ]
  },
  {
   "cell_type": "code",
   "execution_count": 26,
   "id": "noted-reward",
   "metadata": {},
   "outputs": [
    {
     "data": {
      "text/plain": [
       "tensor(1.0527e-06, grad_fn=<MeanBackward0>)"
      ]
     },
     "execution_count": 26,
     "metadata": {},
     "output_type": "execute_result"
    }
   ],
   "source": [
    "calc_mse_test(normed_test_data, pred)#Overall MSE"
   ]
  },
  {
   "cell_type": "code",
   "execution_count": 34,
   "id": "seasonal-gauge",
   "metadata": {},
   "outputs": [
    {
     "data": {
      "text/plain": [
       "tensor(9.1573e-07, grad_fn=<MeanBackward0>)"
      ]
     },
     "execution_count": 34,
     "metadata": {},
     "output_type": "execute_result"
    }
   ],
   "source": [
    "calc_mse_test(normed_test_data[:, 0], pred[:, 0])#MSE for E"
   ]
  },
  {
   "cell_type": "code",
   "execution_count": 35,
   "id": "demonstrated-volunteer",
   "metadata": {},
   "outputs": [
    {
     "data": {
      "text/plain": [
       "tensor(7.6774e-07, grad_fn=<MeanBackward0>)"
      ]
     },
     "execution_count": 35,
     "metadata": {},
     "output_type": "execute_result"
    }
   ],
   "source": [
    "calc_mse_test(normed_test_data[:, 1], pred[:, 1])#MSE for pt"
   ]
  },
  {
   "cell_type": "code",
   "execution_count": 36,
   "id": "assumed-portal",
   "metadata": {},
   "outputs": [
    {
     "data": {
      "text/plain": [
       "tensor(1.1037e-06, grad_fn=<MeanBackward0>)"
      ]
     },
     "execution_count": 36,
     "metadata": {},
     "output_type": "execute_result"
    }
   ],
   "source": [
    "calc_mse_test(normed_test_data[:, 2], pred[:, 2])#MSE for eta"
   ]
  },
  {
   "cell_type": "code",
   "execution_count": 37,
   "id": "intermediate-contributor",
   "metadata": {},
   "outputs": [
    {
     "data": {
      "text/plain": [
       "tensor(1.4234e-06, grad_fn=<MeanBackward0>)"
      ]
     },
     "execution_count": 37,
     "metadata": {},
     "output_type": "execute_result"
    }
   ],
   "source": [
    "calc_mse_test(normed_test_data[:, 3], pred[:, 3])#MSE for phi"
   ]
  },
  {
   "cell_type": "code",
   "execution_count": null,
   "id": "yellow-support",
   "metadata": {},
   "outputs": [],
   "source": []
  }
 ],
 "metadata": {
  "kernelspec": {
   "display_name": "gsoc",
   "language": "python",
   "name": "gsoc"
  },
  "language_info": {
   "codemirror_mode": {
    "name": "ipython",
    "version": 3
   },
   "file_extension": ".py",
   "mimetype": "text/x-python",
   "name": "python",
   "nbconvert_exporter": "python",
   "pygments_lexer": "ipython3",
   "version": "3.8.8"
  }
 },
 "nbformat": 4,
 "nbformat_minor": 5
}
